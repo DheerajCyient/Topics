{
 "cells": [
  {
   "cell_type": "markdown",
   "metadata": {},
   "source": [
    "# Topics – Easy Topic Modeling in Python\n",
    "\n",
    "The text mining technique **Topic Modeling** has become a popular statistical method for clustering documents. This [Jupyter notebook](http://jupyter.org/) introduces a step-by-step workflow, basically containing data preprocessing, the actual topic modeling using **latent Dirichlet allocation** (LDA), which learns the relationships between words, topics, and documents, as well as some interactive visualizations to explore the model.\n",
    "\n",
    "LDA, introduced in the context of text analysis in [2003](http://www.jmlr.org/papers/volume3/blei03a/blei03a.pdf), is an instance of a more general class of models called **mixed-membership models**. Involving a number of distributions and parameters, the topic model is typically performed using [Gibbs sampling](https://en.wikipedia.org/wiki/Gibbs_sampling) with conjugate priors and is purely based on word frequencies.\n",
    "\n",
    "There have been written numerous introductions to topic modeling for humanists (e.g. [this one](http://scottbot.net/topic-modeling-for-humanists-a-guided-tour/)), which provide another level of detail regarding its technical and epistemic properties.\n",
    "\n",
    "For this workflow, you will need a corpus (a set of texts) as plain text (`.txt`) or [TEI XML](http://www.tei-c.org/index.xml) (`.xml`). Using the `dariah_topics` package, you also have the ability to process the output of [DARIAH-DKPro-Wrapper](https://github.com/DARIAH-DE/DARIAH-DKPro-Wrapper), a command-line tool for *natural language processing*.\n",
    "\n",
    "Topic modeling works best with very large corpora. The [TextGrid Repository](https://textgridrep.org/) is a great place to start searching for text data. Anyway, to demonstrate the technique, we provide one small text collection in the folder `grenzboten_sample` containing 15 diary excerpts, as well as 15 war diary excerpts, which appeared in *Die Grenzboten*, a German newspaper of the late 19th and early 20th century.\n",
    "\n",
    "**Of course, you can work with your own corpus in this notebook.**\n",
    "\n",
    "We're relying on the LDA implementation by [Allen B. Riddell](https://www.ariddell.org/), called [lda](http://pythonhosted.org/lda/index.html), which is very lightweight. Aside from that, we provide two more Jupyter notebooks:\n",
    "\n",
    "* [IntroducingMallet](IntroducingMallet.ipynb), using LDA by [MALLET](http://mallet.cs.umass.edu/topics.php), which is known to be very robust. \n",
    "* [IntroducingGensim](IntroducingGensim.ipynb), using LDA by called [Gensim](https://radimrehurek.com/project/gensim/), which is attractive because of its multi-core support.\n",
    "\n",
    "For more information in general, have a look at the [documentation](http://dev.digital-humanities.de/ci/job/DARIAH-Topics/doclinks/1/)."
   ]
  },
  {
   "cell_type": "markdown",
   "metadata": {},
   "source": [
    "## First step: Installing dependencies\n",
    "\n",
    "To work within this Jupyter notebook, you will have to import the `dariah_topics` library. As you do, `dariah_topics` also imports a couple of external libraries, which have to be installed first. `pip` is the preferred installer program in Python. Starting with Python 3.4, it is included by default with the Python binary installers. If you are interested in `pip`, have a look at [this website](https://docs.python.org/3/installing/index.html).\n",
    "\n",
    "To install the `dariah_topics` library with all dependencies, open your commandline, go with `cd` to the folder `Topics` and run:\n",
    "\n",
    "```\n",
    "pip install -r requirements.txt\n",
    "```\n",
    "\n",
    "Alternatively, you can do:\n",
    "\n",
    "```\n",
    "python setup.py install\n",
    "```\n",
    "\n",
    "If you get any errors or are not able to install *all* dependencies properly, try [Stack Overflow](https://stackoverflow.com/questions/tagged/pip) for troubleshooting or create a new issue on our [GitHub page](https://github.com/DARIAH-DE/Topics).\n",
    "\n",
    "**Important**: If you are on macOS or Linux, you will have to use `pip3` and `python3`."
   ]
  },
  {
   "cell_type": "markdown",
   "metadata": {},
   "source": [
    "### Some final words\n",
    "As you probably already know, code has to be written in the grey cells. You execute a cell by clicking the **Run**-button (or **Ctrl + Enter**). If you want to run all cells of the notebook at once, click **Cell > Run All** or **Kernel > Restart & Run All** respectively, if you want to restart the Python kernel first. On the left side of an (unexecuted) cell stands `In [ ]:`. The empty bracket means, that the cell hasn't been executed yet. By clicking **Run**, a star appears in the brackets (`In [*]:`), which means the process is running. In most cases, you won't see that star, because your computer is faster than your eyes. You can execute only one cell at once, all following executions will be in the waiting line. If the process of a cell is done, a number appears in the brackets (`In [1]:`)."
   ]
  },
  {
   "cell_type": "markdown",
   "metadata": {
    "collapsed": true
   },
   "source": [
    "## Starting with topic modeling!\n",
    "\n",
    "Execute the following cell to import modules from the `dariah_topics` library."
   ]
  },
  {
   "cell_type": "code",
   "execution_count": 8,
   "metadata": {
    "collapsed": false
   },
   "outputs": [],
   "source": [
    "from dariah_topics import preprocessing\n",
    "from cophi_toolbox import preprocessing as pre\n",
    "from dariah_topics import meta\n",
    "from dariah_topics import postprocessing\n",
    "from dariah_topics import visualization"
   ]
  },
  {
   "cell_type": "markdown",
   "metadata": {},
   "source": [
    "Furthermore, we will need some additional functions from external libraries."
   ]
  },
  {
   "cell_type": "code",
   "execution_count": 9,
   "metadata": {
    "collapsed": true
   },
   "outputs": [],
   "source": [
    "from bokeh.io import show\n",
    "import lda"
   ]
  },
  {
   "cell_type": "markdown",
   "metadata": {},
   "source": [
    "Let's not pay heed to any warnings right now and execute the following cell."
   ]
  },
  {
   "cell_type": "code",
   "execution_count": 10,
   "metadata": {
    "collapsed": true
   },
   "outputs": [],
   "source": [
    "import warnings\n",
    "warnings.filterwarnings('ignore')"
   ]
  },
  {
   "cell_type": "markdown",
   "metadata": {},
   "source": [
    "The following line will just tell the notebook to show graphics in the output frames."
   ]
  },
  {
   "cell_type": "code",
   "execution_count": 11,
   "metadata": {
    "collapsed": true
   },
   "outputs": [],
   "source": [
    "%matplotlib inline"
   ]
  },
  {
   "cell_type": "markdown",
   "metadata": {},
   "source": [
    "## 1. Preprocessing"
   ]
  },
  {
   "cell_type": "markdown",
   "metadata": {},
   "source": [
    "### 1.2. Reading a corpus of documents"
   ]
  },
  {
   "cell_type": "markdown",
   "metadata": {},
   "source": [
    "#### Defining the path to the corpus folder\n",
    "\n",
    "In the present example code, we are using the 30 diary excerpts from the folder `grenzboten`. To use your own corpus, change the path accordingly."
   ]
  },
  {
   "cell_type": "code",
   "execution_count": 12,
   "metadata": {
    "collapsed": true
   },
   "outputs": [],
   "source": [
    "path_to_corpus = 'grenzboten_sample/*.txt'"
   ]
  },
  {
   "cell_type": "markdown",
   "metadata": {},
   "source": [
    "By adding `/*.txt` to the actual path, we make sure to select only files with the suffix `.txt`."
   ]
  },
  {
   "cell_type": "markdown",
   "metadata": {},
   "source": [
    "#### Accessing file paths and metadata\n",
    "We begin by creating a list of all the documents in the folder specified above. That list will tell the function `preprocessing.read_from_pathlist` (see below) which text documents to read. Furthermore, based on filenames we can create some metadata, e.g. author and title."
   ]
  },
  {
   "cell_type": "code",
   "execution_count": 13,
   "metadata": {
    "collapsed": false,
    "scrolled": true
   },
   "outputs": [
    {
     "data": {
      "text/html": [
       "<div>\n",
       "<style>\n",
       "    .dataframe thead tr:only-child th {\n",
       "        text-align: right;\n",
       "    }\n",
       "\n",
       "    .dataframe thead th {\n",
       "        text-align: left;\n",
       "    }\n",
       "\n",
       "    .dataframe tbody tr th {\n",
       "        vertical-align: top;\n",
       "    }\n",
       "</style>\n",
       "<table border=\"1\" class=\"dataframe\">\n",
       "  <thead>\n",
       "    <tr style=\"text-align: right;\">\n",
       "      <th></th>\n",
       "      <th>author</th>\n",
       "      <th>basename</th>\n",
       "      <th>filename</th>\n",
       "      <th>title</th>\n",
       "    </tr>\n",
       "  </thead>\n",
       "  <tbody>\n",
       "    <tr>\n",
       "      <th>0</th>\n",
       "      <td>Beck</td>\n",
       "      <td>Beck_1844_Tagebuch_56</td>\n",
       "      <td>grenzboten_sample\\Beck_1844_Tagebuch_56.txt</td>\n",
       "      <td>1844_Tagebuch_56</td>\n",
       "    </tr>\n",
       "    <tr>\n",
       "      <th>1</th>\n",
       "      <td>Unbekannt</td>\n",
       "      <td>Unbekannt_1844_Tagebuch_70</td>\n",
       "      <td>grenzboten_sample\\Unbekannt_1844_Tagebuch_70.txt</td>\n",
       "      <td>1844_Tagebuch_70</td>\n",
       "    </tr>\n",
       "    <tr>\n",
       "      <th>2</th>\n",
       "      <td>Nimmer</td>\n",
       "      <td>Nimmer_1844_Tagebuch_77</td>\n",
       "      <td>grenzboten_sample\\Nimmer_1844_Tagebuch_77.txt</td>\n",
       "      <td>1844_Tagebuch_77</td>\n",
       "    </tr>\n",
       "    <tr>\n",
       "      <th>3</th>\n",
       "      <td>Unbekannt</td>\n",
       "      <td>Unbekannt_1844_Tagebuch_82</td>\n",
       "      <td>grenzboten_sample\\Unbekannt_1844_Tagebuch_82.txt</td>\n",
       "      <td>1844_Tagebuch_82</td>\n",
       "    </tr>\n",
       "    <tr>\n",
       "      <th>4</th>\n",
       "      <td>Jörgel</td>\n",
       "      <td>Jörgel_1844_Tagebuch_88</td>\n",
       "      <td>grenzboten_sample\\Jörgel_1844_Tagebuch_88.txt</td>\n",
       "      <td>1844_Tagebuch_88</td>\n",
       "    </tr>\n",
       "  </tbody>\n",
       "</table>\n",
       "</div>"
      ],
      "text/plain": [
       "      author                    basename  \\\n",
       "0       Beck       Beck_1844_Tagebuch_56   \n",
       "1  Unbekannt  Unbekannt_1844_Tagebuch_70   \n",
       "2     Nimmer     Nimmer_1844_Tagebuch_77   \n",
       "3  Unbekannt  Unbekannt_1844_Tagebuch_82   \n",
       "4     Jörgel     Jörgel_1844_Tagebuch_88   \n",
       "\n",
       "                                           filename             title  \n",
       "0       grenzboten_sample\\Beck_1844_Tagebuch_56.txt  1844_Tagebuch_56  \n",
       "1  grenzboten_sample\\Unbekannt_1844_Tagebuch_70.txt  1844_Tagebuch_70  \n",
       "2     grenzboten_sample\\Nimmer_1844_Tagebuch_77.txt  1844_Tagebuch_77  \n",
       "3  grenzboten_sample\\Unbekannt_1844_Tagebuch_82.txt  1844_Tagebuch_82  \n",
       "4     grenzboten_sample\\Jörgel_1844_Tagebuch_88.txt  1844_Tagebuch_88  "
      ]
     },
     "execution_count": 13,
     "metadata": {},
     "output_type": "execute_result"
    }
   ],
   "source": [
    "metadata = meta.fn2metadata(path_to_corpus)\n",
    "metadata[:5] # by adding '[:5]' to the variable, only the first 5 elements will be printed"
   ]
  },
  {
   "cell_type": "markdown",
   "metadata": {},
   "source": [
    "#### Read listed documents from folder"
   ]
  },
  {
   "cell_type": "code",
   "execution_count": 14,
   "metadata": {
    "collapsed": false
   },
   "outputs": [
    {
     "data": {
      "text/plain": [
       "'Tagebuch von Karl Beck. Man spricht seit vierzehn Tagen von einem vollständigen Ministerwechsel und es circuliren im Publicum die verschiedensten Combinationen, wobei heute ganz andere Namen genannt werden, als gestern und morgen wieder andere, als heute.'"
      ]
     },
     "execution_count": 14,
     "metadata": {},
     "output_type": "execute_result"
    }
   ],
   "source": [
    "corpus = list(pre.read_from_pathlist(metadata['filename']))\n",
    "corpus[0][:255] # printing the first 255 characters of the first document"
   ]
  },
  {
   "cell_type": "markdown",
   "metadata": {},
   "source": [
    "Your `corpus` contains as much elements (`documents`) as texts in your corpus are. Each element of `corpus` is a list containing exactly one element, the text itself as one single string including all whitespaces and punctuations:\n",
    "\n",
    "```\n",
    "[['This is the content of your first document.'],\n",
    " ['This is the content of your second document.'],\n",
    " ...\n",
    " ['This is the content of your last document.']]\n",
    "```"
   ]
  },
  {
   "cell_type": "markdown",
   "metadata": {},
   "source": [
    "### 1.3. Tokenize corpus\n",
    "Now, your `documents` in `corpus` will be tokenized. Tokenization is the task of cutting a stream of characters into linguistic units, simply words or, more precisely, tokens. The tokenize function `dariah_topics` provides is a simple Unicode tokenizer. Depending on the corpus, it might be useful to use an external tokenizer function, or even develop your own, since its efficiency varies with language, epoch and text type."
   ]
  },
  {
   "cell_type": "code",
   "execution_count": 15,
   "metadata": {
    "collapsed": false
   },
   "outputs": [],
   "source": [
    "tokenized_corpus = [list(pre.tokenize(document)) for document in corpus]"
   ]
  },
  {
   "cell_type": "markdown",
   "metadata": {},
   "source": [
    "At this point, each `document` is represented by a list of separate token strings. As above, have a look at the first document (which has the index `0` as Python starts counting at 0) and show its first 14 words/tokens (that have the indices `0:13` accordingly)."
   ]
  },
  {
   "cell_type": "code",
   "execution_count": 16,
   "metadata": {
    "collapsed": false
   },
   "outputs": [
    {
     "data": {
      "text/plain": [
       "['tagebuch',\n",
       " 'von',\n",
       " 'karl',\n",
       " 'beck',\n",
       " 'man',\n",
       " 'spricht',\n",
       " 'seit',\n",
       " 'vierzehn',\n",
       " 'tagen',\n",
       " 'von',\n",
       " 'einem',\n",
       " 'vollständigen',\n",
       " 'ministerwechsel']"
      ]
     },
     "execution_count": 16,
     "metadata": {},
     "output_type": "execute_result"
    }
   ],
   "source": [
    "tokenized_corpus[0][0:13]"
   ]
  },
  {
   "cell_type": "markdown",
   "metadata": {},
   "source": [
    "### 1.4. Create a document-term matrix\n",
    "\n",
    "The LDA topic model is based on a [document-term matrix](https://en.wikipedia.org/wiki/Document-term_matrix) of the corpus. In a document-term matrix, rows correspond to documents and columns correspond to terms or tokens respectively. The values are token frequencies for each document."
   ]
  },
  {
   "cell_type": "code",
   "execution_count": 17,
   "metadata": {
    "collapsed": false,
    "scrolled": false
   },
   "outputs": [
    {
     "data": {
      "text/html": [
       "<div>\n",
       "<style>\n",
       "    .dataframe thead tr:only-child th {\n",
       "        text-align: right;\n",
       "    }\n",
       "\n",
       "    .dataframe thead th {\n",
       "        text-align: left;\n",
       "    }\n",
       "\n",
       "    .dataframe tbody tr th {\n",
       "        vertical-align: top;\n",
       "    }\n",
       "</style>\n",
       "<table border=\"1\" class=\"dataframe\">\n",
       "  <thead>\n",
       "    <tr style=\"text-align: right;\">\n",
       "      <th></th>\n",
       "      <th>die</th>\n",
       "      <th>der</th>\n",
       "      <th>und</th>\n",
       "      <th>in</th>\n",
       "      <th>den</th>\n",
       "      <th>von</th>\n",
       "      <th>zu</th>\n",
       "      <th>das</th>\n",
       "      <th>des</th>\n",
       "      <th>nicht</th>\n",
       "      <th>...</th>\n",
       "      <th>staatsmonopol</th>\n",
       "      <th>steigernde</th>\n",
       "      <th>staatspapieren</th>\n",
       "      <th>staatsrücksichten</th>\n",
       "      <th>staatszeitung</th>\n",
       "      <th>stallknecht</th>\n",
       "      <th>stammen</th>\n",
       "      <th>starkem</th>\n",
       "      <th>statu</th>\n",
       "      <th>subscriben</th>\n",
       "    </tr>\n",
       "  </thead>\n",
       "  <tbody>\n",
       "    <tr>\n",
       "      <th>1844_Tagebuch_56</th>\n",
       "      <td>90.0</td>\n",
       "      <td>92.0</td>\n",
       "      <td>84.0</td>\n",
       "      <td>70.0</td>\n",
       "      <td>30.0</td>\n",
       "      <td>26.0</td>\n",
       "      <td>25.0</td>\n",
       "      <td>16.0</td>\n",
       "      <td>25.0</td>\n",
       "      <td>23.0</td>\n",
       "      <td>...</td>\n",
       "      <td>0.0</td>\n",
       "      <td>0.0</td>\n",
       "      <td>0.0</td>\n",
       "      <td>0.0</td>\n",
       "      <td>0.0</td>\n",
       "      <td>0.0</td>\n",
       "      <td>0.0</td>\n",
       "      <td>0.0</td>\n",
       "      <td>0.0</td>\n",
       "      <td>0.0</td>\n",
       "    </tr>\n",
       "    <tr>\n",
       "      <th>1844_Tagebuch_70</th>\n",
       "      <td>205.0</td>\n",
       "      <td>224.0</td>\n",
       "      <td>193.0</td>\n",
       "      <td>133.0</td>\n",
       "      <td>78.0</td>\n",
       "      <td>64.0</td>\n",
       "      <td>112.0</td>\n",
       "      <td>86.0</td>\n",
       "      <td>45.0</td>\n",
       "      <td>67.0</td>\n",
       "      <td>...</td>\n",
       "      <td>0.0</td>\n",
       "      <td>0.0</td>\n",
       "      <td>0.0</td>\n",
       "      <td>0.0</td>\n",
       "      <td>0.0</td>\n",
       "      <td>0.0</td>\n",
       "      <td>0.0</td>\n",
       "      <td>0.0</td>\n",
       "      <td>0.0</td>\n",
       "      <td>0.0</td>\n",
       "    </tr>\n",
       "    <tr>\n",
       "      <th>1844_Tagebuch_77</th>\n",
       "      <td>181.0</td>\n",
       "      <td>153.0</td>\n",
       "      <td>141.0</td>\n",
       "      <td>98.0</td>\n",
       "      <td>55.0</td>\n",
       "      <td>59.0</td>\n",
       "      <td>72.0</td>\n",
       "      <td>59.0</td>\n",
       "      <td>44.0</td>\n",
       "      <td>41.0</td>\n",
       "      <td>...</td>\n",
       "      <td>0.0</td>\n",
       "      <td>0.0</td>\n",
       "      <td>0.0</td>\n",
       "      <td>0.0</td>\n",
       "      <td>0.0</td>\n",
       "      <td>0.0</td>\n",
       "      <td>0.0</td>\n",
       "      <td>0.0</td>\n",
       "      <td>0.0</td>\n",
       "      <td>0.0</td>\n",
       "    </tr>\n",
       "    <tr>\n",
       "      <th>1844_Tagebuch_82</th>\n",
       "      <td>213.0</td>\n",
       "      <td>207.0</td>\n",
       "      <td>169.0</td>\n",
       "      <td>128.0</td>\n",
       "      <td>85.0</td>\n",
       "      <td>86.0</td>\n",
       "      <td>79.0</td>\n",
       "      <td>80.0</td>\n",
       "      <td>66.0</td>\n",
       "      <td>67.0</td>\n",
       "      <td>...</td>\n",
       "      <td>0.0</td>\n",
       "      <td>0.0</td>\n",
       "      <td>0.0</td>\n",
       "      <td>0.0</td>\n",
       "      <td>0.0</td>\n",
       "      <td>0.0</td>\n",
       "      <td>0.0</td>\n",
       "      <td>0.0</td>\n",
       "      <td>0.0</td>\n",
       "      <td>0.0</td>\n",
       "    </tr>\n",
       "    <tr>\n",
       "      <th>1844_Tagebuch_88</th>\n",
       "      <td>68.0</td>\n",
       "      <td>59.0</td>\n",
       "      <td>70.0</td>\n",
       "      <td>54.0</td>\n",
       "      <td>22.0</td>\n",
       "      <td>27.0</td>\n",
       "      <td>28.0</td>\n",
       "      <td>19.0</td>\n",
       "      <td>13.0</td>\n",
       "      <td>11.0</td>\n",
       "      <td>...</td>\n",
       "      <td>0.0</td>\n",
       "      <td>0.0</td>\n",
       "      <td>0.0</td>\n",
       "      <td>0.0</td>\n",
       "      <td>0.0</td>\n",
       "      <td>0.0</td>\n",
       "      <td>0.0</td>\n",
       "      <td>0.0</td>\n",
       "      <td>0.0</td>\n",
       "      <td>0.0</td>\n",
       "    </tr>\n",
       "  </tbody>\n",
       "</table>\n",
       "<p>5 rows × 24451 columns</p>\n",
       "</div>"
      ],
      "text/plain": [
       "                    die    der    und     in   den   von     zu   das   des  \\\n",
       "1844_Tagebuch_56   90.0   92.0   84.0   70.0  30.0  26.0   25.0  16.0  25.0   \n",
       "1844_Tagebuch_70  205.0  224.0  193.0  133.0  78.0  64.0  112.0  86.0  45.0   \n",
       "1844_Tagebuch_77  181.0  153.0  141.0   98.0  55.0  59.0   72.0  59.0  44.0   \n",
       "1844_Tagebuch_82  213.0  207.0  169.0  128.0  85.0  86.0   79.0  80.0  66.0   \n",
       "1844_Tagebuch_88   68.0   59.0   70.0   54.0  22.0  27.0   28.0  19.0  13.0   \n",
       "\n",
       "                  nicht     ...      staatsmonopol  steigernde  \\\n",
       "1844_Tagebuch_56   23.0     ...                0.0         0.0   \n",
       "1844_Tagebuch_70   67.0     ...                0.0         0.0   \n",
       "1844_Tagebuch_77   41.0     ...                0.0         0.0   \n",
       "1844_Tagebuch_82   67.0     ...                0.0         0.0   \n",
       "1844_Tagebuch_88   11.0     ...                0.0         0.0   \n",
       "\n",
       "                  staatspapieren  staatsrücksichten  staatszeitung  \\\n",
       "1844_Tagebuch_56             0.0                0.0            0.0   \n",
       "1844_Tagebuch_70             0.0                0.0            0.0   \n",
       "1844_Tagebuch_77             0.0                0.0            0.0   \n",
       "1844_Tagebuch_82             0.0                0.0            0.0   \n",
       "1844_Tagebuch_88             0.0                0.0            0.0   \n",
       "\n",
       "                  stallknecht  stammen  starkem  statu  subscriben  \n",
       "1844_Tagebuch_56          0.0      0.0      0.0    0.0         0.0  \n",
       "1844_Tagebuch_70          0.0      0.0      0.0    0.0         0.0  \n",
       "1844_Tagebuch_77          0.0      0.0      0.0    0.0         0.0  \n",
       "1844_Tagebuch_82          0.0      0.0      0.0    0.0         0.0  \n",
       "1844_Tagebuch_88          0.0      0.0      0.0    0.0         0.0  \n",
       "\n",
       "[5 rows x 24451 columns]"
      ]
     },
     "execution_count": 17,
     "metadata": {},
     "output_type": "execute_result"
    }
   ],
   "source": [
    "document_term_matrix = pre.create_document_term_matrix(tokenized_corpus, metadata['title'])\n",
    "document_term_matrix[:5]"
   ]
  },
  {
   "cell_type": "markdown",
   "metadata": {},
   "source": [
    "### 1.5. Feature removal\n",
    "\n",
    "*Stopwords* (also known as *most frequent tokens*) and *hapax legomena* are harmful for LDA and have to be removed from the corpus or the document-term matrix respectively. In this example, the 50 most frequent tokens will be categorized as stopwords.\n",
    "\n",
    "**Hint**: Be careful with removing most frequent tokens, you might remove tokens quite important for LDA. Anyway, to gain better results, it is highly recommended to use an external stopwords list.\n",
    "\n",
    "In this notebook, we combine the 50 most frequent tokens, hapax legomena and an external stopwordslist."
   ]
  },
  {
   "cell_type": "markdown",
   "metadata": {},
   "source": [
    "#### List the 100 most frequent tokens"
   ]
  },
  {
   "cell_type": "code",
   "execution_count": 18,
   "metadata": {
    "collapsed": true
   },
   "outputs": [],
   "source": [
    "stopwords = pre.find_stopwords(document_term_matrix, most_frequent_tokens=100)"
   ]
  },
  {
   "cell_type": "markdown",
   "metadata": {},
   "source": [
    "These are the five most frequent words:"
   ]
  },
  {
   "cell_type": "code",
   "execution_count": 19,
   "metadata": {
    "collapsed": false,
    "scrolled": true
   },
   "outputs": [
    {
     "data": {
      "text/plain": [
       "['die', 'der', 'und', 'in', 'den']"
      ]
     },
     "execution_count": 19,
     "metadata": {},
     "output_type": "execute_result"
    }
   ],
   "source": [
    "stopwords[:5]"
   ]
  },
  {
   "cell_type": "markdown",
   "metadata": {},
   "source": [
    "#### List hapax legomena"
   ]
  },
  {
   "cell_type": "code",
   "execution_count": 20,
   "metadata": {
    "collapsed": false
   },
   "outputs": [
    {
     "name": "stdout",
     "output_type": "stream",
     "text": [
      "Total number of types in corpus: 24451\n",
      "Total number of hapax legomena: 19757\n"
     ]
    }
   ],
   "source": [
    "hapax_legomena = pre.find_hapax_legomena(document_term_matrix)\n",
    "print(\"Total number of types in corpus:\", document_term_matrix.shape[1])\n",
    "print(\"Total number of hapax legomena:\", len(hapax_legomena))"
   ]
  },
  {
   "cell_type": "markdown",
   "metadata": {},
   "source": [
    "#### Optional: Use external stopwordlist"
   ]
  },
  {
   "cell_type": "code",
   "execution_count": 21,
   "metadata": {
    "collapsed": true
   },
   "outputs": [],
   "source": [
    "path_to_stopwordlist = 'tutorial_supplementals/stopwords/de.txt'\n",
    "external_stopwords = [line.strip() for line in open(path_to_stopwordlist, 'r', encoding='utf-8')]"
   ]
  },
  {
   "cell_type": "markdown",
   "metadata": {},
   "source": [
    "#### Combine lists and remove content from `document_term_matrix`"
   ]
  },
  {
   "cell_type": "code",
   "execution_count": 22,
   "metadata": {
    "collapsed": true
   },
   "outputs": [],
   "source": [
    "features = stopwords + hapax_legomena + external_stopwords\n",
    "document_term_matrix = pre.remove_features(features, document_term_matrix=document_term_matrix)"
   ]
  },
  {
   "cell_type": "markdown",
   "metadata": {},
   "source": [
    "Finally, this is how your clean corpus looks like now."
   ]
  },
  {
   "cell_type": "code",
   "execution_count": 23,
   "metadata": {
    "collapsed": false
   },
   "outputs": [
    {
     "data": {
      "text/html": [
       "<div>\n",
       "<style>\n",
       "    .dataframe thead tr:only-child th {\n",
       "        text-align: right;\n",
       "    }\n",
       "\n",
       "    .dataframe thead th {\n",
       "        text-align: left;\n",
       "    }\n",
       "\n",
       "    .dataframe tbody tr th {\n",
       "        vertical-align: top;\n",
       "    }\n",
       "</style>\n",
       "<table border=\"1\" class=\"dataframe\">\n",
       "  <thead>\n",
       "    <tr style=\"text-align: right;\">\n",
       "      <th></th>\n",
       "      <th>franzosen</th>\n",
       "      <th>genommen</th>\n",
       "      <th>abgewiesen</th>\n",
       "      <th>südlich</th>\n",
       "      <th>berlin</th>\n",
       "      <th>lassen</th>\n",
       "      <th>geschütze</th>\n",
       "      <th>englische</th>\n",
       "      <th>januar</th>\n",
       "      <th>deutschland</th>\n",
       "      <th>...</th>\n",
       "      <th>bankprojects</th>\n",
       "      <th>ii&amp;gt</th>\n",
       "      <th>pflanzenausstellung</th>\n",
       "      <th>unbekümmert</th>\n",
       "      <th>nischt</th>\n",
       "      <th>thiaumont-walde</th>\n",
       "      <th>kompositionen</th>\n",
       "      <th>monarchischer</th>\n",
       "      <th>ehrenwerthen</th>\n",
       "      <th>zaturcy</th>\n",
       "    </tr>\n",
       "  </thead>\n",
       "  <tbody>\n",
       "    <tr>\n",
       "      <th>1844_Tagebuch_56</th>\n",
       "      <td>0.0</td>\n",
       "      <td>1.0</td>\n",
       "      <td>0.0</td>\n",
       "      <td>0.0</td>\n",
       "      <td>4.0</td>\n",
       "      <td>3.0</td>\n",
       "      <td>0.0</td>\n",
       "      <td>0.0</td>\n",
       "      <td>0.0</td>\n",
       "      <td>4.0</td>\n",
       "      <td>...</td>\n",
       "      <td>0.0</td>\n",
       "      <td>0.0</td>\n",
       "      <td>0.0</td>\n",
       "      <td>0.0</td>\n",
       "      <td>0.0</td>\n",
       "      <td>0.0</td>\n",
       "      <td>0.0</td>\n",
       "      <td>0.0</td>\n",
       "      <td>0.0</td>\n",
       "      <td>0.0</td>\n",
       "    </tr>\n",
       "    <tr>\n",
       "      <th>1844_Tagebuch_70</th>\n",
       "      <td>2.0</td>\n",
       "      <td>1.0</td>\n",
       "      <td>0.0</td>\n",
       "      <td>0.0</td>\n",
       "      <td>8.0</td>\n",
       "      <td>6.0</td>\n",
       "      <td>0.0</td>\n",
       "      <td>3.0</td>\n",
       "      <td>0.0</td>\n",
       "      <td>1.0</td>\n",
       "      <td>...</td>\n",
       "      <td>0.0</td>\n",
       "      <td>0.0</td>\n",
       "      <td>0.0</td>\n",
       "      <td>2.0</td>\n",
       "      <td>0.0</td>\n",
       "      <td>0.0</td>\n",
       "      <td>0.0</td>\n",
       "      <td>0.0</td>\n",
       "      <td>0.0</td>\n",
       "      <td>0.0</td>\n",
       "    </tr>\n",
       "    <tr>\n",
       "      <th>1844_Tagebuch_77</th>\n",
       "      <td>0.0</td>\n",
       "      <td>1.0</td>\n",
       "      <td>0.0</td>\n",
       "      <td>0.0</td>\n",
       "      <td>5.0</td>\n",
       "      <td>9.0</td>\n",
       "      <td>0.0</td>\n",
       "      <td>2.0</td>\n",
       "      <td>2.0</td>\n",
       "      <td>2.0</td>\n",
       "      <td>...</td>\n",
       "      <td>0.0</td>\n",
       "      <td>0.0</td>\n",
       "      <td>0.0</td>\n",
       "      <td>0.0</td>\n",
       "      <td>0.0</td>\n",
       "      <td>0.0</td>\n",
       "      <td>0.0</td>\n",
       "      <td>0.0</td>\n",
       "      <td>0.0</td>\n",
       "      <td>0.0</td>\n",
       "    </tr>\n",
       "    <tr>\n",
       "      <th>1844_Tagebuch_82</th>\n",
       "      <td>0.0</td>\n",
       "      <td>0.0</td>\n",
       "      <td>0.0</td>\n",
       "      <td>0.0</td>\n",
       "      <td>5.0</td>\n",
       "      <td>10.0</td>\n",
       "      <td>0.0</td>\n",
       "      <td>0.0</td>\n",
       "      <td>0.0</td>\n",
       "      <td>2.0</td>\n",
       "      <td>...</td>\n",
       "      <td>0.0</td>\n",
       "      <td>0.0</td>\n",
       "      <td>0.0</td>\n",
       "      <td>0.0</td>\n",
       "      <td>0.0</td>\n",
       "      <td>0.0</td>\n",
       "      <td>0.0</td>\n",
       "      <td>0.0</td>\n",
       "      <td>0.0</td>\n",
       "      <td>0.0</td>\n",
       "    </tr>\n",
       "    <tr>\n",
       "      <th>1844_Tagebuch_88</th>\n",
       "      <td>2.0</td>\n",
       "      <td>0.0</td>\n",
       "      <td>0.0</td>\n",
       "      <td>0.0</td>\n",
       "      <td>0.0</td>\n",
       "      <td>1.0</td>\n",
       "      <td>0.0</td>\n",
       "      <td>0.0</td>\n",
       "      <td>0.0</td>\n",
       "      <td>4.0</td>\n",
       "      <td>...</td>\n",
       "      <td>0.0</td>\n",
       "      <td>0.0</td>\n",
       "      <td>0.0</td>\n",
       "      <td>0.0</td>\n",
       "      <td>0.0</td>\n",
       "      <td>0.0</td>\n",
       "      <td>0.0</td>\n",
       "      <td>0.0</td>\n",
       "      <td>0.0</td>\n",
       "      <td>0.0</td>\n",
       "    </tr>\n",
       "  </tbody>\n",
       "</table>\n",
       "<p>5 rows × 4242 columns</p>\n",
       "</div>"
      ],
      "text/plain": [
       "                  franzosen  genommen  abgewiesen  südlich  berlin  lassen  \\\n",
       "1844_Tagebuch_56        0.0       1.0         0.0      0.0     4.0     3.0   \n",
       "1844_Tagebuch_70        2.0       1.0         0.0      0.0     8.0     6.0   \n",
       "1844_Tagebuch_77        0.0       1.0         0.0      0.0     5.0     9.0   \n",
       "1844_Tagebuch_82        0.0       0.0         0.0      0.0     5.0    10.0   \n",
       "1844_Tagebuch_88        2.0       0.0         0.0      0.0     0.0     1.0   \n",
       "\n",
       "                  geschütze  englische  januar  deutschland   ...     \\\n",
       "1844_Tagebuch_56        0.0        0.0     0.0          4.0   ...      \n",
       "1844_Tagebuch_70        0.0        3.0     0.0          1.0   ...      \n",
       "1844_Tagebuch_77        0.0        2.0     2.0          2.0   ...      \n",
       "1844_Tagebuch_82        0.0        0.0     0.0          2.0   ...      \n",
       "1844_Tagebuch_88        0.0        0.0     0.0          4.0   ...      \n",
       "\n",
       "                  bankprojects  ii&gt  pflanzenausstellung  unbekümmert  \\\n",
       "1844_Tagebuch_56           0.0    0.0                  0.0          0.0   \n",
       "1844_Tagebuch_70           0.0    0.0                  0.0          2.0   \n",
       "1844_Tagebuch_77           0.0    0.0                  0.0          0.0   \n",
       "1844_Tagebuch_82           0.0    0.0                  0.0          0.0   \n",
       "1844_Tagebuch_88           0.0    0.0                  0.0          0.0   \n",
       "\n",
       "                  nischt  thiaumont-walde  kompositionen  monarchischer  \\\n",
       "1844_Tagebuch_56     0.0              0.0            0.0            0.0   \n",
       "1844_Tagebuch_70     0.0              0.0            0.0            0.0   \n",
       "1844_Tagebuch_77     0.0              0.0            0.0            0.0   \n",
       "1844_Tagebuch_82     0.0              0.0            0.0            0.0   \n",
       "1844_Tagebuch_88     0.0              0.0            0.0            0.0   \n",
       "\n",
       "                  ehrenwerthen  zaturcy  \n",
       "1844_Tagebuch_56           0.0      0.0  \n",
       "1844_Tagebuch_70           0.0      0.0  \n",
       "1844_Tagebuch_77           0.0      0.0  \n",
       "1844_Tagebuch_82           0.0      0.0  \n",
       "1844_Tagebuch_88           0.0      0.0  \n",
       "\n",
       "[5 rows x 4242 columns]"
      ]
     },
     "execution_count": 23,
     "metadata": {},
     "output_type": "execute_result"
    }
   ],
   "source": [
    "document_term_matrix[:5]"
   ]
  },
  {
   "cell_type": "markdown",
   "metadata": {},
   "source": [
    "## 2. Model creation\n",
    "\n",
    "The actual topic modeling is done with external state-of-the-art LDA implementations. In this example, we are relying on the open-source toolkit **lda**."
   ]
  },
  {
   "cell_type": "markdown",
   "metadata": {},
   "source": [
    "### 2.1. Creating list of vocabulary"
   ]
  },
  {
   "cell_type": "markdown",
   "metadata": {},
   "source": [
    "To translate numbers back into words after the model creation, you have to set up a list of all unique tokens in the corpus."
   ]
  },
  {
   "cell_type": "code",
   "execution_count": 24,
   "metadata": {
    "collapsed": false
   },
   "outputs": [
    {
     "data": {
      "text/plain": [
       "Index(['franzosen', 'genommen', 'abgewiesen', 'südlich', 'berlin', 'lassen',\n",
       "       'geschütze', 'englische', 'januar', 'deutschland',\n",
       "       ...\n",
       "       'bankprojects', 'ii&gt', 'pflanzenausstellung', 'unbekümmert', 'nischt',\n",
       "       'thiaumont-walde', 'kompositionen', 'monarchischer', 'ehrenwerthen',\n",
       "       'zaturcy'],\n",
       "      dtype='object', length=4242)"
      ]
     },
     "execution_count": 24,
     "metadata": {},
     "output_type": "execute_result"
    }
   ],
   "source": [
    "vocabulary = document_term_matrix.columns\n",
    "vocabulary"
   ]
  },
  {
   "cell_type": "markdown",
   "metadata": {},
   "source": [
    "### 2.2. Translate document-term matrix into an array"
   ]
  },
  {
   "cell_type": "markdown",
   "metadata": {},
   "source": [
    "In this step, all values of your document-term matrix will be translated into an [array](https://en.wikipedia.org/wiki/Array_data_structure)."
   ]
  },
  {
   "cell_type": "code",
   "execution_count": 25,
   "metadata": {
    "collapsed": false,
    "scrolled": true
   },
   "outputs": [
    {
     "data": {
      "text/plain": [
       "array([[ 0,  1,  0, ...,  0,  0,  0],\n",
       "       [ 2,  1,  0, ...,  0,  0,  0],\n",
       "       [ 0,  1,  0, ...,  0,  0,  0],\n",
       "       ..., \n",
       "       [12, 17, 11, ...,  0,  0,  0],\n",
       "       [12,  6,  9, ...,  0,  0,  0],\n",
       "       [ 6,  6, 19, ...,  0,  0,  0]])"
      ]
     },
     "execution_count": 25,
     "metadata": {},
     "output_type": "execute_result"
    }
   ],
   "source": [
    "document_term_matrix_arr = document_term_matrix.as_matrix().astype(int)\n",
    "document_term_matrix_arr"
   ]
  },
  {
   "cell_type": "markdown",
   "metadata": {},
   "source": [
    "### 2.3. Generate LDA model\n",
    "\n",
    "We use the class `LDA` from the library `lda` (which is basically not the same, because Python is case sensitive) to generate a LDA topic model. To instance a `LDA` object, there have to be specified a couple of parameters.\n",
    "\n",
    "But first, if you are curious about any library, module, class or function, try `help()`. This can be very useful, because (at least in a well documented library) explanations of use and parameters will be printed. We're interested in the class `LDA` of the library `lda`, so let's try:\n",
    "\n",
    "```\n",
    "help(lda.LDA)\n",
    "```\n",
    "\n",
    "This will print something like this (in fact even more):\n",
    "\n",
    "```\n",
    "Help on class LDA in module lda.lda:\n",
    "\n",
    "class LDA(builtins.object)\n",
    " |  Latent Dirichlet allocation using collapsed Gibbs sampling\n",
    " |  \n",
    " |  Parameters\n",
    " |  ----------\n",
    " |  n_topics : int\n",
    " |      Number of topics\n",
    " |  \n",
    " |  n_iter : int, default 2000\n",
    " |      Number of sampling iterations\n",
    " |  \n",
    " |  alpha : float, default 0.1\n",
    " |      Dirichlet parameter for distribution over topics\n",
    " |  \n",
    " |  eta : float, default 0.01\n",
    " |      Dirichlet parameter for distribution over words\n",
    " |  \n",
    " |  random_state : int or RandomState, optional\n",
    " |      The generator used for the initial topics.\n",
    "```\n",
    "\n",
    "So, now you know how to define the number of topics and the number of sampling iterations as well. A higher number of iterations will probably yield a better model, but also increases processing time. `alpha`, `eta` and `random_state` are so-called *hyperparameters*. They influence the model's performance, so feel free to play around with them. In the present example, we will leave the default values. Furthermore, there exist various methods for hyperparameter optimization, e.g. gridsearch or Gaussian optimization.\n",
    "\n",
    "**Warning: This step can take quite a while!** Meaning something between some seconds and some hours depending on corpus size and the number of iterations. Our example corpus should be done within a minute or two at `n_iter=5000`."
   ]
  },
  {
   "cell_type": "code",
   "execution_count": 26,
   "metadata": {
    "collapsed": false
   },
   "outputs": [
    {
     "name": "stdout",
     "output_type": "stream",
     "text": [
      "Wall time: 37.1 s\n"
     ]
    }
   ],
   "source": [
    "%%time\n",
    "\n",
    "model = lda.LDA(n_topics=10, n_iter=5000)\n",
    "model.fit(document_term_matrix_arr)"
   ]
  },
  {
   "cell_type": "markdown",
   "metadata": {},
   "source": [
    "### 2.4. Create document-topic matrix\n",
    "\n",
    "The generated model object can now be translated into a human-readable document-topic matrix (that is a actually a pandas DataFrame) that constitutes our principle exchange format for topic modeling results."
   ]
  },
  {
   "cell_type": "code",
   "execution_count": 27,
   "metadata": {
    "collapsed": false,
    "scrolled": true
   },
   "outputs": [
    {
     "data": {
      "text/html": [
       "<div>\n",
       "<style>\n",
       "    .dataframe thead tr:only-child th {\n",
       "        text-align: right;\n",
       "    }\n",
       "\n",
       "    .dataframe thead th {\n",
       "        text-align: left;\n",
       "    }\n",
       "\n",
       "    .dataframe tbody tr th {\n",
       "        vertical-align: top;\n",
       "    }\n",
       "</style>\n",
       "<table border=\"1\" class=\"dataframe\">\n",
       "  <thead>\n",
       "    <tr style=\"text-align: right;\">\n",
       "      <th></th>\n",
       "      <th>Key 0</th>\n",
       "      <th>Key 1</th>\n",
       "      <th>Key 2</th>\n",
       "      <th>Key 3</th>\n",
       "      <th>Key 4</th>\n",
       "      <th>Key 5</th>\n",
       "      <th>Key 6</th>\n",
       "      <th>Key 7</th>\n",
       "      <th>Key 8</th>\n",
       "      <th>Key 9</th>\n",
       "    </tr>\n",
       "  </thead>\n",
       "  <tbody>\n",
       "    <tr>\n",
       "      <th>Topic 0</th>\n",
       "      <td>september</td>\n",
       "      <td>frankreich</td>\n",
       "      <td>antwerpen</td>\n",
       "      <td>lamennais</td>\n",
       "      <td>sprache</td>\n",
       "      <td>august</td>\n",
       "      <td>belgien</td>\n",
       "      <td>krakau</td>\n",
       "      <td>paris</td>\n",
       "      <td>krakauer</td>\n",
       "    </tr>\n",
       "    <tr>\n",
       "      <th>Topic 1</th>\n",
       "      <td>alten</td>\n",
       "      <td>hiesigen</td>\n",
       "      <td>zeitung</td>\n",
       "      <td>gesellschaft</td>\n",
       "      <td>indeß</td>\n",
       "      <td>dichter</td>\n",
       "      <td>gelegenheit</td>\n",
       "      <td>stande</td>\n",
       "      <td>stellung</td>\n",
       "      <td>lande</td>\n",
       "    </tr>\n",
       "    <tr>\n",
       "      <th>Topic 2</th>\n",
       "      <td>oesterreich</td>\n",
       "      <td>deutschland</td>\n",
       "      <td>preußen</td>\n",
       "      <td>deutscher</td>\n",
       "      <td>französischen</td>\n",
       "      <td>politischen</td>\n",
       "      <td>interesse</td>\n",
       "      <td>volk</td>\n",
       "      <td>polen</td>\n",
       "      <td>frankreich</td>\n",
       "    </tr>\n",
       "    <tr>\n",
       "      <th>Topic 3</th>\n",
       "      <td>wiener</td>\n",
       "      <td>berliner</td>\n",
       "      <td>wien</td>\n",
       "      <td>schreiben</td>\n",
       "      <td>censur</td>\n",
       "      <td>steht</td>\n",
       "      <td>polizei</td>\n",
       "      <td>redacteur</td>\n",
       "      <td>geist</td>\n",
       "      <td>wahrheit</td>\n",
       "    </tr>\n",
       "    <tr>\n",
       "      <th>Topic 4</th>\n",
       "      <td>kunst</td>\n",
       "      <td>könig</td>\n",
       "      <td>personen</td>\n",
       "      <td>kirche</td>\n",
       "      <td>schriftsteller</td>\n",
       "      <td>worte</td>\n",
       "      <td>deutschland</td>\n",
       "      <td>paris</td>\n",
       "      <td>kaiser</td>\n",
       "      <td>friedrich</td>\n",
       "    </tr>\n",
       "    <tr>\n",
       "      <th>Topic 5</th>\n",
       "      <td>leipzig</td>\n",
       "      <td>zeitung</td>\n",
       "      <td>ward</td>\n",
       "      <td>leipziger</td>\n",
       "      <td>gehört</td>\n",
       "      <td>sieht</td>\n",
       "      <td>fremden</td>\n",
       "      <td>vorlesungen</td>\n",
       "      <td>halb</td>\n",
       "      <td>blätter</td>\n",
       "    </tr>\n",
       "    <tr>\n",
       "      <th>Topic 6</th>\n",
       "      <td>juli</td>\n",
       "      <td>südlich</td>\n",
       "      <td>märz</td>\n",
       "      <td>april</td>\n",
       "      <td>stellungen</td>\n",
       "      <td>abgewiesen</td>\n",
       "      <td>heftige</td>\n",
       "      <td>gestürmt</td>\n",
       "      <td>abgeschlagen</td>\n",
       "      <td>offiziere</td>\n",
       "    </tr>\n",
       "    <tr>\n",
       "      <th>Topic 7</th>\n",
       "      <td>lassen</td>\n",
       "      <td>berlin</td>\n",
       "      <td>weise</td>\n",
       "      <td>leben</td>\n",
       "      <td>art</td>\n",
       "      <td>finden</td>\n",
       "      <td>welt</td>\n",
       "      <td>scheint</td>\n",
       "      <td>weiß</td>\n",
       "      <td>nämlich</td>\n",
       "    </tr>\n",
       "    <tr>\n",
       "      <th>Topic 8</th>\n",
       "      <td>geschütze</td>\n",
       "      <td>januar</td>\n",
       "      <td>genommen</td>\n",
       "      <td>kriegstagebuch</td>\n",
       "      <td>abgewiesen</td>\n",
       "      <td>franzosen</td>\n",
       "      <td>angriff</td>\n",
       "      <td>truppen</td>\n",
       "      <td>engländer</td>\n",
       "      <td>englische</td>\n",
       "    </tr>\n",
       "    <tr>\n",
       "      <th>Topic 9</th>\n",
       "      <td>presse</td>\n",
       "      <td>regierung</td>\n",
       "      <td>geben</td>\n",
       "      <td>namen</td>\n",
       "      <td>meinung</td>\n",
       "      <td>artikel</td>\n",
       "      <td>frage</td>\n",
       "      <td>namentlich</td>\n",
       "      <td>zeitungen</td>\n",
       "      <td>eigentlich</td>\n",
       "    </tr>\n",
       "  </tbody>\n",
       "</table>\n",
       "</div>"
      ],
      "text/plain": [
       "               Key 0        Key 1      Key 2           Key 3           Key 4  \\\n",
       "Topic 0    september   frankreich  antwerpen       lamennais         sprache   \n",
       "Topic 1        alten     hiesigen    zeitung    gesellschaft           indeß   \n",
       "Topic 2  oesterreich  deutschland    preußen       deutscher   französischen   \n",
       "Topic 3       wiener     berliner       wien       schreiben          censur   \n",
       "Topic 4        kunst        könig   personen          kirche  schriftsteller   \n",
       "Topic 5      leipzig      zeitung       ward       leipziger          gehört   \n",
       "Topic 6         juli      südlich       märz           april      stellungen   \n",
       "Topic 7       lassen       berlin      weise           leben             art   \n",
       "Topic 8    geschütze       januar   genommen  kriegstagebuch      abgewiesen   \n",
       "Topic 9       presse    regierung      geben           namen         meinung   \n",
       "\n",
       "               Key 5        Key 6        Key 7         Key 8       Key 9  \n",
       "Topic 0       august      belgien       krakau         paris    krakauer  \n",
       "Topic 1      dichter  gelegenheit       stande      stellung       lande  \n",
       "Topic 2  politischen    interesse         volk         polen  frankreich  \n",
       "Topic 3        steht      polizei    redacteur         geist    wahrheit  \n",
       "Topic 4        worte  deutschland        paris        kaiser   friedrich  \n",
       "Topic 5        sieht      fremden  vorlesungen          halb     blätter  \n",
       "Topic 6   abgewiesen      heftige     gestürmt  abgeschlagen   offiziere  \n",
       "Topic 7       finden         welt      scheint          weiß     nämlich  \n",
       "Topic 8    franzosen      angriff      truppen     engländer   englische  \n",
       "Topic 9      artikel        frage   namentlich     zeitungen  eigentlich  "
      ]
     },
     "execution_count": 27,
     "metadata": {},
     "output_type": "execute_result"
    }
   ],
   "source": [
    "topics = postprocessing.show_topics(model=model, vocabulary=vocabulary)\n",
    "topics"
   ]
  },
  {
   "cell_type": "markdown",
   "metadata": {},
   "source": [
    "## 3. Model visualization"
   ]
  },
  {
   "cell_type": "markdown",
   "metadata": {},
   "source": [
    "Each topic has a certain probability for each document in the corpus (have a look at the cell below). This probability distributions are visualized in an interactive **heatmap** (the darker the color, the higher the probability) which displays the kind of information\n",
    "                that is presumably most useful to literary scholars. Going beyond pure exploration, this visualization can be used to show thematic developments over a set of texts as well as a single text, akin to a dynamic topic model. What might become\n",
    "                apparent here, is that some topics correlate highly with a specific author or group of authors, while other topics correlate highly with a specific text or group of texts."
   ]
  },
  {
   "cell_type": "code",
   "execution_count": 28,
   "metadata": {
    "collapsed": false
   },
   "outputs": [
    {
     "data": {
      "text/html": [
       "<div>\n",
       "<style>\n",
       "    .dataframe thead tr:only-child th {\n",
       "        text-align: right;\n",
       "    }\n",
       "\n",
       "    .dataframe thead th {\n",
       "        text-align: left;\n",
       "    }\n",
       "\n",
       "    .dataframe tbody tr th {\n",
       "        vertical-align: top;\n",
       "    }\n",
       "</style>\n",
       "<table border=\"1\" class=\"dataframe\">\n",
       "  <thead>\n",
       "    <tr style=\"text-align: right;\">\n",
       "      <th>title</th>\n",
       "      <th>1844_Tagebuch_56</th>\n",
       "      <th>1844_Tagebuch_70</th>\n",
       "      <th>1844_Tagebuch_77</th>\n",
       "      <th>1844_Tagebuch_82</th>\n",
       "      <th>1844_Tagebuch_88</th>\n",
       "      <th>1845_Tagebuch_52</th>\n",
       "      <th>1845_Tagebuch_62</th>\n",
       "      <th>1845_Tagebuch_81</th>\n",
       "      <th>1845_Tagebuch_85</th>\n",
       "      <th>1845_Tagebuch_93</th>\n",
       "      <th>...</th>\n",
       "      <th>1915_Kriegstagebuch_33</th>\n",
       "      <th>1915_Kriegstagebuch_39</th>\n",
       "      <th>1915_Kriegstagebuch_73</th>\n",
       "      <th>1915_Kriegstagebuch_94</th>\n",
       "      <th>1915_Kriegstagebuch_99</th>\n",
       "      <th>1916_Kriegstagebuch_41</th>\n",
       "      <th>1916_Kriegstagebuch_48</th>\n",
       "      <th>1916_Kriegstagebuch_49</th>\n",
       "      <th>1916_Kriegstagebuch_69</th>\n",
       "      <th>1916_Kriegstagebuch_81</th>\n",
       "    </tr>\n",
       "  </thead>\n",
       "  <tbody>\n",
       "    <tr>\n",
       "      <th>september frankreich antwerpen</th>\n",
       "      <td>0.000161</td>\n",
       "      <td>0.000063</td>\n",
       "      <td>0.000074</td>\n",
       "      <td>0.002681</td>\n",
       "      <td>0.000176</td>\n",
       "      <td>0.010993</td>\n",
       "      <td>0.018640</td>\n",
       "      <td>0.005868</td>\n",
       "      <td>0.000052</td>\n",
       "      <td>0.000064</td>\n",
       "      <td>...</td>\n",
       "      <td>0.000090</td>\n",
       "      <td>0.000151</td>\n",
       "      <td>0.002331</td>\n",
       "      <td>0.000332</td>\n",
       "      <td>0.005536</td>\n",
       "      <td>0.001763</td>\n",
       "      <td>0.000156</td>\n",
       "      <td>0.000123</td>\n",
       "      <td>0.000133</td>\n",
       "      <td>0.000136</td>\n",
       "    </tr>\n",
       "    <tr>\n",
       "      <th>alten hiesigen zeitung</th>\n",
       "      <td>0.106613</td>\n",
       "      <td>0.075725</td>\n",
       "      <td>0.097255</td>\n",
       "      <td>0.117789</td>\n",
       "      <td>0.066960</td>\n",
       "      <td>0.144302</td>\n",
       "      <td>0.069092</td>\n",
       "      <td>0.383729</td>\n",
       "      <td>0.321014</td>\n",
       "      <td>0.067588</td>\n",
       "      <td>...</td>\n",
       "      <td>0.000090</td>\n",
       "      <td>0.000151</td>\n",
       "      <td>0.000212</td>\n",
       "      <td>0.006977</td>\n",
       "      <td>0.001964</td>\n",
       "      <td>0.000160</td>\n",
       "      <td>0.000156</td>\n",
       "      <td>0.000123</td>\n",
       "      <td>0.000133</td>\n",
       "      <td>0.001501</td>\n",
       "    </tr>\n",
       "    <tr>\n",
       "      <th>oesterreich deutschland preußen</th>\n",
       "      <td>0.167903</td>\n",
       "      <td>0.107881</td>\n",
       "      <td>0.119510</td>\n",
       "      <td>0.102747</td>\n",
       "      <td>0.200527</td>\n",
       "      <td>0.172425</td>\n",
       "      <td>0.069623</td>\n",
       "      <td>0.075780</td>\n",
       "      <td>0.104077</td>\n",
       "      <td>0.152476</td>\n",
       "      <td>...</td>\n",
       "      <td>0.000090</td>\n",
       "      <td>0.000151</td>\n",
       "      <td>0.023517</td>\n",
       "      <td>0.000332</td>\n",
       "      <td>0.001964</td>\n",
       "      <td>0.000160</td>\n",
       "      <td>0.001713</td>\n",
       "      <td>0.000123</td>\n",
       "      <td>0.002800</td>\n",
       "      <td>0.013779</td>\n",
       "    </tr>\n",
       "    <tr>\n",
       "      <th>wiener berliner wien</th>\n",
       "      <td>0.301774</td>\n",
       "      <td>0.423770</td>\n",
       "      <td>0.290134</td>\n",
       "      <td>0.115173</td>\n",
       "      <td>0.342882</td>\n",
       "      <td>0.176077</td>\n",
       "      <td>0.074934</td>\n",
       "      <td>0.071203</td>\n",
       "      <td>0.096236</td>\n",
       "      <td>0.038006</td>\n",
       "      <td>...</td>\n",
       "      <td>0.003671</td>\n",
       "      <td>0.000151</td>\n",
       "      <td>0.000212</td>\n",
       "      <td>0.003654</td>\n",
       "      <td>0.000179</td>\n",
       "      <td>0.001763</td>\n",
       "      <td>0.001713</td>\n",
       "      <td>0.000123</td>\n",
       "      <td>0.002800</td>\n",
       "      <td>0.004229</td>\n",
       "    </tr>\n",
       "    <tr>\n",
       "      <th>kunst könig personen</th>\n",
       "      <td>0.013065</td>\n",
       "      <td>0.044199</td>\n",
       "      <td>0.049777</td>\n",
       "      <td>0.036037</td>\n",
       "      <td>0.082777</td>\n",
       "      <td>0.044595</td>\n",
       "      <td>0.044132</td>\n",
       "      <td>0.012942</td>\n",
       "      <td>0.028280</td>\n",
       "      <td>0.304887</td>\n",
       "      <td>...</td>\n",
       "      <td>0.001880</td>\n",
       "      <td>0.000151</td>\n",
       "      <td>0.000212</td>\n",
       "      <td>0.000332</td>\n",
       "      <td>0.000179</td>\n",
       "      <td>0.009776</td>\n",
       "      <td>0.000156</td>\n",
       "      <td>0.001350</td>\n",
       "      <td>0.000133</td>\n",
       "      <td>0.000136</td>\n",
       "    </tr>\n",
       "    <tr>\n",
       "      <th>leipzig zeitung ward</th>\n",
       "      <td>0.058226</td>\n",
       "      <td>0.017087</td>\n",
       "      <td>0.077226</td>\n",
       "      <td>0.186462</td>\n",
       "      <td>0.065202</td>\n",
       "      <td>0.156355</td>\n",
       "      <td>0.329315</td>\n",
       "      <td>0.047898</td>\n",
       "      <td>0.037167</td>\n",
       "      <td>0.033505</td>\n",
       "      <td>...</td>\n",
       "      <td>0.000090</td>\n",
       "      <td>0.000151</td>\n",
       "      <td>0.000212</td>\n",
       "      <td>0.016944</td>\n",
       "      <td>0.000179</td>\n",
       "      <td>0.001763</td>\n",
       "      <td>0.000156</td>\n",
       "      <td>0.000123</td>\n",
       "      <td>0.000133</td>\n",
       "      <td>0.000136</td>\n",
       "    </tr>\n",
       "    <tr>\n",
       "      <th>juli südlich märz</th>\n",
       "      <td>0.000161</td>\n",
       "      <td>0.000694</td>\n",
       "      <td>0.000074</td>\n",
       "      <td>0.001373</td>\n",
       "      <td>0.003691</td>\n",
       "      <td>0.000402</td>\n",
       "      <td>0.000053</td>\n",
       "      <td>0.000042</td>\n",
       "      <td>0.004234</td>\n",
       "      <td>0.000064</td>\n",
       "      <td>...</td>\n",
       "      <td>0.140645</td>\n",
       "      <td>0.154230</td>\n",
       "      <td>0.318008</td>\n",
       "      <td>0.226246</td>\n",
       "      <td>0.380536</td>\n",
       "      <td>0.726122</td>\n",
       "      <td>0.722897</td>\n",
       "      <td>0.677423</td>\n",
       "      <td>0.760133</td>\n",
       "      <td>0.730014</td>\n",
       "    </tr>\n",
       "    <tr>\n",
       "      <th>lassen berlin weise</th>\n",
       "      <td>0.272742</td>\n",
       "      <td>0.248487</td>\n",
       "      <td>0.281973</td>\n",
       "      <td>0.264944</td>\n",
       "      <td>0.161863</td>\n",
       "      <td>0.186669</td>\n",
       "      <td>0.320287</td>\n",
       "      <td>0.276779</td>\n",
       "      <td>0.319969</td>\n",
       "      <td>0.291383</td>\n",
       "      <td>...</td>\n",
       "      <td>0.014414</td>\n",
       "      <td>0.027341</td>\n",
       "      <td>0.000212</td>\n",
       "      <td>0.000332</td>\n",
       "      <td>0.000179</td>\n",
       "      <td>0.004968</td>\n",
       "      <td>0.021963</td>\n",
       "      <td>0.000123</td>\n",
       "      <td>0.000133</td>\n",
       "      <td>0.000136</td>\n",
       "    </tr>\n",
       "    <tr>\n",
       "      <th>geschütze januar genommen</th>\n",
       "      <td>0.013065</td>\n",
       "      <td>0.005107</td>\n",
       "      <td>0.000074</td>\n",
       "      <td>0.000065</td>\n",
       "      <td>0.000176</td>\n",
       "      <td>0.003324</td>\n",
       "      <td>0.002708</td>\n",
       "      <td>0.001706</td>\n",
       "      <td>0.004234</td>\n",
       "      <td>0.005852</td>\n",
       "      <td>...</td>\n",
       "      <td>0.829096</td>\n",
       "      <td>0.808308</td>\n",
       "      <td>0.637924</td>\n",
       "      <td>0.734551</td>\n",
       "      <td>0.607321</td>\n",
       "      <td>0.253365</td>\n",
       "      <td>0.250935</td>\n",
       "      <td>0.317914</td>\n",
       "      <td>0.233467</td>\n",
       "      <td>0.249795</td>\n",
       "    </tr>\n",
       "    <tr>\n",
       "      <th>presse regierung geben</th>\n",
       "      <td>0.066290</td>\n",
       "      <td>0.076986</td>\n",
       "      <td>0.083902</td>\n",
       "      <td>0.172727</td>\n",
       "      <td>0.075747</td>\n",
       "      <td>0.104858</td>\n",
       "      <td>0.071216</td>\n",
       "      <td>0.124053</td>\n",
       "      <td>0.084736</td>\n",
       "      <td>0.106174</td>\n",
       "      <td>...</td>\n",
       "      <td>0.009937</td>\n",
       "      <td>0.009215</td>\n",
       "      <td>0.017161</td>\n",
       "      <td>0.010299</td>\n",
       "      <td>0.001964</td>\n",
       "      <td>0.000160</td>\n",
       "      <td>0.000156</td>\n",
       "      <td>0.002577</td>\n",
       "      <td>0.000133</td>\n",
       "      <td>0.000136</td>\n",
       "    </tr>\n",
       "  </tbody>\n",
       "</table>\n",
       "<p>10 rows × 30 columns</p>\n",
       "</div>"
      ],
      "text/plain": [
       "title                            1844_Tagebuch_56  1844_Tagebuch_70  \\\n",
       "september frankreich antwerpen           0.000161          0.000063   \n",
       "alten hiesigen zeitung                   0.106613          0.075725   \n",
       "oesterreich deutschland preußen          0.167903          0.107881   \n",
       "wiener berliner wien                     0.301774          0.423770   \n",
       "kunst könig personen                     0.013065          0.044199   \n",
       "leipzig zeitung ward                     0.058226          0.017087   \n",
       "juli südlich märz                        0.000161          0.000694   \n",
       "lassen berlin weise                      0.272742          0.248487   \n",
       "geschütze januar genommen                0.013065          0.005107   \n",
       "presse regierung geben                   0.066290          0.076986   \n",
       "\n",
       "title                            1844_Tagebuch_77  1844_Tagebuch_82  \\\n",
       "september frankreich antwerpen           0.000074          0.002681   \n",
       "alten hiesigen zeitung                   0.097255          0.117789   \n",
       "oesterreich deutschland preußen          0.119510          0.102747   \n",
       "wiener berliner wien                     0.290134          0.115173   \n",
       "kunst könig personen                     0.049777          0.036037   \n",
       "leipzig zeitung ward                     0.077226          0.186462   \n",
       "juli südlich märz                        0.000074          0.001373   \n",
       "lassen berlin weise                      0.281973          0.264944   \n",
       "geschütze januar genommen                0.000074          0.000065   \n",
       "presse regierung geben                   0.083902          0.172727   \n",
       "\n",
       "title                            1844_Tagebuch_88  1845_Tagebuch_52  \\\n",
       "september frankreich antwerpen           0.000176          0.010993   \n",
       "alten hiesigen zeitung                   0.066960          0.144302   \n",
       "oesterreich deutschland preußen          0.200527          0.172425   \n",
       "wiener berliner wien                     0.342882          0.176077   \n",
       "kunst könig personen                     0.082777          0.044595   \n",
       "leipzig zeitung ward                     0.065202          0.156355   \n",
       "juli südlich märz                        0.003691          0.000402   \n",
       "lassen berlin weise                      0.161863          0.186669   \n",
       "geschütze januar genommen                0.000176          0.003324   \n",
       "presse regierung geben                   0.075747          0.104858   \n",
       "\n",
       "title                            1845_Tagebuch_62  1845_Tagebuch_81  \\\n",
       "september frankreich antwerpen           0.018640          0.005868   \n",
       "alten hiesigen zeitung                   0.069092          0.383729   \n",
       "oesterreich deutschland preußen          0.069623          0.075780   \n",
       "wiener berliner wien                     0.074934          0.071203   \n",
       "kunst könig personen                     0.044132          0.012942   \n",
       "leipzig zeitung ward                     0.329315          0.047898   \n",
       "juli südlich märz                        0.000053          0.000042   \n",
       "lassen berlin weise                      0.320287          0.276779   \n",
       "geschütze januar genommen                0.002708          0.001706   \n",
       "presse regierung geben                   0.071216          0.124053   \n",
       "\n",
       "title                            1845_Tagebuch_85  1845_Tagebuch_93  \\\n",
       "september frankreich antwerpen           0.000052          0.000064   \n",
       "alten hiesigen zeitung                   0.321014          0.067588   \n",
       "oesterreich deutschland preußen          0.104077          0.152476   \n",
       "wiener berliner wien                     0.096236          0.038006   \n",
       "kunst könig personen                     0.028280          0.304887   \n",
       "leipzig zeitung ward                     0.037167          0.033505   \n",
       "juli südlich märz                        0.004234          0.000064   \n",
       "lassen berlin weise                      0.319969          0.291383   \n",
       "geschütze januar genommen                0.004234          0.005852   \n",
       "presse regierung geben                   0.084736          0.106174   \n",
       "\n",
       "title                                     ...            \\\n",
       "september frankreich antwerpen            ...             \n",
       "alten hiesigen zeitung                    ...             \n",
       "oesterreich deutschland preußen           ...             \n",
       "wiener berliner wien                      ...             \n",
       "kunst könig personen                      ...             \n",
       "leipzig zeitung ward                      ...             \n",
       "juli südlich märz                         ...             \n",
       "lassen berlin weise                       ...             \n",
       "geschütze januar genommen                 ...             \n",
       "presse regierung geben                    ...             \n",
       "\n",
       "title                            1915_Kriegstagebuch_33  \\\n",
       "september frankreich antwerpen                 0.000090   \n",
       "alten hiesigen zeitung                         0.000090   \n",
       "oesterreich deutschland preußen                0.000090   \n",
       "wiener berliner wien                           0.003671   \n",
       "kunst könig personen                           0.001880   \n",
       "leipzig zeitung ward                           0.000090   \n",
       "juli südlich märz                              0.140645   \n",
       "lassen berlin weise                            0.014414   \n",
       "geschütze januar genommen                      0.829096   \n",
       "presse regierung geben                         0.009937   \n",
       "\n",
       "title                            1915_Kriegstagebuch_39  \\\n",
       "september frankreich antwerpen                 0.000151   \n",
       "alten hiesigen zeitung                         0.000151   \n",
       "oesterreich deutschland preußen                0.000151   \n",
       "wiener berliner wien                           0.000151   \n",
       "kunst könig personen                           0.000151   \n",
       "leipzig zeitung ward                           0.000151   \n",
       "juli südlich märz                              0.154230   \n",
       "lassen berlin weise                            0.027341   \n",
       "geschütze januar genommen                      0.808308   \n",
       "presse regierung geben                         0.009215   \n",
       "\n",
       "title                            1915_Kriegstagebuch_73  \\\n",
       "september frankreich antwerpen                 0.002331   \n",
       "alten hiesigen zeitung                         0.000212   \n",
       "oesterreich deutschland preußen                0.023517   \n",
       "wiener berliner wien                           0.000212   \n",
       "kunst könig personen                           0.000212   \n",
       "leipzig zeitung ward                           0.000212   \n",
       "juli südlich märz                              0.318008   \n",
       "lassen berlin weise                            0.000212   \n",
       "geschütze januar genommen                      0.637924   \n",
       "presse regierung geben                         0.017161   \n",
       "\n",
       "title                            1915_Kriegstagebuch_94  \\\n",
       "september frankreich antwerpen                 0.000332   \n",
       "alten hiesigen zeitung                         0.006977   \n",
       "oesterreich deutschland preußen                0.000332   \n",
       "wiener berliner wien                           0.003654   \n",
       "kunst könig personen                           0.000332   \n",
       "leipzig zeitung ward                           0.016944   \n",
       "juli südlich märz                              0.226246   \n",
       "lassen berlin weise                            0.000332   \n",
       "geschütze januar genommen                      0.734551   \n",
       "presse regierung geben                         0.010299   \n",
       "\n",
       "title                            1915_Kriegstagebuch_99  \\\n",
       "september frankreich antwerpen                 0.005536   \n",
       "alten hiesigen zeitung                         0.001964   \n",
       "oesterreich deutschland preußen                0.001964   \n",
       "wiener berliner wien                           0.000179   \n",
       "kunst könig personen                           0.000179   \n",
       "leipzig zeitung ward                           0.000179   \n",
       "juli südlich märz                              0.380536   \n",
       "lassen berlin weise                            0.000179   \n",
       "geschütze januar genommen                      0.607321   \n",
       "presse regierung geben                         0.001964   \n",
       "\n",
       "title                            1916_Kriegstagebuch_41  \\\n",
       "september frankreich antwerpen                 0.001763   \n",
       "alten hiesigen zeitung                         0.000160   \n",
       "oesterreich deutschland preußen                0.000160   \n",
       "wiener berliner wien                           0.001763   \n",
       "kunst könig personen                           0.009776   \n",
       "leipzig zeitung ward                           0.001763   \n",
       "juli südlich märz                              0.726122   \n",
       "lassen berlin weise                            0.004968   \n",
       "geschütze januar genommen                      0.253365   \n",
       "presse regierung geben                         0.000160   \n",
       "\n",
       "title                            1916_Kriegstagebuch_48  \\\n",
       "september frankreich antwerpen                 0.000156   \n",
       "alten hiesigen zeitung                         0.000156   \n",
       "oesterreich deutschland preußen                0.001713   \n",
       "wiener berliner wien                           0.001713   \n",
       "kunst könig personen                           0.000156   \n",
       "leipzig zeitung ward                           0.000156   \n",
       "juli südlich märz                              0.722897   \n",
       "lassen berlin weise                            0.021963   \n",
       "geschütze januar genommen                      0.250935   \n",
       "presse regierung geben                         0.000156   \n",
       "\n",
       "title                            1916_Kriegstagebuch_49  \\\n",
       "september frankreich antwerpen                 0.000123   \n",
       "alten hiesigen zeitung                         0.000123   \n",
       "oesterreich deutschland preußen                0.000123   \n",
       "wiener berliner wien                           0.000123   \n",
       "kunst könig personen                           0.001350   \n",
       "leipzig zeitung ward                           0.000123   \n",
       "juli südlich märz                              0.677423   \n",
       "lassen berlin weise                            0.000123   \n",
       "geschütze januar genommen                      0.317914   \n",
       "presse regierung geben                         0.002577   \n",
       "\n",
       "title                            1916_Kriegstagebuch_69  \\\n",
       "september frankreich antwerpen                 0.000133   \n",
       "alten hiesigen zeitung                         0.000133   \n",
       "oesterreich deutschland preußen                0.002800   \n",
       "wiener berliner wien                           0.002800   \n",
       "kunst könig personen                           0.000133   \n",
       "leipzig zeitung ward                           0.000133   \n",
       "juli südlich märz                              0.760133   \n",
       "lassen berlin weise                            0.000133   \n",
       "geschütze januar genommen                      0.233467   \n",
       "presse regierung geben                         0.000133   \n",
       "\n",
       "title                            1916_Kriegstagebuch_81  \n",
       "september frankreich antwerpen                 0.000136  \n",
       "alten hiesigen zeitung                         0.001501  \n",
       "oesterreich deutschland preußen                0.013779  \n",
       "wiener berliner wien                           0.004229  \n",
       "kunst könig personen                           0.000136  \n",
       "leipzig zeitung ward                           0.000136  \n",
       "juli südlich märz                              0.730014  \n",
       "lassen berlin weise                            0.000136  \n",
       "geschütze januar genommen                      0.249795  \n",
       "presse regierung geben                         0.000136  \n",
       "\n",
       "[10 rows x 30 columns]"
      ]
     },
     "execution_count": 28,
     "metadata": {},
     "output_type": "execute_result"
    }
   ],
   "source": [
    "document_topics = postprocessing.show_document_topics(model=model, topics=topics, document_labels=metadata['title'])\n",
    "document_topics"
   ]
  },
  {
   "cell_type": "markdown",
   "metadata": {},
   "source": [
    "### 3.1. Distribution of topics"
   ]
  },
  {
   "cell_type": "markdown",
   "metadata": {},
   "source": [
    "#### Distribution of topics over all documents\n",
    "\n",
    "The distribution of topics over all documents can now be visualized in a heatmap."
   ]
  },
  {
   "cell_type": "code",
   "execution_count": 29,
   "metadata": {
    "collapsed": false
   },
   "outputs": [
    {
     "data": {
      "text/html": [
       "\n",
       "    <div class=\"bk-root\">\n",
       "        <a href=\"https://bokeh.pydata.org\" target=\"_blank\" class=\"bk-logo bk-logo-small bk-logo-notebook\"></a>\n",
       "        <span id=\"60ae434e-c4df-4fe5-b9d1-981840a4c5a6\">Loading BokehJS ...</span>\n",
       "    </div>"
      ]
     },
     "metadata": {},
     "output_type": "display_data"
    },
    {
     "data": {
      "application/javascript": [
       "\n",
       "(function(root) {\n",
       "  function now() {\n",
       "    return new Date();\n",
       "  }\n",
       "\n",
       "  var force = true;\n",
       "\n",
       "  if (typeof (root._bokeh_onload_callbacks) === \"undefined\" || force === true) {\n",
       "    root._bokeh_onload_callbacks = [];\n",
       "    root._bokeh_is_loading = undefined;\n",
       "  }\n",
       "\n",
       "  var JS_MIME_TYPE = 'application/javascript';\n",
       "  var HTML_MIME_TYPE = 'text/html';\n",
       "  var EXEC_MIME_TYPE = 'application/vnd.bokehjs_exec.v0+json';\n",
       "  var CLASS_NAME = 'output_bokeh rendered_html';\n",
       "\n",
       "  /**\n",
       "   * Render data to the DOM node\n",
       "   */\n",
       "  function render(props, node) {\n",
       "    var script = document.createElement(\"script\");\n",
       "    node.appendChild(script);\n",
       "  }\n",
       "\n",
       "  /**\n",
       "   * Handle when an output is cleared or removed\n",
       "   */\n",
       "  function handleClearOutput(event, handle) {\n",
       "    var cell = handle.cell;\n",
       "\n",
       "    var id = cell.output_area._bokeh_element_id;\n",
       "    var server_id = cell.output_area._bokeh_server_id;\n",
       "    // Clean up Bokeh references\n",
       "    if (id !== undefined) {\n",
       "      Bokeh.index[id].model.document.clear();\n",
       "      delete Bokeh.index[id];\n",
       "    }\n",
       "\n",
       "    if (server_id !== undefined) {\n",
       "      // Clean up Bokeh references\n",
       "      var cmd = \"from bokeh.io import _state; print(_state.uuid_to_server['\" + server_id + \"'].get_sessions()[0].document.roots[0]._id)\";\n",
       "      cell.notebook.kernel.execute(cmd, {\n",
       "        iopub: {\n",
       "          output: function(msg) {\n",
       "            var element_id = msg.content.text.trim();\n",
       "            Bokeh.index[element_id].model.document.clear();\n",
       "            delete Bokeh.index[element_id];\n",
       "          }\n",
       "        }\n",
       "      });\n",
       "      // Destroy server and session\n",
       "      var cmd = \"from bokeh import io; io._destroy_server('\" + server_id + \"')\";\n",
       "      cell.notebook.kernel.execute(cmd);\n",
       "    }\n",
       "  }\n",
       "\n",
       "  /**\n",
       "   * Handle when a new output is added\n",
       "   */\n",
       "  function handleAddOutput(event, handle) {\n",
       "    var output_area = handle.output_area;\n",
       "    var output = handle.output;\n",
       "\n",
       "    // limit handleAddOutput to display_data with EXEC_MIME_TYPE content only\n",
       "    if ((output.output_type != \"display_data\") || (!output.data.hasOwnProperty(EXEC_MIME_TYPE))) {\n",
       "      return\n",
       "    }\n",
       "\n",
       "    var toinsert = output_area.element.find(`.${CLASS_NAME.split(' ')[0]}`);\n",
       "\n",
       "    if (output.metadata[EXEC_MIME_TYPE][\"id\"] !== undefined) {\n",
       "      toinsert[0].firstChild.textContent = output.data[JS_MIME_TYPE];\n",
       "      // store reference to embed id on output_area\n",
       "      output_area._bokeh_element_id = output.metadata[EXEC_MIME_TYPE][\"id\"];\n",
       "    }\n",
       "    if (output.metadata[EXEC_MIME_TYPE][\"server_id\"] !== undefined) {\n",
       "      var bk_div = document.createElement(\"div\");\n",
       "      bk_div.innerHTML = output.data[HTML_MIME_TYPE];\n",
       "      var script_attrs = bk_div.children[0].attributes;\n",
       "      for (var i = 0; i < script_attrs.length; i++) {\n",
       "        toinsert[0].firstChild.setAttribute(script_attrs[i].name, script_attrs[i].value);\n",
       "      }\n",
       "      // store reference to server id on output_area\n",
       "      output_area._bokeh_server_id = output.metadata[EXEC_MIME_TYPE][\"server_id\"];\n",
       "    }\n",
       "  }\n",
       "\n",
       "  function register_renderer(events, OutputArea) {\n",
       "\n",
       "    function append_mime(data, metadata, element) {\n",
       "      // create a DOM node to render to\n",
       "      var toinsert = this.create_output_subarea(\n",
       "        metadata,\n",
       "        CLASS_NAME,\n",
       "        EXEC_MIME_TYPE\n",
       "      );\n",
       "      this.keyboard_manager.register_events(toinsert);\n",
       "      // Render to node\n",
       "      var props = {data: data, metadata: metadata[EXEC_MIME_TYPE]};\n",
       "      render(props, toinsert[0]);\n",
       "      element.append(toinsert);\n",
       "      return toinsert\n",
       "    }\n",
       "\n",
       "    /* Handle when an output is cleared or removed */\n",
       "    events.on('clear_output.CodeCell', handleClearOutput);\n",
       "    events.on('delete.Cell', handleClearOutput);\n",
       "\n",
       "    /* Handle when a new output is added */\n",
       "    events.on('output_added.OutputArea', handleAddOutput);\n",
       "\n",
       "    /**\n",
       "     * Register the mime type and append_mime function with output_area\n",
       "     */\n",
       "    OutputArea.prototype.register_mime_type(EXEC_MIME_TYPE, append_mime, {\n",
       "      /* Is output safe? */\n",
       "      safe: true,\n",
       "      /* Index of renderer in `output_area.display_order` */\n",
       "      index: 0\n",
       "    });\n",
       "  }\n",
       "\n",
       "  // register the mime type if in Jupyter Notebook environment and previously unregistered\n",
       "  if (root.Jupyter !== undefined) {\n",
       "    var events = require('base/js/events');\n",
       "    var OutputArea = require('notebook/js/outputarea').OutputArea;\n",
       "\n",
       "    if (OutputArea.prototype.mime_types().indexOf(EXEC_MIME_TYPE) == -1) {\n",
       "      register_renderer(events, OutputArea);\n",
       "    }\n",
       "  }\n",
       "\n",
       "  \n",
       "  if (typeof (root._bokeh_timeout) === \"undefined\" || force === true) {\n",
       "    root._bokeh_timeout = Date.now() + 5000;\n",
       "    root._bokeh_failed_load = false;\n",
       "  }\n",
       "\n",
       "  var NB_LOAD_WARNING = {'data': {'text/html':\n",
       "     \"<div style='background-color: #fdd'>\\n\"+\n",
       "     \"<p>\\n\"+\n",
       "     \"BokehJS does not appear to have successfully loaded. If loading BokehJS from CDN, this \\n\"+\n",
       "     \"may be due to a slow or bad network connection. Possible fixes:\\n\"+\n",
       "     \"</p>\\n\"+\n",
       "     \"<ul>\\n\"+\n",
       "     \"<li>re-rerun `output_notebook()` to attempt to load from CDN again, or</li>\\n\"+\n",
       "     \"<li>use INLINE resources instead, as so:</li>\\n\"+\n",
       "     \"</ul>\\n\"+\n",
       "     \"<code>\\n\"+\n",
       "     \"from bokeh.resources import INLINE\\n\"+\n",
       "     \"output_notebook(resources=INLINE)\\n\"+\n",
       "     \"</code>\\n\"+\n",
       "     \"</div>\"}};\n",
       "\n",
       "  function display_loaded() {\n",
       "    var el = document.getElementById(\"60ae434e-c4df-4fe5-b9d1-981840a4c5a6\");\n",
       "    if (el != null) {\n",
       "      el.textContent = \"BokehJS is loading...\";\n",
       "    }\n",
       "    if (root.Bokeh !== undefined) {\n",
       "      if (el != null) {\n",
       "        el.textContent = \"BokehJS \" + root.Bokeh.version + \" successfully loaded.\";\n",
       "      }\n",
       "    } else if (Date.now() < root._bokeh_timeout) {\n",
       "      setTimeout(display_loaded, 100)\n",
       "    }\n",
       "  }\n",
       "\n",
       "\n",
       "  function run_callbacks() {\n",
       "    try {\n",
       "      root._bokeh_onload_callbacks.forEach(function(callback) { callback() });\n",
       "    }\n",
       "    finally {\n",
       "      delete root._bokeh_onload_callbacks\n",
       "    }\n",
       "    console.info(\"Bokeh: all callbacks have finished\");\n",
       "  }\n",
       "\n",
       "  function load_libs(js_urls, callback) {\n",
       "    root._bokeh_onload_callbacks.push(callback);\n",
       "    if (root._bokeh_is_loading > 0) {\n",
       "      console.log(\"Bokeh: BokehJS is being loaded, scheduling callback at\", now());\n",
       "      return null;\n",
       "    }\n",
       "    if (js_urls == null || js_urls.length === 0) {\n",
       "      run_callbacks();\n",
       "      return null;\n",
       "    }\n",
       "    console.log(\"Bokeh: BokehJS not loaded, scheduling load and callback at\", now());\n",
       "    root._bokeh_is_loading = js_urls.length;\n",
       "    for (var i = 0; i < js_urls.length; i++) {\n",
       "      var url = js_urls[i];\n",
       "      var s = document.createElement('script');\n",
       "      s.src = url;\n",
       "      s.async = false;\n",
       "      s.onreadystatechange = s.onload = function() {\n",
       "        root._bokeh_is_loading--;\n",
       "        if (root._bokeh_is_loading === 0) {\n",
       "          console.log(\"Bokeh: all BokehJS libraries loaded\");\n",
       "          run_callbacks()\n",
       "        }\n",
       "      };\n",
       "      s.onerror = function() {\n",
       "        console.warn(\"failed to load library \" + url);\n",
       "      };\n",
       "      console.log(\"Bokeh: injecting script tag for BokehJS library: \", url);\n",
       "      document.getElementsByTagName(\"head\")[0].appendChild(s);\n",
       "    }\n",
       "  };var element = document.getElementById(\"60ae434e-c4df-4fe5-b9d1-981840a4c5a6\");\n",
       "  if (element == null) {\n",
       "    console.log(\"Bokeh: ERROR: autoload.js configured with elementid '60ae434e-c4df-4fe5-b9d1-981840a4c5a6' but no matching script tag was found. \")\n",
       "    return false;\n",
       "  }\n",
       "\n",
       "  var js_urls = [\"https://cdn.pydata.org/bokeh/release/bokeh-0.12.9.min.js\", \"https://cdn.pydata.org/bokeh/release/bokeh-widgets-0.12.9.min.js\", \"https://cdn.pydata.org/bokeh/release/bokeh-tables-0.12.9.min.js\", \"https://cdn.pydata.org/bokeh/release/bokeh-gl-0.12.9.min.js\"];\n",
       "\n",
       "  var inline_js = [\n",
       "    function(Bokeh) {\n",
       "      Bokeh.set_log_level(\"info\");\n",
       "    },\n",
       "    \n",
       "    function(Bokeh) {\n",
       "      \n",
       "    },\n",
       "    function(Bokeh) {\n",
       "      console.log(\"Bokeh: injecting CSS: https://cdn.pydata.org/bokeh/release/bokeh-0.12.9.min.css\");\n",
       "      Bokeh.embed.inject_css(\"https://cdn.pydata.org/bokeh/release/bokeh-0.12.9.min.css\");\n",
       "      console.log(\"Bokeh: injecting CSS: https://cdn.pydata.org/bokeh/release/bokeh-widgets-0.12.9.min.css\");\n",
       "      Bokeh.embed.inject_css(\"https://cdn.pydata.org/bokeh/release/bokeh-widgets-0.12.9.min.css\");\n",
       "      console.log(\"Bokeh: injecting CSS: https://cdn.pydata.org/bokeh/release/bokeh-tables-0.12.9.min.css\");\n",
       "      Bokeh.embed.inject_css(\"https://cdn.pydata.org/bokeh/release/bokeh-tables-0.12.9.min.css\");\n",
       "    }\n",
       "  ];\n",
       "\n",
       "  function run_inline_js() {\n",
       "    \n",
       "    if ((root.Bokeh !== undefined) || (force === true)) {\n",
       "      for (var i = 0; i < inline_js.length; i++) {\n",
       "        inline_js[i].call(root, root.Bokeh);\n",
       "      }if (force === true) {\n",
       "        display_loaded();\n",
       "      }} else if (Date.now() < root._bokeh_timeout) {\n",
       "      setTimeout(run_inline_js, 100);\n",
       "    } else if (!root._bokeh_failed_load) {\n",
       "      console.log(\"Bokeh: BokehJS failed to load within specified timeout.\");\n",
       "      root._bokeh_failed_load = true;\n",
       "    } else if (force !== true) {\n",
       "      var cell = $(document.getElementById(\"60ae434e-c4df-4fe5-b9d1-981840a4c5a6\")).parents('.cell').data().cell;\n",
       "      cell.output_area.append_execute_result(NB_LOAD_WARNING)\n",
       "    }\n",
       "\n",
       "  }\n",
       "\n",
       "  if (root._bokeh_is_loading === 0) {\n",
       "    console.log(\"Bokeh: BokehJS loaded, going straight to plotting\");\n",
       "    run_inline_js();\n",
       "  } else {\n",
       "    load_libs(js_urls, function() {\n",
       "      console.log(\"Bokeh: BokehJS plotting callback run at\", now());\n",
       "      run_inline_js();\n",
       "    });\n",
       "  }\n",
       "}(window));"
      ],
      "application/vnd.bokehjs_load.v0+json": "\n(function(root) {\n  function now() {\n    return new Date();\n  }\n\n  var force = true;\n\n  if (typeof (root._bokeh_onload_callbacks) === \"undefined\" || force === true) {\n    root._bokeh_onload_callbacks = [];\n    root._bokeh_is_loading = undefined;\n  }\n\n  \n\n  \n  if (typeof (root._bokeh_timeout) === \"undefined\" || force === true) {\n    root._bokeh_timeout = Date.now() + 5000;\n    root._bokeh_failed_load = false;\n  }\n\n  var NB_LOAD_WARNING = {'data': {'text/html':\n     \"<div style='background-color: #fdd'>\\n\"+\n     \"<p>\\n\"+\n     \"BokehJS does not appear to have successfully loaded. If loading BokehJS from CDN, this \\n\"+\n     \"may be due to a slow or bad network connection. Possible fixes:\\n\"+\n     \"</p>\\n\"+\n     \"<ul>\\n\"+\n     \"<li>re-rerun `output_notebook()` to attempt to load from CDN again, or</li>\\n\"+\n     \"<li>use INLINE resources instead, as so:</li>\\n\"+\n     \"</ul>\\n\"+\n     \"<code>\\n\"+\n     \"from bokeh.resources import INLINE\\n\"+\n     \"output_notebook(resources=INLINE)\\n\"+\n     \"</code>\\n\"+\n     \"</div>\"}};\n\n  function display_loaded() {\n    var el = document.getElementById(\"60ae434e-c4df-4fe5-b9d1-981840a4c5a6\");\n    if (el != null) {\n      el.textContent = \"BokehJS is loading...\";\n    }\n    if (root.Bokeh !== undefined) {\n      if (el != null) {\n        el.textContent = \"BokehJS \" + root.Bokeh.version + \" successfully loaded.\";\n      }\n    } else if (Date.now() < root._bokeh_timeout) {\n      setTimeout(display_loaded, 100)\n    }\n  }\n\n\n  function run_callbacks() {\n    try {\n      root._bokeh_onload_callbacks.forEach(function(callback) { callback() });\n    }\n    finally {\n      delete root._bokeh_onload_callbacks\n    }\n    console.info(\"Bokeh: all callbacks have finished\");\n  }\n\n  function load_libs(js_urls, callback) {\n    root._bokeh_onload_callbacks.push(callback);\n    if (root._bokeh_is_loading > 0) {\n      console.log(\"Bokeh: BokehJS is being loaded, scheduling callback at\", now());\n      return null;\n    }\n    if (js_urls == null || js_urls.length === 0) {\n      run_callbacks();\n      return null;\n    }\n    console.log(\"Bokeh: BokehJS not loaded, scheduling load and callback at\", now());\n    root._bokeh_is_loading = js_urls.length;\n    for (var i = 0; i < js_urls.length; i++) {\n      var url = js_urls[i];\n      var s = document.createElement('script');\n      s.src = url;\n      s.async = false;\n      s.onreadystatechange = s.onload = function() {\n        root._bokeh_is_loading--;\n        if (root._bokeh_is_loading === 0) {\n          console.log(\"Bokeh: all BokehJS libraries loaded\");\n          run_callbacks()\n        }\n      };\n      s.onerror = function() {\n        console.warn(\"failed to load library \" + url);\n      };\n      console.log(\"Bokeh: injecting script tag for BokehJS library: \", url);\n      document.getElementsByTagName(\"head\")[0].appendChild(s);\n    }\n  };var element = document.getElementById(\"60ae434e-c4df-4fe5-b9d1-981840a4c5a6\");\n  if (element == null) {\n    console.log(\"Bokeh: ERROR: autoload.js configured with elementid '60ae434e-c4df-4fe5-b9d1-981840a4c5a6' but no matching script tag was found. \")\n    return false;\n  }\n\n  var js_urls = [\"https://cdn.pydata.org/bokeh/release/bokeh-0.12.9.min.js\", \"https://cdn.pydata.org/bokeh/release/bokeh-widgets-0.12.9.min.js\", \"https://cdn.pydata.org/bokeh/release/bokeh-tables-0.12.9.min.js\", \"https://cdn.pydata.org/bokeh/release/bokeh-gl-0.12.9.min.js\"];\n\n  var inline_js = [\n    function(Bokeh) {\n      Bokeh.set_log_level(\"info\");\n    },\n    \n    function(Bokeh) {\n      \n    },\n    function(Bokeh) {\n      console.log(\"Bokeh: injecting CSS: https://cdn.pydata.org/bokeh/release/bokeh-0.12.9.min.css\");\n      Bokeh.embed.inject_css(\"https://cdn.pydata.org/bokeh/release/bokeh-0.12.9.min.css\");\n      console.log(\"Bokeh: injecting CSS: https://cdn.pydata.org/bokeh/release/bokeh-widgets-0.12.9.min.css\");\n      Bokeh.embed.inject_css(\"https://cdn.pydata.org/bokeh/release/bokeh-widgets-0.12.9.min.css\");\n      console.log(\"Bokeh: injecting CSS: https://cdn.pydata.org/bokeh/release/bokeh-tables-0.12.9.min.css\");\n      Bokeh.embed.inject_css(\"https://cdn.pydata.org/bokeh/release/bokeh-tables-0.12.9.min.css\");\n    }\n  ];\n\n  function run_inline_js() {\n    \n    if ((root.Bokeh !== undefined) || (force === true)) {\n      for (var i = 0; i < inline_js.length; i++) {\n        inline_js[i].call(root, root.Bokeh);\n      }if (force === true) {\n        display_loaded();\n      }} else if (Date.now() < root._bokeh_timeout) {\n      setTimeout(run_inline_js, 100);\n    } else if (!root._bokeh_failed_load) {\n      console.log(\"Bokeh: BokehJS failed to load within specified timeout.\");\n      root._bokeh_failed_load = true;\n    } else if (force !== true) {\n      var cell = $(document.getElementById(\"60ae434e-c4df-4fe5-b9d1-981840a4c5a6\")).parents('.cell').data().cell;\n      cell.output_area.append_execute_result(NB_LOAD_WARNING)\n    }\n\n  }\n\n  if (root._bokeh_is_loading === 0) {\n    console.log(\"Bokeh: BokehJS loaded, going straight to plotting\");\n    run_inline_js();\n  } else {\n    load_libs(js_urls, function() {\n      console.log(\"Bokeh: BokehJS plotting callback run at\", now());\n      run_inline_js();\n    });\n  }\n}(window));"
     },
     "metadata": {},
     "output_type": "display_data"
    },
    {
     "data": {
      "text/html": [
       "\n",
       "<div class=\"bk-root\">\n",
       "    <div class=\"bk-plotdiv\" id=\"01ef175d-0804-4f90-b7b4-94977aa4c1b0\"></div>\n",
       "</div>"
      ]
     },
     "metadata": {},
     "output_type": "display_data"
    },
    {
     "data": {
      "application/javascript": [
       "(function(root) {\n",
       "  function embed_document(root) {\n",
       "    var docs_json = {\"2126a3f9-3dff-4558-a2a3-ff35d35e47bd\":{\"roots\":{\"references\":[{\"attributes\":{\"fill_color\":{\"field\":\"Score\",\"transform\":{\"id\":\"a40801d7-a8a5-4bdf-aae1-0557cbd9d04a\",\"type\":\"LinearColorMapper\"}},\"height\":{\"units\":\"data\",\"value\":1},\"line_color\":{\"value\":null},\"width\":{\"units\":\"data\",\"value\":1},\"x\":{\"field\":\"Document\"},\"y\":{\"field\":\"Topic\"}},\"id\":\"96a836f2-0afc-4102-a596-6fe10745b03a\",\"type\":\"Rect\"},{\"attributes\":{\"bottom_units\":\"screen\",\"fill_alpha\":{\"value\":0.5},\"fill_color\":{\"value\":\"lightgrey\"},\"left_units\":\"screen\",\"level\":\"overlay\",\"line_alpha\":{\"value\":1.0},\"line_color\":{\"value\":\"black\"},\"line_dash\":[4,4],\"line_width\":{\"value\":2},\"plot\":null,\"render_mode\":\"css\",\"right_units\":\"screen\",\"top_units\":\"screen\"},\"id\":\"fbd4705f-9c60-4e54-8b33-14b14f1a4f71\",\"type\":\"BoxAnnotation\"},{\"attributes\":{},\"id\":\"846fe828-33c1-4f4e-ad79-ab94aa40f5dd\",\"type\":\"CategoricalTicker\"},{\"attributes\":{\"callback\":null,\"column_names\":[\"index\",\"Document\",\"Topic\",\"Score\"],\"data\":{\"Document\":[\"1844_Tagebuch_56\",\"1844_Tagebuch_56\",\"1844_Tagebuch_56\",\"1844_Tagebuch_56\",\"1844_Tagebuch_56\",\"1844_Tagebuch_56\",\"1844_Tagebuch_56\",\"1844_Tagebuch_56\",\"1844_Tagebuch_56\",\"1844_Tagebuch_56\",\"1844_Tagebuch_70\",\"1844_Tagebuch_70\",\"1844_Tagebuch_70\",\"1844_Tagebuch_70\",\"1844_Tagebuch_70\",\"1844_Tagebuch_70\",\"1844_Tagebuch_70\",\"1844_Tagebuch_70\",\"1844_Tagebuch_70\",\"1844_Tagebuch_70\",\"1844_Tagebuch_77\",\"1844_Tagebuch_77\",\"1844_Tagebuch_77\",\"1844_Tagebuch_77\",\"1844_Tagebuch_77\",\"1844_Tagebuch_77\",\"1844_Tagebuch_77\",\"1844_Tagebuch_77\",\"1844_Tagebuch_77\",\"1844_Tagebuch_77\",\"1844_Tagebuch_82\",\"1844_Tagebuch_82\",\"1844_Tagebuch_82\",\"1844_Tagebuch_82\",\"1844_Tagebuch_82\",\"1844_Tagebuch_82\",\"1844_Tagebuch_82\",\"1844_Tagebuch_82\",\"1844_Tagebuch_82\",\"1844_Tagebuch_82\",\"1844_Tagebuch_88\",\"1844_Tagebuch_88\",\"1844_Tagebuch_88\",\"1844_Tagebuch_88\",\"1844_Tagebuch_88\",\"1844_Tagebuch_88\",\"1844_Tagebuch_88\",\"1844_Tagebuch_88\",\"1844_Tagebuch_88\",\"1844_Tagebuch_88\",\"1845_Tagebuch_52\",\"1845_Tagebuch_52\",\"1845_Tagebuch_52\",\"1845_Tagebuch_52\",\"1845_Tagebuch_52\",\"1845_Tagebuch_52\",\"1845_Tagebuch_52\",\"1845_Tagebuch_52\",\"1845_Tagebuch_52\",\"1845_Tagebuch_52\",\"1845_Tagebuch_62\",\"1845_Tagebuch_62\",\"1845_Tagebuch_62\",\"1845_Tagebuch_62\",\"1845_Tagebuch_62\",\"1845_Tagebuch_62\",\"1845_Tagebuch_62\",\"1845_Tagebuch_62\",\"1845_Tagebuch_62\",\"1845_Tagebuch_62\",\"1845_Tagebuch_81\",\"1845_Tagebuch_81\",\"1845_Tagebuch_81\",\"1845_Tagebuch_81\",\"1845_Tagebuch_81\",\"1845_Tagebuch_81\",\"1845_Tagebuch_81\",\"1845_Tagebuch_81\",\"1845_Tagebuch_81\",\"1845_Tagebuch_81\",\"1845_Tagebuch_85\",\"1845_Tagebuch_85\",\"1845_Tagebuch_85\",\"1845_Tagebuch_85\",\"1845_Tagebuch_85\",\"1845_Tagebuch_85\",\"1845_Tagebuch_85\",\"1845_Tagebuch_85\",\"1845_Tagebuch_85\",\"1845_Tagebuch_85\",\"1845_Tagebuch_93\",\"1845_Tagebuch_93\",\"1845_Tagebuch_93\",\"1845_Tagebuch_93\",\"1845_Tagebuch_93\",\"1845_Tagebuch_93\",\"1845_Tagebuch_93\",\"1845_Tagebuch_93\",\"1845_Tagebuch_93\",\"1845_Tagebuch_93\",\"1846_Tagebuch_51\",\"1846_Tagebuch_51\",\"1846_Tagebuch_51\",\"1846_Tagebuch_51\",\"1846_Tagebuch_51\",\"1846_Tagebuch_51\",\"1846_Tagebuch_51\",\"1846_Tagebuch_51\",\"1846_Tagebuch_51\",\"1846_Tagebuch_51\",\"1846_Tagebuch_72\",\"1846_Tagebuch_72\",\"1846_Tagebuch_72\",\"1846_Tagebuch_72\",\"1846_Tagebuch_72\",\"1846_Tagebuch_72\",\"1846_Tagebuch_72\",\"1846_Tagebuch_72\",\"1846_Tagebuch_72\",\"1846_Tagebuch_72\",\"1846_Tagebuch_82\",\"1846_Tagebuch_82\",\"1846_Tagebuch_82\",\"1846_Tagebuch_82\",\"1846_Tagebuch_82\",\"1846_Tagebuch_82\",\"1846_Tagebuch_82\",\"1846_Tagebuch_82\",\"1846_Tagebuch_82\",\"1846_Tagebuch_82\",\"1846_Tagebuch_88\",\"1846_Tagebuch_88\",\"1846_Tagebuch_88\",\"1846_Tagebuch_88\",\"1846_Tagebuch_88\",\"1846_Tagebuch_88\",\"1846_Tagebuch_88\",\"1846_Tagebuch_88\",\"1846_Tagebuch_88\",\"1846_Tagebuch_88\",\"1846_Tagebuch_96\",\"1846_Tagebuch_96\",\"1846_Tagebuch_96\",\"1846_Tagebuch_96\",\"1846_Tagebuch_96\",\"1846_Tagebuch_96\",\"1846_Tagebuch_96\",\"1846_Tagebuch_96\",\"1846_Tagebuch_96\",\"1846_Tagebuch_96\",\"1914_Kriegstagebuch_37\",\"1914_Kriegstagebuch_37\",\"1914_Kriegstagebuch_37\",\"1914_Kriegstagebuch_37\",\"1914_Kriegstagebuch_37\",\"1914_Kriegstagebuch_37\",\"1914_Kriegstagebuch_37\",\"1914_Kriegstagebuch_37\",\"1914_Kriegstagebuch_37\",\"1914_Kriegstagebuch_37\",\"1914_Kriegstagebuch_68\",\"1914_Kriegstagebuch_68\",\"1914_Kriegstagebuch_68\",\"1914_Kriegstagebuch_68\",\"1914_Kriegstagebuch_68\",\"1914_Kriegstagebuch_68\",\"1914_Kriegstagebuch_68\",\"1914_Kriegstagebuch_68\",\"1914_Kriegstagebuch_68\",\"1914_Kriegstagebuch_68\",\"1914_Kriegstagebuch_94\",\"1914_Kriegstagebuch_94\",\"1914_Kriegstagebuch_94\",\"1914_Kriegstagebuch_94\",\"1914_Kriegstagebuch_94\",\"1914_Kriegstagebuch_94\",\"1914_Kriegstagebuch_94\",\"1914_Kriegstagebuch_94\",\"1914_Kriegstagebuch_94\",\"1914_Kriegstagebuch_94\",\"1914_Kriegstagebuch_95\",\"1914_Kriegstagebuch_95\",\"1914_Kriegstagebuch_95\",\"1914_Kriegstagebuch_95\",\"1914_Kriegstagebuch_95\",\"1914_Kriegstagebuch_95\",\"1914_Kriegstagebuch_95\",\"1914_Kriegstagebuch_95\",\"1914_Kriegstagebuch_95\",\"1914_Kriegstagebuch_95\",\"1914_Kriegstagebuch_97\",\"1914_Kriegstagebuch_97\",\"1914_Kriegstagebuch_97\",\"1914_Kriegstagebuch_97\",\"1914_Kriegstagebuch_97\",\"1914_Kriegstagebuch_97\",\"1914_Kriegstagebuch_97\",\"1914_Kriegstagebuch_97\",\"1914_Kriegstagebuch_97\",\"1914_Kriegstagebuch_97\",\"1915_Kriegstagebuch_33\",\"1915_Kriegstagebuch_33\",\"1915_Kriegstagebuch_33\",\"1915_Kriegstagebuch_33\",\"1915_Kriegstagebuch_33\",\"1915_Kriegstagebuch_33\",\"1915_Kriegstagebuch_33\",\"1915_Kriegstagebuch_33\",\"1915_Kriegstagebuch_33\",\"1915_Kriegstagebuch_33\",\"1915_Kriegstagebuch_39\",\"1915_Kriegstagebuch_39\",\"1915_Kriegstagebuch_39\",\"1915_Kriegstagebuch_39\",\"1915_Kriegstagebuch_39\",\"1915_Kriegstagebuch_39\",\"1915_Kriegstagebuch_39\",\"1915_Kriegstagebuch_39\",\"1915_Kriegstagebuch_39\",\"1915_Kriegstagebuch_39\",\"1915_Kriegstagebuch_73\",\"1915_Kriegstagebuch_73\",\"1915_Kriegstagebuch_73\",\"1915_Kriegstagebuch_73\",\"1915_Kriegstagebuch_73\",\"1915_Kriegstagebuch_73\",\"1915_Kriegstagebuch_73\",\"1915_Kriegstagebuch_73\",\"1915_Kriegstagebuch_73\",\"1915_Kriegstagebuch_73\",\"1915_Kriegstagebuch_94\",\"1915_Kriegstagebuch_94\",\"1915_Kriegstagebuch_94\",\"1915_Kriegstagebuch_94\",\"1915_Kriegstagebuch_94\",\"1915_Kriegstagebuch_94\",\"1915_Kriegstagebuch_94\",\"1915_Kriegstagebuch_94\",\"1915_Kriegstagebuch_94\",\"1915_Kriegstagebuch_94\",\"1915_Kriegstagebuch_99\",\"1915_Kriegstagebuch_99\",\"1915_Kriegstagebuch_99\",\"1915_Kriegstagebuch_99\",\"1915_Kriegstagebuch_99\",\"1915_Kriegstagebuch_99\",\"1915_Kriegstagebuch_99\",\"1915_Kriegstagebuch_99\",\"1915_Kriegstagebuch_99\",\"1915_Kriegstagebuch_99\",\"1916_Kriegstagebuch_41\",\"1916_Kriegstagebuch_41\",\"1916_Kriegstagebuch_41\",\"1916_Kriegstagebuch_41\",\"1916_Kriegstagebuch_41\",\"1916_Kriegstagebuch_41\",\"1916_Kriegstagebuch_41\",\"1916_Kriegstagebuch_41\",\"1916_Kriegstagebuch_41\",\"1916_Kriegstagebuch_41\",\"1916_Kriegstagebuch_48\",\"1916_Kriegstagebuch_48\",\"1916_Kriegstagebuch_48\",\"1916_Kriegstagebuch_48\",\"1916_Kriegstagebuch_48\",\"1916_Kriegstagebuch_48\",\"1916_Kriegstagebuch_48\",\"1916_Kriegstagebuch_48\",\"1916_Kriegstagebuch_48\",\"1916_Kriegstagebuch_48\",\"1916_Kriegstagebuch_49\",\"1916_Kriegstagebuch_49\",\"1916_Kriegstagebuch_49\",\"1916_Kriegstagebuch_49\",\"1916_Kriegstagebuch_49\",\"1916_Kriegstagebuch_49\",\"1916_Kriegstagebuch_49\",\"1916_Kriegstagebuch_49\",\"1916_Kriegstagebuch_49\",\"1916_Kriegstagebuch_49\",\"1916_Kriegstagebuch_69\",\"1916_Kriegstagebuch_69\",\"1916_Kriegstagebuch_69\",\"1916_Kriegstagebuch_69\",\"1916_Kriegstagebuch_69\",\"1916_Kriegstagebuch_69\",\"1916_Kriegstagebuch_69\",\"1916_Kriegstagebuch_69\",\"1916_Kriegstagebuch_69\",\"1916_Kriegstagebuch_69\",\"1916_Kriegstagebuch_81\",\"1916_Kriegstagebuch_81\",\"1916_Kriegstagebuch_81\",\"1916_Kriegstagebuch_81\",\"1916_Kriegstagebuch_81\",\"1916_Kriegstagebuch_81\",\"1916_Kriegstagebuch_81\",\"1916_Kriegstagebuch_81\",\"1916_Kriegstagebuch_81\",\"1916_Kriegstagebuch_81\"],\"Score\":{\"__ndarray__\":\"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\",\"dtype\":\"float64\",\"shape\":[300]},\"Topic\":[\"september frankreich antwerpen\",\"alten hiesigen zeitung\",\"oesterreich deutschland preu\\u00dfen\",\"wiener berliner wien\",\"kunst k\\u00f6nig personen\",\"leipzig zeitung ward\",\"juli s\\u00fcdlich m\\u00e4rz\",\"lassen berlin weise\",\"gesch\\u00fctze januar genommen\",\"presse regierung geben\",\"september frankreich antwerpen\",\"alten hiesigen zeitung\",\"oesterreich deutschland preu\\u00dfen\",\"wiener berliner wien\",\"kunst k\\u00f6nig personen\",\"leipzig zeitung ward\",\"juli s\\u00fcdlich m\\u00e4rz\",\"lassen berlin weise\",\"gesch\\u00fctze januar genommen\",\"presse regierung geben\",\"september frankreich antwerpen\",\"alten hiesigen zeitung\",\"oesterreich deutschland preu\\u00dfen\",\"wiener berliner wien\",\"kunst k\\u00f6nig personen\",\"leipzig zeitung ward\",\"juli s\\u00fcdlich m\\u00e4rz\",\"lassen berlin weise\",\"gesch\\u00fctze januar genommen\",\"presse regierung geben\",\"september frankreich antwerpen\",\"alten hiesigen zeitung\",\"oesterreich deutschland preu\\u00dfen\",\"wiener berliner wien\",\"kunst k\\u00f6nig personen\",\"leipzig zeitung ward\",\"juli s\\u00fcdlich m\\u00e4rz\",\"lassen berlin weise\",\"gesch\\u00fctze januar genommen\",\"presse regierung geben\",\"september frankreich antwerpen\",\"alten hiesigen zeitung\",\"oesterreich deutschland preu\\u00dfen\",\"wiener berliner wien\",\"kunst k\\u00f6nig personen\",\"leipzig zeitung ward\",\"juli s\\u00fcdlich m\\u00e4rz\",\"lassen berlin weise\",\"gesch\\u00fctze januar genommen\",\"presse regierung geben\",\"september frankreich antwerpen\",\"alten hiesigen zeitung\",\"oesterreich deutschland preu\\u00dfen\",\"wiener berliner wien\",\"kunst k\\u00f6nig personen\",\"leipzig zeitung ward\",\"juli s\\u00fcdlich m\\u00e4rz\",\"lassen berlin weise\",\"gesch\\u00fctze januar genommen\",\"presse regierung geben\",\"september frankreich antwerpen\",\"alten hiesigen zeitung\",\"oesterreich deutschland preu\\u00dfen\",\"wiener berliner wien\",\"kunst k\\u00f6nig personen\",\"leipzig zeitung ward\",\"juli s\\u00fcdlich m\\u00e4rz\",\"lassen berlin weise\",\"gesch\\u00fctze januar genommen\",\"presse regierung geben\",\"september frankreich antwerpen\",\"alten hiesigen zeitung\",\"oesterreich deutschland preu\\u00dfen\",\"wiener berliner wien\",\"kunst k\\u00f6nig personen\",\"leipzig zeitung ward\",\"juli s\\u00fcdlich m\\u00e4rz\",\"lassen berlin weise\",\"gesch\\u00fctze januar genommen\",\"presse regierung geben\",\"september frankreich antwerpen\",\"alten hiesigen zeitung\",\"oesterreich deutschland preu\\u00dfen\",\"wiener berliner wien\",\"kunst k\\u00f6nig personen\",\"leipzig zeitung ward\",\"juli s\\u00fcdlich m\\u00e4rz\",\"lassen berlin weise\",\"gesch\\u00fctze januar genommen\",\"presse regierung geben\",\"september frankreich antwerpen\",\"alten hiesigen zeitung\",\"oesterreich deutschland preu\\u00dfen\",\"wiener berliner wien\",\"kunst k\\u00f6nig personen\",\"leipzig zeitung ward\",\"juli s\\u00fcdlich m\\u00e4rz\",\"lassen berlin weise\",\"gesch\\u00fctze januar genommen\",\"presse regierung geben\",\"september frankreich antwerpen\",\"alten hiesigen zeitung\",\"oesterreich deutschland preu\\u00dfen\",\"wiener berliner wien\",\"kunst k\\u00f6nig personen\",\"leipzig zeitung ward\",\"juli s\\u00fcdlich m\\u00e4rz\",\"lassen berlin weise\",\"gesch\\u00fctze januar genommen\",\"presse regierung geben\",\"september frankreich antwerpen\",\"alten hiesigen zeitung\",\"oesterreich deutschland preu\\u00dfen\",\"wiener berliner wien\",\"kunst k\\u00f6nig personen\",\"leipzig zeitung ward\",\"juli s\\u00fcdlich m\\u00e4rz\",\"lassen berlin weise\",\"gesch\\u00fctze januar genommen\",\"presse regierung geben\",\"september frankreich antwerpen\",\"alten hiesigen zeitung\",\"oesterreich deutschland preu\\u00dfen\",\"wiener berliner wien\",\"kunst k\\u00f6nig personen\",\"leipzig zeitung ward\",\"juli s\\u00fcdlich m\\u00e4rz\",\"lassen berlin weise\",\"gesch\\u00fctze januar genommen\",\"presse regierung geben\",\"september frankreich antwerpen\",\"alten hiesigen zeitung\",\"oesterreich deutschland preu\\u00dfen\",\"wiener berliner wien\",\"kunst k\\u00f6nig personen\",\"leipzig zeitung ward\",\"juli s\\u00fcdlich m\\u00e4rz\",\"lassen berlin weise\",\"gesch\\u00fctze januar genommen\",\"presse regierung geben\",\"september frankreich antwerpen\",\"alten hiesigen zeitung\",\"oesterreich deutschland preu\\u00dfen\",\"wiener berliner wien\",\"kunst k\\u00f6nig personen\",\"leipzig zeitung ward\",\"juli s\\u00fcdlich m\\u00e4rz\",\"lassen berlin weise\",\"gesch\\u00fctze januar genommen\",\"presse regierung geben\",\"september frankreich antwerpen\",\"alten hiesigen zeitung\",\"oesterreich deutschland preu\\u00dfen\",\"wiener berliner wien\",\"kunst k\\u00f6nig personen\",\"leipzig zeitung ward\",\"juli s\\u00fcdlich m\\u00e4rz\",\"lassen berlin weise\",\"gesch\\u00fctze januar genommen\",\"presse regierung geben\",\"september frankreich antwerpen\",\"alten hiesigen zeitung\",\"oesterreich deutschland preu\\u00dfen\",\"wiener berliner wien\",\"kunst k\\u00f6nig personen\",\"leipzig zeitung ward\",\"juli s\\u00fcdlich m\\u00e4rz\",\"lassen berlin weise\",\"gesch\\u00fctze januar genommen\",\"presse regierung geben\",\"september frankreich antwerpen\",\"alten hiesigen zeitung\",\"oesterreich deutschland preu\\u00dfen\",\"wiener berliner wien\",\"kunst k\\u00f6nig personen\",\"leipzig zeitung ward\",\"juli s\\u00fcdlich m\\u00e4rz\",\"lassen berlin weise\",\"gesch\\u00fctze januar genommen\",\"presse regierung geben\",\"september frankreich antwerpen\",\"alten hiesigen zeitung\",\"oesterreich deutschland preu\\u00dfen\",\"wiener berliner wien\",\"kunst k\\u00f6nig personen\",\"leipzig zeitung ward\",\"juli s\\u00fcdlich m\\u00e4rz\",\"lassen berlin weise\",\"gesch\\u00fctze januar genommen\",\"presse regierung geben\",\"september frankreich antwerpen\",\"alten hiesigen zeitung\",\"oesterreich deutschland preu\\u00dfen\",\"wiener berliner wien\",\"kunst k\\u00f6nig personen\",\"leipzig zeitung ward\",\"juli s\\u00fcdlich m\\u00e4rz\",\"lassen berlin weise\",\"gesch\\u00fctze januar genommen\",\"presse regierung geben\",\"september frankreich antwerpen\",\"alten hiesigen zeitung\",\"oesterreich deutschland preu\\u00dfen\",\"wiener berliner wien\",\"kunst k\\u00f6nig personen\",\"leipzig zeitung ward\",\"juli s\\u00fcdlich m\\u00e4rz\",\"lassen berlin weise\",\"gesch\\u00fctze januar genommen\",\"presse regierung geben\",\"september frankreich antwerpen\",\"alten hiesigen zeitung\",\"oesterreich deutschland preu\\u00dfen\",\"wiener berliner wien\",\"kunst k\\u00f6nig personen\",\"leipzig zeitung ward\",\"juli s\\u00fcdlich m\\u00e4rz\",\"lassen berlin weise\",\"gesch\\u00fctze januar genommen\",\"presse regierung geben\",\"september frankreich antwerpen\",\"alten hiesigen zeitung\",\"oesterreich deutschland preu\\u00dfen\",\"wiener berliner wien\",\"kunst k\\u00f6nig personen\",\"leipzig zeitung ward\",\"juli s\\u00fcdlich m\\u00e4rz\",\"lassen berlin weise\",\"gesch\\u00fctze januar genommen\",\"presse regierung geben\",\"september frankreich antwerpen\",\"alten hiesigen zeitung\",\"oesterreich deutschland preu\\u00dfen\",\"wiener berliner wien\",\"kunst k\\u00f6nig personen\",\"leipzig zeitung ward\",\"juli s\\u00fcdlich m\\u00e4rz\",\"lassen berlin weise\",\"gesch\\u00fctze januar genommen\",\"presse regierung geben\",\"september frankreich antwerpen\",\"alten hiesigen zeitung\",\"oesterreich deutschland preu\\u00dfen\",\"wiener berliner wien\",\"kunst k\\u00f6nig personen\",\"leipzig zeitung ward\",\"juli s\\u00fcdlich m\\u00e4rz\",\"lassen berlin weise\",\"gesch\\u00fctze januar genommen\",\"presse regierung geben\",\"september frankreich antwerpen\",\"alten hiesigen zeitung\",\"oesterreich deutschland preu\\u00dfen\",\"wiener berliner wien\",\"kunst k\\u00f6nig personen\",\"leipzig zeitung ward\",\"juli s\\u00fcdlich m\\u00e4rz\",\"lassen berlin weise\",\"gesch\\u00fctze januar genommen\",\"presse regierung geben\",\"september frankreich antwerpen\",\"alten hiesigen zeitung\",\"oesterreich deutschland preu\\u00dfen\",\"wiener berliner wien\",\"kunst k\\u00f6nig personen\",\"leipzig zeitung ward\",\"juli s\\u00fcdlich m\\u00e4rz\",\"lassen berlin weise\",\"gesch\\u00fctze januar genommen\",\"presse regierung geben\",\"september frankreich antwerpen\",\"alten hiesigen zeitung\",\"oesterreich deutschland preu\\u00dfen\",\"wiener berliner wien\",\"kunst k\\u00f6nig personen\",\"leipzig zeitung ward\",\"juli s\\u00fcdlich m\\u00e4rz\",\"lassen berlin weise\",\"gesch\\u00fctze januar genommen\",\"presse regierung geben\",\"september frankreich antwerpen\",\"alten hiesigen zeitung\",\"oesterreich deutschland preu\\u00dfen\",\"wiener berliner wien\",\"kunst k\\u00f6nig personen\",\"leipzig zeitung ward\",\"juli s\\u00fcdlich m\\u00e4rz\",\"lassen berlin weise\",\"gesch\\u00fctze januar genommen\",\"presse regierung geben\",\"september frankreich antwerpen\",\"alten hiesigen zeitung\",\"oesterreich deutschland preu\\u00dfen\",\"wiener berliner wien\",\"kunst k\\u00f6nig personen\",\"leipzig zeitung ward\",\"juli s\\u00fcdlich m\\u00e4rz\",\"lassen berlin weise\",\"gesch\\u00fctze januar genommen\",\"presse regierung geben\"],\"index\":[0,1,2,3,4,5,6,7,8,9,10,11,12,13,14,15,16,17,18,19,20,21,22,23,24,25,26,27,28,29,30,31,32,33,34,35,36,37,38,39,40,41,42,43,44,45,46,47,48,49,50,51,52,53,54,55,56,57,58,59,60,61,62,63,64,65,66,67,68,69,70,71,72,73,74,75,76,77,78,79,80,81,82,83,84,85,86,87,88,89,90,91,92,93,94,95,96,97,98,99,100,101,102,103,104,105,106,107,108,109,110,111,112,113,114,115,116,117,118,119,120,121,122,123,124,125,126,127,128,129,130,131,132,133,134,135,136,137,138,139,140,141,142,143,144,145,146,147,148,149,150,151,152,153,154,155,156,157,158,159,160,161,162,163,164,165,166,167,168,169,170,171,172,173,174,175,176,177,178,179,180,181,182,183,184,185,186,187,188,189,190,191,192,193,194,195,196,197,198,199,200,201,202,203,204,205,206,207,208,209,210,211,212,213,214,215,216,217,218,219,220,221,222,223,224,225,226,227,228,229,230,231,232,233,234,235,236,237,238,239,240,241,242,243,244,245,246,247,248,249,250,251,252,253,254,255,256,257,258,259,260,261,262,263,264,265,266,267,268,269,270,271,272,273,274,275,276,277,278,279,280,281,282,283,284,285,286,287,288,289,290,291,292,293,294,295,296,297,298,299]}},\"id\":\"8cf03cd7-1e9a-41cf-8fb0-b7d0a0bc1412\",\"type\":\"ColumnDataSource\"},{\"attributes\":{\"high\":0.8487373737373737,\"low\":2.4527839097375523e-05,\"palette\":[\"#c6dbef\",\"#9ecae1\",\"#6baed6\",\"#4292c6\",\"#2171b5\",\"#08519c\",\"#08306b\"]},\"id\":\"a40801d7-a8a5-4bdf-aae1-0557cbd9d04a\",\"type\":\"LinearColorMapper\"},{\"attributes\":{\"callback\":null,\"factors\":[\"1844_Tagebuch_56\",\"1844_Tagebuch_70\",\"1844_Tagebuch_77\",\"1844_Tagebuch_82\",\"1844_Tagebuch_88\",\"1845_Tagebuch_52\",\"1845_Tagebuch_62\",\"1845_Tagebuch_81\",\"1845_Tagebuch_85\",\"1845_Tagebuch_93\",\"1846_Tagebuch_51\",\"1846_Tagebuch_72\",\"1846_Tagebuch_82\",\"1846_Tagebuch_88\",\"1846_Tagebuch_96\",\"1914_Kriegstagebuch_37\",\"1914_Kriegstagebuch_68\",\"1914_Kriegstagebuch_94\",\"1914_Kriegstagebuch_95\",\"1914_Kriegstagebuch_97\",\"1915_Kriegstagebuch_33\",\"1915_Kriegstagebuch_39\",\"1915_Kriegstagebuch_73\",\"1915_Kriegstagebuch_94\",\"1915_Kriegstagebuch_99\",\"1916_Kriegstagebuch_41\",\"1916_Kriegstagebuch_48\",\"1916_Kriegstagebuch_49\",\"1916_Kriegstagebuch_69\",\"1916_Kriegstagebuch_81\"]},\"id\":\"20cde365-9a80-43db-b60f-638cd8c95b40\",\"type\":\"FactorRange\"},{\"attributes\":{\"axis_line_color\":{\"value\":null},\"formatter\":{\"id\":\"dc3326bc-fd4e-4805-8a89-807014c3a726\",\"type\":\"CategoricalTickFormatter\"},\"major_label_standoff\":0,\"major_label_text_font_size\":{\"value\":\"9pt\"},\"major_tick_line_color\":{\"value\":null},\"plot\":{\"id\":\"37231a02-4fde-4e20-8c8c-6c2f1fbc5933\",\"subtype\":\"Figure\",\"type\":\"Plot\"},\"ticker\":{\"id\":\"846fe828-33c1-4f4e-ad79-ab94aa40f5dd\",\"type\":\"CategoricalTicker\"}},\"id\":\"cd5eaf33-657b-46b6-940d-cabeabc0506e\",\"type\":\"CategoricalAxis\"},{\"attributes\":{\"data_source\":{\"id\":\"8cf03cd7-1e9a-41cf-8fb0-b7d0a0bc1412\",\"type\":\"ColumnDataSource\"},\"glyph\":{\"id\":\"96a836f2-0afc-4102-a596-6fe10745b03a\",\"type\":\"Rect\"},\"hover_glyph\":null,\"muted_glyph\":null,\"nonselection_glyph\":{\"id\":\"17d4472c-1eaa-4038-a269-503edfe1acde\",\"type\":\"Rect\"},\"selection_glyph\":null,\"view\":{\"id\":\"9e000ab8-d113-4d4c-a1eb-32f60a1f8261\",\"type\":\"CDSView\"}},\"id\":\"d25fd613-8537-4613-87fe-c966d34847f6\",\"type\":\"GlyphRenderer\"},{\"attributes\":{},\"id\":\"ccd551dc-825a-4dd8-8129-96d9ec4193c2\",\"type\":\"WheelZoomTool\"},{\"attributes\":{\"grid_line_color\":{\"value\":null},\"plot\":{\"id\":\"37231a02-4fde-4e20-8c8c-6c2f1fbc5933\",\"subtype\":\"Figure\",\"type\":\"Plot\"},\"ticker\":{\"id\":\"8cdebccc-cd06-4cc8-8127-2bbdf323f06d\",\"type\":\"CategoricalTicker\"}},\"id\":\"180a036a-05b8-46be-ab73-cd174c102c04\",\"type\":\"Grid\"},{\"attributes\":{\"above\":[{\"id\":\"e0989db1-15e3-4681-bed7-152a825d3dac\",\"type\":\"CategoricalAxis\"}],\"left\":[{\"id\":\"cd5eaf33-657b-46b6-940d-cabeabc0506e\",\"type\":\"CategoricalAxis\"}],\"plot_height\":768,\"plot_width\":1024,\"renderers\":[{\"id\":\"e0989db1-15e3-4681-bed7-152a825d3dac\",\"type\":\"CategoricalAxis\"},{\"id\":\"180a036a-05b8-46be-ab73-cd174c102c04\",\"type\":\"Grid\"},{\"id\":\"cd5eaf33-657b-46b6-940d-cabeabc0506e\",\"type\":\"CategoricalAxis\"},{\"id\":\"21c41644-6b28-4a18-935f-671e817bf1c4\",\"type\":\"Grid\"},{\"id\":\"fbd4705f-9c60-4e54-8b33-14b14f1a4f71\",\"type\":\"BoxAnnotation\"},{\"id\":\"d25fd613-8537-4613-87fe-c966d34847f6\",\"type\":\"GlyphRenderer\"},{\"id\":\"07515a72-7cd5-4112-b6b8-f5ebbac2d6e9\",\"type\":\"ColorBar\"}],\"right\":[{\"id\":\"07515a72-7cd5-4112-b6b8-f5ebbac2d6e9\",\"type\":\"ColorBar\"}],\"sizing_mode\":\"scale_width\",\"title\":{\"id\":\"6ad11947-b9f6-49ac-b86d-6161f0d68566\",\"type\":\"Title\"},\"toolbar\":{\"id\":\"c92851c6-36c0-4f76-9881-0a2c3e20f871\",\"type\":\"Toolbar\"},\"toolbar_location\":\"below\",\"x_range\":{\"id\":\"20cde365-9a80-43db-b60f-638cd8c95b40\",\"type\":\"FactorRange\"},\"x_scale\":{\"id\":\"15f366d0-a867-4cd8-932b-4150e504710c\",\"type\":\"CategoricalScale\"},\"y_range\":{\"id\":\"9eb24e28-2f89-4f9b-bc9a-d726e8496f2e\",\"type\":\"FactorRange\"},\"y_scale\":{\"id\":\"8e2177e6-9a65-41bd-8e81-c5eb47ce895c\",\"type\":\"CategoricalScale\"}},\"id\":\"37231a02-4fde-4e20-8c8c-6c2f1fbc5933\",\"subtype\":\"Figure\",\"type\":\"Plot\"},{\"attributes\":{\"source\":{\"id\":\"8cf03cd7-1e9a-41cf-8fb0-b7d0a0bc1412\",\"type\":\"ColumnDataSource\"}},\"id\":\"9e000ab8-d113-4d4c-a1eb-32f60a1f8261\",\"type\":\"CDSView\"},{\"attributes\":{},\"id\":\"aa722f7c-bff2-479c-a31c-a21a102534ce\",\"type\":\"SaveTool\"},{\"attributes\":{},\"id\":\"844c42e3-7b23-431f-92cb-e5852d6acde2\",\"type\":\"PanTool\"},{\"attributes\":{},\"id\":\"47877da1-c475-4554-ba16-295542702ac1\",\"type\":\"CategoricalTickFormatter\"},{\"attributes\":{\"overlay\":{\"id\":\"fbd4705f-9c60-4e54-8b33-14b14f1a4f71\",\"type\":\"BoxAnnotation\"}},\"id\":\"1c2b6a83-fdce-45be-90cb-35f2b99a7784\",\"type\":\"BoxZoomTool\"},{\"attributes\":{\"callback\":null,\"factors\":[\"presse regierung geben\",\"gesch\\u00fctze januar genommen\",\"lassen berlin weise\",\"juli s\\u00fcdlich m\\u00e4rz\",\"leipzig zeitung ward\",\"kunst k\\u00f6nig personen\",\"wiener berliner wien\",\"oesterreich deutschland preu\\u00dfen\",\"alten hiesigen zeitung\",\"september frankreich antwerpen\"]},\"id\":\"9eb24e28-2f89-4f9b-bc9a-d726e8496f2e\",\"type\":\"FactorRange\"},{\"attributes\":{\"fill_alpha\":{\"value\":0.1},\"fill_color\":{\"value\":\"#1f77b4\"},\"height\":{\"units\":\"data\",\"value\":1},\"line_alpha\":{\"value\":0.1},\"line_color\":{\"value\":\"#1f77b4\"},\"width\":{\"units\":\"data\",\"value\":1},\"x\":{\"field\":\"Document\"},\"y\":{\"field\":\"Topic\"}},\"id\":\"17d4472c-1eaa-4038-a269-503edfe1acde\",\"type\":\"Rect\"},{\"attributes\":{},\"id\":\"8cdebccc-cd06-4cc8-8127-2bbdf323f06d\",\"type\":\"CategoricalTicker\"},{\"attributes\":{\"color_mapper\":{\"id\":\"a40801d7-a8a5-4bdf-aae1-0557cbd9d04a\",\"type\":\"LinearColorMapper\"},\"formatter\":{\"id\":\"c841a892-a489-4d49-8c99-9b5d1da41f0d\",\"type\":\"BasicTickFormatter\"},\"label_standoff\":6,\"location\":[0,0],\"major_label_text_font_size\":{\"value\":\"10pt\"},\"plot\":{\"id\":\"37231a02-4fde-4e20-8c8c-6c2f1fbc5933\",\"subtype\":\"Figure\",\"type\":\"Plot\"},\"ticker\":{\"id\":\"24ff535f-edd5-4c19-9f31-7fbe2db3eeb3\",\"type\":\"BasicTicker\"}},\"id\":\"07515a72-7cd5-4112-b6b8-f5ebbac2d6e9\",\"type\":\"ColorBar\"},{\"attributes\":{\"axis_line_color\":{\"value\":null},\"formatter\":{\"id\":\"47877da1-c475-4554-ba16-295542702ac1\",\"type\":\"CategoricalTickFormatter\"},\"major_label_orientation\":1.0471975511965976,\"major_label_standoff\":0,\"major_label_text_font_size\":{\"value\":\"9pt\"},\"major_tick_line_color\":{\"value\":null},\"plot\":{\"id\":\"37231a02-4fde-4e20-8c8c-6c2f1fbc5933\",\"subtype\":\"Figure\",\"type\":\"Plot\"},\"ticker\":{\"id\":\"8cdebccc-cd06-4cc8-8127-2bbdf323f06d\",\"type\":\"CategoricalTicker\"}},\"id\":\"e0989db1-15e3-4681-bed7-152a825d3dac\",\"type\":\"CategoricalAxis\"},{\"attributes\":{\"active_drag\":\"auto\",\"active_inspect\":\"auto\",\"active_scroll\":\"auto\",\"active_tap\":\"auto\",\"tools\":[{\"id\":\"3facdaab-2217-4f35-9e25-999121910d53\",\"type\":\"HoverTool\"},{\"id\":\"aa722f7c-bff2-479c-a31c-a21a102534ce\",\"type\":\"SaveTool\"},{\"id\":\"844c42e3-7b23-431f-92cb-e5852d6acde2\",\"type\":\"PanTool\"},{\"id\":\"1c2b6a83-fdce-45be-90cb-35f2b99a7784\",\"type\":\"BoxZoomTool\"},{\"id\":\"b102ca18-def9-43da-aab8-a19e5153cd3f\",\"type\":\"ResetTool\"},{\"id\":\"ccd551dc-825a-4dd8-8129-96d9ec4193c2\",\"type\":\"WheelZoomTool\"}]},\"id\":\"c92851c6-36c0-4f76-9881-0a2c3e20f871\",\"type\":\"Toolbar\"},{\"attributes\":{},\"id\":\"15f366d0-a867-4cd8-932b-4150e504710c\",\"type\":\"CategoricalScale\"},{\"attributes\":{},\"id\":\"b102ca18-def9-43da-aab8-a19e5153cd3f\",\"type\":\"ResetTool\"},{\"attributes\":{},\"id\":\"dc3326bc-fd4e-4805-8a89-807014c3a726\",\"type\":\"CategoricalTickFormatter\"},{\"attributes\":{\"desired_num_ticks\":7},\"id\":\"24ff535f-edd5-4c19-9f31-7fbe2db3eeb3\",\"type\":\"BasicTicker\"},{\"attributes\":{\"callback\":null,\"tooltips\":[[\"Document\",\"@Document\"],[\"Topic\",\"@Topic\"],[\"Score\",\"@Score\"]]},\"id\":\"3facdaab-2217-4f35-9e25-999121910d53\",\"type\":\"HoverTool\"},{\"attributes\":{},\"id\":\"c841a892-a489-4d49-8c99-9b5d1da41f0d\",\"type\":\"BasicTickFormatter\"},{\"attributes\":{},\"id\":\"8e2177e6-9a65-41bd-8e81-c5eb47ce895c\",\"type\":\"CategoricalScale\"},{\"attributes\":{\"plot\":null,\"text\":\"Grenzboten\"},\"id\":\"6ad11947-b9f6-49ac-b86d-6161f0d68566\",\"type\":\"Title\"},{\"attributes\":{\"dimension\":1,\"grid_line_color\":{\"value\":null},\"plot\":{\"id\":\"37231a02-4fde-4e20-8c8c-6c2f1fbc5933\",\"subtype\":\"Figure\",\"type\":\"Plot\"},\"ticker\":{\"id\":\"846fe828-33c1-4f4e-ad79-ab94aa40f5dd\",\"type\":\"CategoricalTicker\"}},\"id\":\"21c41644-6b28-4a18-935f-671e817bf1c4\",\"type\":\"Grid\"}],\"root_ids\":[\"37231a02-4fde-4e20-8c8c-6c2f1fbc5933\"]},\"title\":\"Bokeh Application\",\"version\":\"0.12.9\"}};\n",
       "    var render_items = [{\"docid\":\"2126a3f9-3dff-4558-a2a3-ff35d35e47bd\",\"elementid\":\"01ef175d-0804-4f90-b7b4-94977aa4c1b0\",\"modelid\":\"37231a02-4fde-4e20-8c8c-6c2f1fbc5933\",\"notebook_comms_target\":\"3887e78b-d17d-4c36-99ac-5debaddf099a\"}];\n",
       "\n",
       "    root.Bokeh.embed.embed_items(docs_json, render_items);\n",
       "  }\n",
       "\n",
       "  if (root.Bokeh !== undefined) {\n",
       "    embed_document(root);\n",
       "  } else {\n",
       "    var attempts = 0;\n",
       "    var timer = setInterval(function(root) {\n",
       "      if (root.Bokeh !== undefined) {\n",
       "        embed_document(root);\n",
       "        clearInterval(timer);\n",
       "      }\n",
       "      attempts++;\n",
       "      if (attempts > 100) {\n",
       "        console.log(\"Bokeh: ERROR: Unable to embed document because BokehJS library is missing\")\n",
       "        clearInterval(timer);\n",
       "      }\n",
       "    }, 10, root)\n",
       "  }\n",
       "})(window);"
      ],
      "application/vnd.bokehjs_exec.v0+json": ""
     },
     "metadata": {
      "application/vnd.bokehjs_exec.v0+json": {
       "id": "37231a02-4fde-4e20-8c8c-6c2f1fbc5933"
      }
     },
     "output_type": "display_data"
    },
    {
     "data": {
      "text/html": [
       "<p><code>&lt;Bokeh Notebook handle for <strong>In[29]</strong>&gt;</code></p>"
      ],
      "text/plain": [
       "<bokeh.io._CommsHandle at 0x17e2f5604a8>"
      ]
     },
     "execution_count": 29,
     "metadata": {},
     "output_type": "execute_result"
    }
   ],
   "source": [
    "plot = visualization.doc_topic_heatmap_interactive(document_topics, title='Grenzboten')\n",
    "show(plot, notebook_handle=True)"
   ]
  },
  {
   "cell_type": "markdown",
   "metadata": {},
   "source": [
    "Or a static heatmap:"
   ]
  },
  {
   "cell_type": "code",
   "execution_count": 30,
   "metadata": {
    "collapsed": false
   },
   "outputs": [
    {
     "data": {
      "text/plain": [
       "<module 'matplotlib.pyplot' from 'C:\\\\Program Files\\\\WinPython-64bit-3.5.2.2\\\\python-3.5.2.amd64\\\\lib\\\\site-packages\\\\matplotlib\\\\pyplot.py'>"
      ]
     },
     "execution_count": 30,
     "metadata": {},
     "output_type": "execute_result"
    },
    {
     "data": {
      "image/png": "[encoded data removed]",
      "text/plain": [
       "<matplotlib.figure.Figure at 0x17e2f3d32b0>"
      ]
     },
     "metadata": {},
     "output_type": "display_data"
    }
   ],
   "source": [
    "visualization.doc_topic_heatmap(document_topics)"
   ]
  },
  {
   "cell_type": "markdown",
   "metadata": {},
   "source": [
    "#### Distribution of topics in a single documents\n",
    "\n",
    "To take closer look on the topics in a single text, we can use the follwing function that shows all the topics in a text and their respective proportions. To select the document, we have to give its index to the function."
   ]
  },
  {
   "cell_type": "code",
   "execution_count": 31,
   "metadata": {
    "collapsed": false,
    "scrolled": false
   },
   "outputs": [
    {
     "data": {
      "text/plain": [
       "<module 'matplotlib.pyplot' from 'C:\\\\Program Files\\\\WinPython-64bit-3.5.2.2\\\\python-3.5.2.amd64\\\\lib\\\\site-packages\\\\matplotlib\\\\pyplot.py'>"
      ]
     },
     "execution_count": 31,
     "metadata": {},
     "output_type": "execute_result"
    },
    {
     "data": {
      "image/png": "[encoded data removed]",
      "text/plain": [
       "<matplotlib.figure.Figure at 0x17e2f66a198>"
      ]
     },
     "metadata": {},
     "output_type": "display_data"
    }
   ],
   "source": [
    "visualization.plot_doc_topics(document_topics, 0)"
   ]
  }
 ],
 "metadata": {
  "kernelspec": {
   "display_name": "Python 3",
   "language": "python",
   "name": "python3"
  },
  "language_info": {
   "codemirror_mode": {
    "name": "ipython",
    "version": 3
   },
   "file_extension": ".py",
   "mimetype": "text/x-python",
   "name": "python",
   "nbconvert_exporter": "python",
   "pygments_lexer": "ipython3",
   "version": "3.5.2"
  }
 },
 "nbformat": 4,
 "nbformat_minor": 1
}
