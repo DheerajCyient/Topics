{
 "cells": [
  {
   "cell_type": "markdown",
   "metadata": {},
   "source": [
    "# Topics – Easy Topic Modeling in Python\n",
    "\n",
    "The text mining technique **Topic Modeling** has become a popular statistical method for clustering documents. This [Jupyter notebook](http://jupyter.org/) introduces a step-by-step workflow, basically containing data preprocessing, the actual topic modeling using **latent Dirichlet allocation** (LDA), which learns the relationships between words, topics, and documents, as well as some interactive visualizations to explore the model.\n",
    "\n",
    "LDA, introduced in the context of text analysis in [2003](http://www.jmlr.org/papers/volume3/blei03a/blei03a.pdf), is an instance of a more general class of models called **mixed-membership models**. Involving a number of distributions and parameters, the topic model is typically performed using [Gibbs sampling](https://en.wikipedia.org/wiki/Gibbs_sampling) with conjugate priors and is purely based on word frequencies.\n",
    "\n",
    "There have been written numerous introductions to topic modeling for humanists (e.g. [this one](http://scottbot.net/topic-modeling-for-humanists-a-guided-tour/)), which provide another level of detail regarding its technical and epistemic properties.\n",
    "\n",
    "For this workflow, you will need a corpus (a set of texts) as plain text (`.txt`) or [TEI XML](http://www.tei-c.org/index.xml) (`.xml`). Using the `dariah_topics` package, you also have the ability to process the output of [DARIAH-DKPro-Wrapper](https://github.com/DARIAH-DE/DARIAH-DKPro-Wrapper), a command-line tool for *natural language processing*.\n",
    "\n",
    "Topic modeling works best with very large corpora. The [TextGrid Repository](https://textgridrep.org/) is a great place to start searching for text data. Anyway, to demonstrate the technique, we provide one small text collection in the folder `grenzboten_sample` containing 15 diary excerpts, as well as 15 war diary excerpts, which appeared in *Die Grenzboten*, a German newspaper of the late 19th and early 20th century.\n",
    "\n",
    "**Of course, you can work with your own corpus in this notebook.**\n",
    "\n",
    "We're relying on the LDA implementation by [Allen B. Riddell](https://www.ariddell.org/), called [lda](http://pythonhosted.org/lda/index.html), which is very lightweight. Aside from that, we provide two more Jupyter notebooks:\n",
    "\n",
    "* [IntroducingMallet](IntroducingMallet.ipynb), using LDA by [MALLET](http://mallet.cs.umass.edu/topics.php), which is known to be very robust. \n",
    "* [IntroducingGensim](IntroducingGensim.ipynb), using LDA by called [Gensim](https://radimrehurek.com/project/gensim/), which is attractive because of its multi-core support.\n",
    "\n",
    "For more information in general, have a look at the [documentation](http://dev.digital-humanities.de/ci/job/DARIAH-Topics/doclinks/1/)."
   ]
  },
  {
   "cell_type": "markdown",
   "metadata": {},
   "source": [
    "## First step: Installing dependencies\n",
    "\n",
    "To work within this Jupyter notebook, you will have to import the `dariah_topics` library. As you do, `dariah_topics` also imports a couple of external libraries, which have to be installed first. `pip` is the preferred installer program in Python. Starting with Python 3.4, it is included by default with the Python binary installers. If you are interested in `pip`, have a look at [this website](https://docs.python.org/3/installing/index.html).\n",
    "\n",
    "To install the `dariah_topics` library with all dependencies, open your commandline, go with `cd` to the folder `Topics` and run:\n",
    "\n",
    "```\n",
    "pip install -r requirements.txt\n",
    "```\n",
    "\n",
    "Alternatively, you can do:\n",
    "\n",
    "```\n",
    "python setup.py install\n",
    "```\n",
    "\n",
    "If you get any errors or are not able to install *all* dependencies properly, try [Stack Overflow](https://stackoverflow.com/questions/tagged/pip) for troubleshooting or create a new issue on our [GitHub page](https://github.com/DARIAH-DE/Topics).\n",
    "\n",
    "**Important**: If you are on macOS or Linux, you will have to use `pip3` and `python3`."
   ]
  },
  {
   "cell_type": "markdown",
   "metadata": {},
   "source": [
    "### Some final words\n",
    "As you probably already know, code has to be written in the grey cells. You execute a cell by clicking the **Run**-button (or **Ctrl + Enter**). If you want to run all cells of the notebook at once, click **Cell > Run All** or **Kernel > Restart & Run All** respectively, if you want to restart the Python kernel first. On the left side of an (unexecuted) cell stands `In [ ]:`. The empty bracket means, that the cell hasn't been executed yet. By clicking **Run**, a star appears in the brackets (`In [*]:`), which means the process is running. In most cases, you won't see that star, because your computer is faster than your eyes. You can execute only one cell at once, all following executions will be in the waiting line. If the process of a cell is done, a number appears in the brackets (`In [1]:`)."
   ]
  },
  {
   "cell_type": "markdown",
   "metadata": {
    "collapsed": true
   },
   "source": [
    "## Starting with topic modeling!\n",
    "\n",
    "Execute the following cell to import modules from the `dariah_topics` library."
   ]
  },
  {
   "cell_type": "code",
   "execution_count": 2,
   "metadata": {
    "collapsed": false
   },
   "outputs": [],
   "source": [
    "from dariah_topics import preprocessing\n",
    "from cophi_toolbox import preprocessing as pre\n",
    "from dariah_topics import meta\n",
    "from dariah_topics import postprocessing\n",
    "from dariah_topics import visualization"
   ]
  },
  {
   "cell_type": "markdown",
   "metadata": {},
   "source": [
    "Furthermore, we will need some additional functions from external libraries."
   ]
  },
  {
   "cell_type": "code",
   "execution_count": 3,
   "metadata": {
    "collapsed": true
   },
   "outputs": [],
   "source": [
    "from bokeh.io import show\n",
    "import lda"
   ]
  },
  {
   "cell_type": "markdown",
   "metadata": {},
   "source": [
    "Let's not pay heed to any warnings right now and execute the following cell."
   ]
  },
  {
   "cell_type": "code",
   "execution_count": 4,
   "metadata": {
    "collapsed": true
   },
   "outputs": [],
   "source": [
    "import warnings\n",
    "warnings.filterwarnings('ignore')"
   ]
  },
  {
   "cell_type": "markdown",
   "metadata": {},
   "source": [
    "The following line will just tell the notebook to show graphics in the output frames."
   ]
  },
  {
   "cell_type": "code",
   "execution_count": 5,
   "metadata": {
    "collapsed": true
   },
   "outputs": [],
   "source": [
    "%matplotlib inline"
   ]
  },
  {
   "cell_type": "markdown",
   "metadata": {},
   "source": [
    "## 1. Preprocessing"
   ]
  },
  {
   "cell_type": "markdown",
   "metadata": {},
   "source": [
    "### 1.2. Reading a corpus of documents"
   ]
  },
  {
   "cell_type": "markdown",
   "metadata": {},
   "source": [
    "#### Defining the path to the corpus folder\n",
    "\n",
    "In the present example code, we are using the 30 diary excerpts from the folder `grenzboten`. To use your own corpus, change the path accordingly."
   ]
  },
  {
   "cell_type": "code",
   "execution_count": 6,
   "metadata": {
    "collapsed": true
   },
   "outputs": [],
   "source": [
    "path_to_corpus = 'grenzboten_sample/*.txt'"
   ]
  },
  {
   "cell_type": "markdown",
   "metadata": {},
   "source": [
    "By adding `/*.txt` to the actual path, we make sure to select only files with the suffix `.txt`."
   ]
  },
  {
   "cell_type": "markdown",
   "metadata": {},
   "source": [
    "#### Accessing file paths and metadata\n",
    "We begin by creating a list of all the documents in the folder specified above. That list will tell the function `preprocessing.read_from_pathlist` (see below) which text documents to read. Furthermore, based on filenames we can create some metadata, e.g. author and title."
   ]
  },
  {
   "cell_type": "code",
   "execution_count": 7,
   "metadata": {
    "collapsed": false,
    "scrolled": true
   },
   "outputs": [
    {
     "data": {
      "text/html": [
       "<div>\n",
       "<style>\n",
       "    .dataframe thead tr:only-child th {\n",
       "        text-align: right;\n",
       "    }\n",
       "\n",
       "    .dataframe thead th {\n",
       "        text-align: left;\n",
       "    }\n",
       "\n",
       "    .dataframe tbody tr th {\n",
       "        vertical-align: top;\n",
       "    }\n",
       "</style>\n",
       "<table border=\"1\" class=\"dataframe\">\n",
       "  <thead>\n",
       "    <tr style=\"text-align: right;\">\n",
       "      <th></th>\n",
       "      <th>author</th>\n",
       "      <th>basename</th>\n",
       "      <th>filename</th>\n",
       "      <th>title</th>\n",
       "    </tr>\n",
       "  </thead>\n",
       "  <tbody>\n",
       "    <tr>\n",
       "      <th>0</th>\n",
       "      <td>Beck</td>\n",
       "      <td>Beck_1844_Tagebuch_56</td>\n",
       "      <td>grenzboten_sample\\Beck_1844_Tagebuch_56.txt</td>\n",
       "      <td>1844_Tagebuch_56</td>\n",
       "    </tr>\n",
       "    <tr>\n",
       "      <th>1</th>\n",
       "      <td>Unbekannt</td>\n",
       "      <td>Unbekannt_1844_Tagebuch_70</td>\n",
       "      <td>grenzboten_sample\\Unbekannt_1844_Tagebuch_70.txt</td>\n",
       "      <td>1844_Tagebuch_70</td>\n",
       "    </tr>\n",
       "    <tr>\n",
       "      <th>2</th>\n",
       "      <td>Nimmer</td>\n",
       "      <td>Nimmer_1844_Tagebuch_77</td>\n",
       "      <td>grenzboten_sample\\Nimmer_1844_Tagebuch_77.txt</td>\n",
       "      <td>1844_Tagebuch_77</td>\n",
       "    </tr>\n",
       "    <tr>\n",
       "      <th>3</th>\n",
       "      <td>Unbekannt</td>\n",
       "      <td>Unbekannt_1844_Tagebuch_82</td>\n",
       "      <td>grenzboten_sample\\Unbekannt_1844_Tagebuch_82.txt</td>\n",
       "      <td>1844_Tagebuch_82</td>\n",
       "    </tr>\n",
       "    <tr>\n",
       "      <th>4</th>\n",
       "      <td>Jörgel</td>\n",
       "      <td>Jörgel_1844_Tagebuch_88</td>\n",
       "      <td>grenzboten_sample\\Jörgel_1844_Tagebuch_88.txt</td>\n",
       "      <td>1844_Tagebuch_88</td>\n",
       "    </tr>\n",
       "  </tbody>\n",
       "</table>\n",
       "</div>"
      ],
      "text/plain": [
       "      author                    basename  \\\n",
       "0       Beck       Beck_1844_Tagebuch_56   \n",
       "1  Unbekannt  Unbekannt_1844_Tagebuch_70   \n",
       "2     Nimmer     Nimmer_1844_Tagebuch_77   \n",
       "3  Unbekannt  Unbekannt_1844_Tagebuch_82   \n",
       "4     Jörgel     Jörgel_1844_Tagebuch_88   \n",
       "\n",
       "                                           filename             title  \n",
       "0       grenzboten_sample\\Beck_1844_Tagebuch_56.txt  1844_Tagebuch_56  \n",
       "1  grenzboten_sample\\Unbekannt_1844_Tagebuch_70.txt  1844_Tagebuch_70  \n",
       "2     grenzboten_sample\\Nimmer_1844_Tagebuch_77.txt  1844_Tagebuch_77  \n",
       "3  grenzboten_sample\\Unbekannt_1844_Tagebuch_82.txt  1844_Tagebuch_82  \n",
       "4     grenzboten_sample\\Jörgel_1844_Tagebuch_88.txt  1844_Tagebuch_88  "
      ]
     },
     "execution_count": 7,
     "metadata": {},
     "output_type": "execute_result"
    }
   ],
   "source": [
    "metadata = meta.fn2metadata(path_to_corpus)\n",
    "metadata[:5] # by adding '[:5]' to the variable, only the first 5 elements will be printed"
   ]
  },
  {
   "cell_type": "markdown",
   "metadata": {},
   "source": [
    "#### Read listed documents from folder"
   ]
  },
  {
   "cell_type": "code",
   "execution_count": 9,
   "metadata": {
    "collapsed": false
   },
   "outputs": [
    {
     "data": {
      "text/plain": [
       "'Tagebuch von Karl Beck. Man spricht seit vierzehn Tagen von einem vollständigen Ministerwechsel und es circuliren im Publicum die verschiedensten Combinationen, wobei heute ganz andere Namen genannt werden, als gestern und morgen wieder andere, als heute.'"
      ]
     },
     "execution_count": 9,
     "metadata": {},
     "output_type": "execute_result"
    }
   ],
   "source": [
    "corpus = list(preprocessing.read_from_pathlist(metadata['filename']))\n",
    "corpus[0][:255] # printing the first 255 characters of the first document"
   ]
  },
  {
   "cell_type": "markdown",
   "metadata": {},
   "source": [
    "Your `corpus` contains as much elements (`documents`) as texts in your corpus are. Each element of `corpus` is a list containing exactly one element, the text itself as one single string including all whitespaces and punctuations:\n",
    "\n",
    "```\n",
    "[['This is the content of your first document.'],\n",
    " ['This is the content of your second document.'],\n",
    " ...\n",
    " ['This is the content of your last document.']]\n",
    "```"
   ]
  },
  {
   "cell_type": "markdown",
   "metadata": {},
   "source": [
    "### 1.3. Tokenize corpus\n",
    "Now, your `documents` in `corpus` will be tokenized. Tokenization is the task of cutting a stream of characters into linguistic units, simply words or, more precisely, tokens. The tokenize function `dariah_topics` provides is a simple Unicode tokenizer. Depending on the corpus, it might be useful to use an external tokenizer function, or even develop your own, since its efficiency varies with language, epoch and text type."
   ]
  },
  {
   "cell_type": "code",
   "execution_count": 10,
   "metadata": {
    "collapsed": false
   },
   "outputs": [],
   "source": [
    "tokenized_corpus = [list(pre.tokenize(document)) for document in corpus]"
   ]
  },
  {
   "cell_type": "markdown",
   "metadata": {},
   "source": [
    "At this point, each `document` is represented by a list of separate token strings. As above, have a look at the first document (which has the index `0` as Python starts counting at 0) and show its first 14 words/tokens (that have the indices `0:13` accordingly)."
   ]
  },
  {
   "cell_type": "code",
   "execution_count": 11,
   "metadata": {
    "collapsed": false
   },
   "outputs": [
    {
     "data": {
      "text/plain": [
       "['tagebuch',\n",
       " 'von',\n",
       " 'karl',\n",
       " 'beck',\n",
       " 'man',\n",
       " 'spricht',\n",
       " 'seit',\n",
       " 'vierzehn',\n",
       " 'tagen',\n",
       " 'von',\n",
       " 'einem',\n",
       " 'vollständigen',\n",
       " 'ministerwechsel']"
      ]
     },
     "execution_count": 11,
     "metadata": {},
     "output_type": "execute_result"
    }
   ],
   "source": [
    "tokenized_corpus[0][0:13]"
   ]
  },
  {
   "cell_type": "markdown",
   "metadata": {},
   "source": [
    "### 1.4. Create a document-term matrix\n",
    "\n",
    "The LDA topic model is based on a [document-term matrix](https://en.wikipedia.org/wiki/Document-term_matrix) of the corpus. In a document-term matrix, rows correspond to documents and columns correspond to terms or tokens respectively. The values are token frequencies for each document."
   ]
  },
  {
   "cell_type": "code",
   "execution_count": 12,
   "metadata": {
    "collapsed": false,
    "scrolled": false
   },
   "outputs": [
    {
     "data": {
      "text/html": [
       "<div>\n",
       "<style>\n",
       "    .dataframe thead tr:only-child th {\n",
       "        text-align: right;\n",
       "    }\n",
       "\n",
       "    .dataframe thead th {\n",
       "        text-align: left;\n",
       "    }\n",
       "\n",
       "    .dataframe tbody tr th {\n",
       "        vertical-align: top;\n",
       "    }\n",
       "</style>\n",
       "<table border=\"1\" class=\"dataframe\">\n",
       "  <thead>\n",
       "    <tr style=\"text-align: right;\">\n",
       "      <th></th>\n",
       "      <th>die</th>\n",
       "      <th>der</th>\n",
       "      <th>und</th>\n",
       "      <th>in</th>\n",
       "      <th>den</th>\n",
       "      <th>von</th>\n",
       "      <th>zu</th>\n",
       "      <th>das</th>\n",
       "      <th>des</th>\n",
       "      <th>nicht</th>\n",
       "      <th>...</th>\n",
       "      <th>staatsmonopol</th>\n",
       "      <th>steigernde</th>\n",
       "      <th>staatspapieren</th>\n",
       "      <th>staatsrücksichten</th>\n",
       "      <th>staatszeitung</th>\n",
       "      <th>stallknecht</th>\n",
       "      <th>stammen</th>\n",
       "      <th>starkem</th>\n",
       "      <th>statu</th>\n",
       "      <th>subscriben</th>\n",
       "    </tr>\n",
       "  </thead>\n",
       "  <tbody>\n",
       "    <tr>\n",
       "      <th>1844_Tagebuch_56</th>\n",
       "      <td>90.0</td>\n",
       "      <td>92.0</td>\n",
       "      <td>84.0</td>\n",
       "      <td>70.0</td>\n",
       "      <td>30.0</td>\n",
       "      <td>26.0</td>\n",
       "      <td>25.0</td>\n",
       "      <td>16.0</td>\n",
       "      <td>25.0</td>\n",
       "      <td>23.0</td>\n",
       "      <td>...</td>\n",
       "      <td>0.0</td>\n",
       "      <td>0.0</td>\n",
       "      <td>0.0</td>\n",
       "      <td>0.0</td>\n",
       "      <td>0.0</td>\n",
       "      <td>0.0</td>\n",
       "      <td>0.0</td>\n",
       "      <td>0.0</td>\n",
       "      <td>0.0</td>\n",
       "      <td>0.0</td>\n",
       "    </tr>\n",
       "    <tr>\n",
       "      <th>1844_Tagebuch_70</th>\n",
       "      <td>205.0</td>\n",
       "      <td>224.0</td>\n",
       "      <td>193.0</td>\n",
       "      <td>133.0</td>\n",
       "      <td>78.0</td>\n",
       "      <td>64.0</td>\n",
       "      <td>112.0</td>\n",
       "      <td>86.0</td>\n",
       "      <td>45.0</td>\n",
       "      <td>67.0</td>\n",
       "      <td>...</td>\n",
       "      <td>0.0</td>\n",
       "      <td>0.0</td>\n",
       "      <td>0.0</td>\n",
       "      <td>0.0</td>\n",
       "      <td>0.0</td>\n",
       "      <td>0.0</td>\n",
       "      <td>0.0</td>\n",
       "      <td>0.0</td>\n",
       "      <td>0.0</td>\n",
       "      <td>0.0</td>\n",
       "    </tr>\n",
       "    <tr>\n",
       "      <th>1844_Tagebuch_77</th>\n",
       "      <td>181.0</td>\n",
       "      <td>153.0</td>\n",
       "      <td>141.0</td>\n",
       "      <td>98.0</td>\n",
       "      <td>55.0</td>\n",
       "      <td>59.0</td>\n",
       "      <td>72.0</td>\n",
       "      <td>59.0</td>\n",
       "      <td>44.0</td>\n",
       "      <td>41.0</td>\n",
       "      <td>...</td>\n",
       "      <td>0.0</td>\n",
       "      <td>0.0</td>\n",
       "      <td>0.0</td>\n",
       "      <td>0.0</td>\n",
       "      <td>0.0</td>\n",
       "      <td>0.0</td>\n",
       "      <td>0.0</td>\n",
       "      <td>0.0</td>\n",
       "      <td>0.0</td>\n",
       "      <td>0.0</td>\n",
       "    </tr>\n",
       "    <tr>\n",
       "      <th>1844_Tagebuch_82</th>\n",
       "      <td>213.0</td>\n",
       "      <td>207.0</td>\n",
       "      <td>169.0</td>\n",
       "      <td>128.0</td>\n",
       "      <td>85.0</td>\n",
       "      <td>86.0</td>\n",
       "      <td>79.0</td>\n",
       "      <td>80.0</td>\n",
       "      <td>66.0</td>\n",
       "      <td>67.0</td>\n",
       "      <td>...</td>\n",
       "      <td>0.0</td>\n",
       "      <td>0.0</td>\n",
       "      <td>0.0</td>\n",
       "      <td>0.0</td>\n",
       "      <td>0.0</td>\n",
       "      <td>0.0</td>\n",
       "      <td>0.0</td>\n",
       "      <td>0.0</td>\n",
       "      <td>0.0</td>\n",
       "      <td>0.0</td>\n",
       "    </tr>\n",
       "    <tr>\n",
       "      <th>1844_Tagebuch_88</th>\n",
       "      <td>68.0</td>\n",
       "      <td>59.0</td>\n",
       "      <td>70.0</td>\n",
       "      <td>54.0</td>\n",
       "      <td>22.0</td>\n",
       "      <td>27.0</td>\n",
       "      <td>28.0</td>\n",
       "      <td>19.0</td>\n",
       "      <td>13.0</td>\n",
       "      <td>11.0</td>\n",
       "      <td>...</td>\n",
       "      <td>0.0</td>\n",
       "      <td>0.0</td>\n",
       "      <td>0.0</td>\n",
       "      <td>0.0</td>\n",
       "      <td>0.0</td>\n",
       "      <td>0.0</td>\n",
       "      <td>0.0</td>\n",
       "      <td>0.0</td>\n",
       "      <td>0.0</td>\n",
       "      <td>0.0</td>\n",
       "    </tr>\n",
       "  </tbody>\n",
       "</table>\n",
       "<p>5 rows × 24451 columns</p>\n",
       "</div>"
      ],
      "text/plain": [
       "                    die    der    und     in   den   von     zu   das   des  \\\n",
       "1844_Tagebuch_56   90.0   92.0   84.0   70.0  30.0  26.0   25.0  16.0  25.0   \n",
       "1844_Tagebuch_70  205.0  224.0  193.0  133.0  78.0  64.0  112.0  86.0  45.0   \n",
       "1844_Tagebuch_77  181.0  153.0  141.0   98.0  55.0  59.0   72.0  59.0  44.0   \n",
       "1844_Tagebuch_82  213.0  207.0  169.0  128.0  85.0  86.0   79.0  80.0  66.0   \n",
       "1844_Tagebuch_88   68.0   59.0   70.0   54.0  22.0  27.0   28.0  19.0  13.0   \n",
       "\n",
       "                  nicht     ...      staatsmonopol  steigernde  \\\n",
       "1844_Tagebuch_56   23.0     ...                0.0         0.0   \n",
       "1844_Tagebuch_70   67.0     ...                0.0         0.0   \n",
       "1844_Tagebuch_77   41.0     ...                0.0         0.0   \n",
       "1844_Tagebuch_82   67.0     ...                0.0         0.0   \n",
       "1844_Tagebuch_88   11.0     ...                0.0         0.0   \n",
       "\n",
       "                  staatspapieren  staatsrücksichten  staatszeitung  \\\n",
       "1844_Tagebuch_56             0.0                0.0            0.0   \n",
       "1844_Tagebuch_70             0.0                0.0            0.0   \n",
       "1844_Tagebuch_77             0.0                0.0            0.0   \n",
       "1844_Tagebuch_82             0.0                0.0            0.0   \n",
       "1844_Tagebuch_88             0.0                0.0            0.0   \n",
       "\n",
       "                  stallknecht  stammen  starkem  statu  subscriben  \n",
       "1844_Tagebuch_56          0.0      0.0      0.0    0.0         0.0  \n",
       "1844_Tagebuch_70          0.0      0.0      0.0    0.0         0.0  \n",
       "1844_Tagebuch_77          0.0      0.0      0.0    0.0         0.0  \n",
       "1844_Tagebuch_82          0.0      0.0      0.0    0.0         0.0  \n",
       "1844_Tagebuch_88          0.0      0.0      0.0    0.0         0.0  \n",
       "\n",
       "[5 rows x 24451 columns]"
      ]
     },
     "execution_count": 12,
     "metadata": {},
     "output_type": "execute_result"
    }
   ],
   "source": [
    "document_term_matrix = pre.create_document_term_matrix(tokenized_corpus, metadata['title'])\n",
    "document_term_matrix[:5]"
   ]
  },
  {
   "cell_type": "markdown",
   "metadata": {},
   "source": [
    "### 1.5. Feature removal\n",
    "\n",
    "*Stopwords* (also known as *most frequent tokens*) and *hapax legomena* are harmful for LDA and have to be removed from the corpus or the document-term matrix respectively. In this example, the 50 most frequent tokens will be categorized as stopwords.\n",
    "\n",
    "**Hint**: Be careful with removing most frequent tokens, you might remove tokens quite important for LDA. Anyway, to gain better results, it is highly recommended to use an external stopwords list.\n",
    "\n",
    "In this notebook, we combine the 50 most frequent tokens, hapax legomena and an external stopwordslist."
   ]
  },
  {
   "cell_type": "markdown",
   "metadata": {},
   "source": [
    "#### List the 100 most frequent tokens"
   ]
  },
  {
   "cell_type": "code",
   "execution_count": 13,
   "metadata": {
    "collapsed": true
   },
   "outputs": [],
   "source": [
    "stopwords = pre.find_stopwords(document_term_matrix, most_frequent_tokens=100)"
   ]
  },
  {
   "cell_type": "markdown",
   "metadata": {},
   "source": [
    "These are the five most frequent words:"
   ]
  },
  {
   "cell_type": "code",
   "execution_count": 14,
   "metadata": {
    "collapsed": false,
    "scrolled": true
   },
   "outputs": [
    {
     "data": {
      "text/plain": [
       "['die', 'der', 'und', 'in', 'den']"
      ]
     },
     "execution_count": 14,
     "metadata": {},
     "output_type": "execute_result"
    }
   ],
   "source": [
    "stopwords[:5]"
   ]
  },
  {
   "cell_type": "markdown",
   "metadata": {},
   "source": [
    "#### List hapax legomena"
   ]
  },
  {
   "cell_type": "code",
   "execution_count": 15,
   "metadata": {
    "collapsed": false
   },
   "outputs": [
    {
     "name": "stdout",
     "output_type": "stream",
     "text": [
      "Total number of types in corpus: 24451\n",
      "Total number of hapax legomena: 19757\n"
     ]
    }
   ],
   "source": [
    "hapax_legomena = pre.find_hapax_legomena(document_term_matrix)\n",
    "print(\"Total number of types in corpus:\", document_term_matrix.shape[1])\n",
    "print(\"Total number of hapax legomena:\", len(hapax_legomena))"
   ]
  },
  {
   "cell_type": "markdown",
   "metadata": {},
   "source": [
    "#### Optional: Use external stopwordlist"
   ]
  },
  {
   "cell_type": "code",
   "execution_count": 16,
   "metadata": {
    "collapsed": true
   },
   "outputs": [],
   "source": [
    "path_to_stopwordlist = 'tutorial_supplementals/stopwords/de.txt'\n",
    "external_stopwords = [line.strip() for line in open(path_to_stopwordlist, 'r', encoding='utf-8')]"
   ]
  },
  {
   "cell_type": "markdown",
   "metadata": {},
   "source": [
    "#### Combine lists and remove content from `document_term_matrix`"
   ]
  },
  {
   "cell_type": "code",
   "execution_count": 17,
   "metadata": {
    "collapsed": true
   },
   "outputs": [],
   "source": [
    "features = stopwords + hapax_legomena + external_stopwords\n",
    "document_term_matrix = pre.remove_features(features, document_term_matrix=document_term_matrix)"
   ]
  },
  {
   "cell_type": "markdown",
   "metadata": {},
   "source": [
    "Finally, this is how your clean corpus looks like now."
   ]
  },
  {
   "cell_type": "code",
   "execution_count": 18,
   "metadata": {
    "collapsed": false
   },
   "outputs": [
    {
     "data": {
      "text/html": [
       "<div>\n",
       "<style>\n",
       "    .dataframe thead tr:only-child th {\n",
       "        text-align: right;\n",
       "    }\n",
       "\n",
       "    .dataframe thead th {\n",
       "        text-align: left;\n",
       "    }\n",
       "\n",
       "    .dataframe tbody tr th {\n",
       "        vertical-align: top;\n",
       "    }\n",
       "</style>\n",
       "<table border=\"1\" class=\"dataframe\">\n",
       "  <thead>\n",
       "    <tr style=\"text-align: right;\">\n",
       "      <th></th>\n",
       "      <th>franzosen</th>\n",
       "      <th>genommen</th>\n",
       "      <th>abgewiesen</th>\n",
       "      <th>südlich</th>\n",
       "      <th>berlin</th>\n",
       "      <th>lassen</th>\n",
       "      <th>geschütze</th>\n",
       "      <th>englische</th>\n",
       "      <th>januar</th>\n",
       "      <th>deutschland</th>\n",
       "      <th>...</th>\n",
       "      <th>bankprojects</th>\n",
       "      <th>ii&amp;gt</th>\n",
       "      <th>pflanzenausstellung</th>\n",
       "      <th>unbekümmert</th>\n",
       "      <th>nischt</th>\n",
       "      <th>thiaumont-walde</th>\n",
       "      <th>kompositionen</th>\n",
       "      <th>monarchischer</th>\n",
       "      <th>ehrenwerthen</th>\n",
       "      <th>zaturcy</th>\n",
       "    </tr>\n",
       "  </thead>\n",
       "  <tbody>\n",
       "    <tr>\n",
       "      <th>1844_Tagebuch_56</th>\n",
       "      <td>0.0</td>\n",
       "      <td>1.0</td>\n",
       "      <td>0.0</td>\n",
       "      <td>0.0</td>\n",
       "      <td>4.0</td>\n",
       "      <td>3.0</td>\n",
       "      <td>0.0</td>\n",
       "      <td>0.0</td>\n",
       "      <td>0.0</td>\n",
       "      <td>4.0</td>\n",
       "      <td>...</td>\n",
       "      <td>0.0</td>\n",
       "      <td>0.0</td>\n",
       "      <td>0.0</td>\n",
       "      <td>0.0</td>\n",
       "      <td>0.0</td>\n",
       "      <td>0.0</td>\n",
       "      <td>0.0</td>\n",
       "      <td>0.0</td>\n",
       "      <td>0.0</td>\n",
       "      <td>0.0</td>\n",
       "    </tr>\n",
       "    <tr>\n",
       "      <th>1844_Tagebuch_70</th>\n",
       "      <td>2.0</td>\n",
       "      <td>1.0</td>\n",
       "      <td>0.0</td>\n",
       "      <td>0.0</td>\n",
       "      <td>8.0</td>\n",
       "      <td>6.0</td>\n",
       "      <td>0.0</td>\n",
       "      <td>3.0</td>\n",
       "      <td>0.0</td>\n",
       "      <td>1.0</td>\n",
       "      <td>...</td>\n",
       "      <td>0.0</td>\n",
       "      <td>0.0</td>\n",
       "      <td>0.0</td>\n",
       "      <td>2.0</td>\n",
       "      <td>0.0</td>\n",
       "      <td>0.0</td>\n",
       "      <td>0.0</td>\n",
       "      <td>0.0</td>\n",
       "      <td>0.0</td>\n",
       "      <td>0.0</td>\n",
       "    </tr>\n",
       "    <tr>\n",
       "      <th>1844_Tagebuch_77</th>\n",
       "      <td>0.0</td>\n",
       "      <td>1.0</td>\n",
       "      <td>0.0</td>\n",
       "      <td>0.0</td>\n",
       "      <td>5.0</td>\n",
       "      <td>9.0</td>\n",
       "      <td>0.0</td>\n",
       "      <td>2.0</td>\n",
       "      <td>2.0</td>\n",
       "      <td>2.0</td>\n",
       "      <td>...</td>\n",
       "      <td>0.0</td>\n",
       "      <td>0.0</td>\n",
       "      <td>0.0</td>\n",
       "      <td>0.0</td>\n",
       "      <td>0.0</td>\n",
       "      <td>0.0</td>\n",
       "      <td>0.0</td>\n",
       "      <td>0.0</td>\n",
       "      <td>0.0</td>\n",
       "      <td>0.0</td>\n",
       "    </tr>\n",
       "    <tr>\n",
       "      <th>1844_Tagebuch_82</th>\n",
       "      <td>0.0</td>\n",
       "      <td>0.0</td>\n",
       "      <td>0.0</td>\n",
       "      <td>0.0</td>\n",
       "      <td>5.0</td>\n",
       "      <td>10.0</td>\n",
       "      <td>0.0</td>\n",
       "      <td>0.0</td>\n",
       "      <td>0.0</td>\n",
       "      <td>2.0</td>\n",
       "      <td>...</td>\n",
       "      <td>0.0</td>\n",
       "      <td>0.0</td>\n",
       "      <td>0.0</td>\n",
       "      <td>0.0</td>\n",
       "      <td>0.0</td>\n",
       "      <td>0.0</td>\n",
       "      <td>0.0</td>\n",
       "      <td>0.0</td>\n",
       "      <td>0.0</td>\n",
       "      <td>0.0</td>\n",
       "    </tr>\n",
       "    <tr>\n",
       "      <th>1844_Tagebuch_88</th>\n",
       "      <td>2.0</td>\n",
       "      <td>0.0</td>\n",
       "      <td>0.0</td>\n",
       "      <td>0.0</td>\n",
       "      <td>0.0</td>\n",
       "      <td>1.0</td>\n",
       "      <td>0.0</td>\n",
       "      <td>0.0</td>\n",
       "      <td>0.0</td>\n",
       "      <td>4.0</td>\n",
       "      <td>...</td>\n",
       "      <td>0.0</td>\n",
       "      <td>0.0</td>\n",
       "      <td>0.0</td>\n",
       "      <td>0.0</td>\n",
       "      <td>0.0</td>\n",
       "      <td>0.0</td>\n",
       "      <td>0.0</td>\n",
       "      <td>0.0</td>\n",
       "      <td>0.0</td>\n",
       "      <td>0.0</td>\n",
       "    </tr>\n",
       "  </tbody>\n",
       "</table>\n",
       "<p>5 rows × 4242 columns</p>\n",
       "</div>"
      ],
      "text/plain": [
       "                  franzosen  genommen  abgewiesen  südlich  berlin  lassen  \\\n",
       "1844_Tagebuch_56        0.0       1.0         0.0      0.0     4.0     3.0   \n",
       "1844_Tagebuch_70        2.0       1.0         0.0      0.0     8.0     6.0   \n",
       "1844_Tagebuch_77        0.0       1.0         0.0      0.0     5.0     9.0   \n",
       "1844_Tagebuch_82        0.0       0.0         0.0      0.0     5.0    10.0   \n",
       "1844_Tagebuch_88        2.0       0.0         0.0      0.0     0.0     1.0   \n",
       "\n",
       "                  geschütze  englische  januar  deutschland   ...     \\\n",
       "1844_Tagebuch_56        0.0        0.0     0.0          4.0   ...      \n",
       "1844_Tagebuch_70        0.0        3.0     0.0          1.0   ...      \n",
       "1844_Tagebuch_77        0.0        2.0     2.0          2.0   ...      \n",
       "1844_Tagebuch_82        0.0        0.0     0.0          2.0   ...      \n",
       "1844_Tagebuch_88        0.0        0.0     0.0          4.0   ...      \n",
       "\n",
       "                  bankprojects  ii&gt  pflanzenausstellung  unbekümmert  \\\n",
       "1844_Tagebuch_56           0.0    0.0                  0.0          0.0   \n",
       "1844_Tagebuch_70           0.0    0.0                  0.0          2.0   \n",
       "1844_Tagebuch_77           0.0    0.0                  0.0          0.0   \n",
       "1844_Tagebuch_82           0.0    0.0                  0.0          0.0   \n",
       "1844_Tagebuch_88           0.0    0.0                  0.0          0.0   \n",
       "\n",
       "                  nischt  thiaumont-walde  kompositionen  monarchischer  \\\n",
       "1844_Tagebuch_56     0.0              0.0            0.0            0.0   \n",
       "1844_Tagebuch_70     0.0              0.0            0.0            0.0   \n",
       "1844_Tagebuch_77     0.0              0.0            0.0            0.0   \n",
       "1844_Tagebuch_82     0.0              0.0            0.0            0.0   \n",
       "1844_Tagebuch_88     0.0              0.0            0.0            0.0   \n",
       "\n",
       "                  ehrenwerthen  zaturcy  \n",
       "1844_Tagebuch_56           0.0      0.0  \n",
       "1844_Tagebuch_70           0.0      0.0  \n",
       "1844_Tagebuch_77           0.0      0.0  \n",
       "1844_Tagebuch_82           0.0      0.0  \n",
       "1844_Tagebuch_88           0.0      0.0  \n",
       "\n",
       "[5 rows x 4242 columns]"
      ]
     },
     "execution_count": 18,
     "metadata": {},
     "output_type": "execute_result"
    }
   ],
   "source": [
    "document_term_matrix[:5]"
   ]
  },
  {
   "cell_type": "markdown",
   "metadata": {},
   "source": [
    "## 2. Model creation\n",
    "\n",
    "The actual topic modeling is done with external state-of-the-art LDA implementations. In this example, we are relying on the open-source toolkit **lda**."
   ]
  },
  {
   "cell_type": "markdown",
   "metadata": {},
   "source": [
    "### 2.1. Creating list of vocabulary"
   ]
  },
  {
   "cell_type": "markdown",
   "metadata": {},
   "source": [
    "To translate numbers back into words after the model creation, you have to set up a list of all unique tokens in the corpus."
   ]
  },
  {
   "cell_type": "code",
   "execution_count": 19,
   "metadata": {
    "collapsed": false
   },
   "outputs": [
    {
     "data": {
      "text/plain": [
       "Index(['franzosen', 'genommen', 'abgewiesen', 'südlich', 'berlin', 'lassen',\n",
       "       'geschütze', 'englische', 'januar', 'deutschland',\n",
       "       ...\n",
       "       'bankprojects', 'ii&gt', 'pflanzenausstellung', 'unbekümmert', 'nischt',\n",
       "       'thiaumont-walde', 'kompositionen', 'monarchischer', 'ehrenwerthen',\n",
       "       'zaturcy'],\n",
       "      dtype='object', length=4242)"
      ]
     },
     "execution_count": 19,
     "metadata": {},
     "output_type": "execute_result"
    }
   ],
   "source": [
    "vocabulary = document_term_matrix.columns\n",
    "vocabulary"
   ]
  },
  {
   "cell_type": "markdown",
   "metadata": {},
   "source": [
    "### 2.2. Translate document-term matrix into an array"
   ]
  },
  {
   "cell_type": "markdown",
   "metadata": {},
   "source": [
    "In this step, all values of your document-term matrix will be translated into an [array](https://en.wikipedia.org/wiki/Array_data_structure)."
   ]
  },
  {
   "cell_type": "code",
   "execution_count": 20,
   "metadata": {
    "collapsed": false,
    "scrolled": true
   },
   "outputs": [
    {
     "data": {
      "text/plain": [
       "array([[ 0,  1,  0, ...,  0,  0,  0],\n",
       "       [ 2,  1,  0, ...,  0,  0,  0],\n",
       "       [ 0,  1,  0, ...,  0,  0,  0],\n",
       "       ..., \n",
       "       [12, 17, 11, ...,  0,  0,  0],\n",
       "       [12,  6,  9, ...,  0,  0,  0],\n",
       "       [ 6,  6, 19, ...,  0,  0,  0]])"
      ]
     },
     "execution_count": 20,
     "metadata": {},
     "output_type": "execute_result"
    }
   ],
   "source": [
    "document_term_matrix_arr = document_term_matrix.as_matrix().astype(int)\n",
    "document_term_matrix_arr"
   ]
  },
  {
   "cell_type": "markdown",
   "metadata": {},
   "source": [
    "### 2.3. Generate LDA model\n",
    "\n",
    "We use the class `LDA` from the library `lda` (which is basically not the same, because Python is case sensitive) to generate a LDA topic model. To instance a `LDA` object, there have to be specified a couple of parameters.\n",
    "\n",
    "But first, if you are curious about any library, module, class or function, try `help()`. This can be very useful, because (at least in a well documented library) explanations of use and parameters will be printed. We're interested in the class `LDA` of the library `lda`, so let's try:\n",
    "\n",
    "```\n",
    "help(lda.LDA)\n",
    "```\n",
    "\n",
    "This will print something like this (in fact even more):\n",
    "\n",
    "```\n",
    "Help on class LDA in module lda.lda:\n",
    "\n",
    "class LDA(builtins.object)\n",
    " |  Latent Dirichlet allocation using collapsed Gibbs sampling\n",
    " |  \n",
    " |  Parameters\n",
    " |  ----------\n",
    " |  n_topics : int\n",
    " |      Number of topics\n",
    " |  \n",
    " |  n_iter : int, default 2000\n",
    " |      Number of sampling iterations\n",
    " |  \n",
    " |  alpha : float, default 0.1\n",
    " |      Dirichlet parameter for distribution over topics\n",
    " |  \n",
    " |  eta : float, default 0.01\n",
    " |      Dirichlet parameter for distribution over words\n",
    " |  \n",
    " |  random_state : int or RandomState, optional\n",
    " |      The generator used for the initial topics.\n",
    "```\n",
    "\n",
    "So, now you know how to define the number of topics and the number of sampling iterations as well. A higher number of iterations will probably yield a better model, but also increases processing time. `alpha`, `eta` and `random_state` are so-called *hyperparameters*. They influence the model's performance, so feel free to play around with them. In the present example, we will leave the default values. Furthermore, there exist various methods for hyperparameter optimization, e.g. gridsearch or Gaussian optimization.\n",
    "\n",
    "**Warning: This step can take quite a while!** Meaning something between some seconds and some hours depending on corpus size and the number of iterations. Our example corpus should be done within a minute or two at `n_iter=5000`."
   ]
  },
  {
   "cell_type": "code",
   "execution_count": 21,
   "metadata": {
    "collapsed": false
   },
   "outputs": [
    {
     "name": "stdout",
     "output_type": "stream",
     "text": [
      "Wall time: 37.3 s\n"
     ]
    }
   ],
   "source": [
    "%%time\n",
    "\n",
    "model = lda.LDA(n_topics=10, n_iter=5000)\n",
    "model.fit(document_term_matrix_arr)"
   ]
  },
  {
   "cell_type": "markdown",
   "metadata": {},
   "source": [
    "### 2.4. Create document-topic matrix\n",
    "\n",
    "The generated model object can now be translated into a human-readable document-topic matrix (that is a actually a pandas DataFrame) that constitutes our principle exchange format for topic modeling results."
   ]
  },
  {
   "cell_type": "code",
   "execution_count": 22,
   "metadata": {
    "collapsed": false,
    "scrolled": true
   },
   "outputs": [
    {
     "data": {
      "text/html": [
       "<div>\n",
       "<style>\n",
       "    .dataframe thead tr:only-child th {\n",
       "        text-align: right;\n",
       "    }\n",
       "\n",
       "    .dataframe thead th {\n",
       "        text-align: left;\n",
       "    }\n",
       "\n",
       "    .dataframe tbody tr th {\n",
       "        vertical-align: top;\n",
       "    }\n",
       "</style>\n",
       "<table border=\"1\" class=\"dataframe\">\n",
       "  <thead>\n",
       "    <tr style=\"text-align: right;\">\n",
       "      <th></th>\n",
       "      <th>Key 0</th>\n",
       "      <th>Key 1</th>\n",
       "      <th>Key 2</th>\n",
       "      <th>Key 3</th>\n",
       "      <th>Key 4</th>\n",
       "      <th>Key 5</th>\n",
       "      <th>Key 6</th>\n",
       "      <th>Key 7</th>\n",
       "      <th>Key 8</th>\n",
       "      <th>Key 9</th>\n",
       "    </tr>\n",
       "  </thead>\n",
       "  <tbody>\n",
       "    <tr>\n",
       "      <th>Topic 0</th>\n",
       "      <td>juli</td>\n",
       "      <td>südlich</td>\n",
       "      <td>märz</td>\n",
       "      <td>april</td>\n",
       "      <td>stellungen</td>\n",
       "      <td>offiziere</td>\n",
       "      <td>heftige</td>\n",
       "      <td>gestürmt</td>\n",
       "      <td>italienische</td>\n",
       "      <td>italiener</td>\n",
       "    </tr>\n",
       "    <tr>\n",
       "      <th>Topic 1</th>\n",
       "      <td>kunst</td>\n",
       "      <td>könig</td>\n",
       "      <td>leben</td>\n",
       "      <td>trotz</td>\n",
       "      <td>personen</td>\n",
       "      <td>frankreich</td>\n",
       "      <td>italien</td>\n",
       "      <td>tausend</td>\n",
       "      <td>schriftsteller</td>\n",
       "      <td>geschichte</td>\n",
       "    </tr>\n",
       "    <tr>\n",
       "      <th>Topic 2</th>\n",
       "      <td>deutschland</td>\n",
       "      <td>preußen</td>\n",
       "      <td>deutscher</td>\n",
       "      <td>glauben</td>\n",
       "      <td>geben</td>\n",
       "      <td>letzten</td>\n",
       "      <td>bringen</td>\n",
       "      <td>polen</td>\n",
       "      <td>zeitungen</td>\n",
       "      <td>erhalten</td>\n",
       "    </tr>\n",
       "    <tr>\n",
       "      <th>Topic 3</th>\n",
       "      <td>lassen</td>\n",
       "      <td>oesterreich</td>\n",
       "      <td>weise</td>\n",
       "      <td>berlin</td>\n",
       "      <td>finden</td>\n",
       "      <td>zeitung</td>\n",
       "      <td>art</td>\n",
       "      <td>welt</td>\n",
       "      <td>weiß</td>\n",
       "      <td>sagen</td>\n",
       "    </tr>\n",
       "    <tr>\n",
       "      <th>Topic 4</th>\n",
       "      <td>september</td>\n",
       "      <td>frankreich</td>\n",
       "      <td>antwerpen</td>\n",
       "      <td>sprache</td>\n",
       "      <td>belgien</td>\n",
       "      <td>lamennais</td>\n",
       "      <td>paris</td>\n",
       "      <td>england</td>\n",
       "      <td>august</td>\n",
       "      <td>krakauer</td>\n",
       "    </tr>\n",
       "    <tr>\n",
       "      <th>Topic 5</th>\n",
       "      <td>hiesigen</td>\n",
       "      <td>scheint</td>\n",
       "      <td>seite</td>\n",
       "      <td>gesellschaft</td>\n",
       "      <td>alten</td>\n",
       "      <td>wien</td>\n",
       "      <td>folge</td>\n",
       "      <td>indeß</td>\n",
       "      <td>stadt</td>\n",
       "      <td>dichter</td>\n",
       "    </tr>\n",
       "    <tr>\n",
       "      <th>Topic 6</th>\n",
       "      <td>geschütze</td>\n",
       "      <td>januar</td>\n",
       "      <td>abgewiesen</td>\n",
       "      <td>genommen</td>\n",
       "      <td>franzosen</td>\n",
       "      <td>angriff</td>\n",
       "      <td>kriegstagebuch</td>\n",
       "      <td>nördlich</td>\n",
       "      <td>truppen</td>\n",
       "      <td>engländer</td>\n",
       "    </tr>\n",
       "    <tr>\n",
       "      <th>Topic 7</th>\n",
       "      <td>polizei</td>\n",
       "      <td>geist</td>\n",
       "      <td>wiener</td>\n",
       "      <td>berliner</td>\n",
       "      <td>wahrheit</td>\n",
       "      <td>wien</td>\n",
       "      <td>untersuchung</td>\n",
       "      <td>gedichte</td>\n",
       "      <td>kaiser</td>\n",
       "      <td>liebe</td>\n",
       "    </tr>\n",
       "    <tr>\n",
       "      <th>Topic 8</th>\n",
       "      <td>leipzig</td>\n",
       "      <td>stadt</td>\n",
       "      <td>ward</td>\n",
       "      <td>sieht</td>\n",
       "      <td>bleibt</td>\n",
       "      <td>stände</td>\n",
       "      <td>leipziger</td>\n",
       "      <td>theater</td>\n",
       "      <td>ziemlich</td>\n",
       "      <td>fürsten</td>\n",
       "    </tr>\n",
       "    <tr>\n",
       "      <th>Topic 9</th>\n",
       "      <td>presse</td>\n",
       "      <td>artikel</td>\n",
       "      <td>meinung</td>\n",
       "      <td>läßt</td>\n",
       "      <td>regierung</td>\n",
       "      <td>eigentlich</td>\n",
       "      <td>frage</td>\n",
       "      <td>namen</td>\n",
       "      <td>herren</td>\n",
       "      <td>volk</td>\n",
       "    </tr>\n",
       "  </tbody>\n",
       "</table>\n",
       "</div>"
      ],
      "text/plain": [
       "               Key 0        Key 1       Key 2         Key 3       Key 4  \\\n",
       "Topic 0         juli      südlich        märz         april  stellungen   \n",
       "Topic 1        kunst        könig       leben         trotz    personen   \n",
       "Topic 2  deutschland      preußen   deutscher       glauben       geben   \n",
       "Topic 3       lassen  oesterreich       weise        berlin      finden   \n",
       "Topic 4    september   frankreich   antwerpen       sprache     belgien   \n",
       "Topic 5     hiesigen      scheint       seite  gesellschaft       alten   \n",
       "Topic 6    geschütze       januar  abgewiesen      genommen   franzosen   \n",
       "Topic 7      polizei        geist      wiener      berliner    wahrheit   \n",
       "Topic 8      leipzig        stadt        ward         sieht      bleibt   \n",
       "Topic 9       presse      artikel     meinung          läßt   regierung   \n",
       "\n",
       "              Key 5           Key 6     Key 7           Key 8       Key 9  \n",
       "Topic 0   offiziere         heftige  gestürmt    italienische   italiener  \n",
       "Topic 1  frankreich         italien   tausend  schriftsteller  geschichte  \n",
       "Topic 2     letzten         bringen     polen       zeitungen    erhalten  \n",
       "Topic 3     zeitung             art      welt            weiß       sagen  \n",
       "Topic 4   lamennais           paris   england          august    krakauer  \n",
       "Topic 5        wien           folge     indeß           stadt     dichter  \n",
       "Topic 6     angriff  kriegstagebuch  nördlich         truppen   engländer  \n",
       "Topic 7        wien    untersuchung  gedichte          kaiser       liebe  \n",
       "Topic 8      stände       leipziger   theater        ziemlich     fürsten  \n",
       "Topic 9  eigentlich           frage     namen          herren        volk  "
      ]
     },
     "execution_count": 22,
     "metadata": {},
     "output_type": "execute_result"
    }
   ],
   "source": [
    "topics = postprocessing.show_topics(model=model, vocabulary=vocabulary)\n",
    "topics"
   ]
  },
  {
   "cell_type": "markdown",
   "metadata": {},
   "source": [
    "## 3. Model visualization"
   ]
  },
  {
   "cell_type": "markdown",
   "metadata": {},
   "source": [
    "Each topic has a certain probability for each document in the corpus (have a look at the cell below). This probability distributions are visualized in an interactive **heatmap** (the darker the color, the higher the probability) which displays the kind of information\n",
    "                that is presumably most useful to literary scholars. Going beyond pure exploration, this visualization can be used to show thematic developments over a set of texts as well as a single text, akin to a dynamic topic model. What might become\n",
    "                apparent here, is that some topics correlate highly with a specific author or group of authors, while other topics correlate highly with a specific text or group of texts."
   ]
  },
  {
   "cell_type": "code",
   "execution_count": 23,
   "metadata": {
    "collapsed": false
   },
   "outputs": [
    {
     "data": {
      "text/html": [
       "<div>\n",
       "<style>\n",
       "    .dataframe thead tr:only-child th {\n",
       "        text-align: right;\n",
       "    }\n",
       "\n",
       "    .dataframe thead th {\n",
       "        text-align: left;\n",
       "    }\n",
       "\n",
       "    .dataframe tbody tr th {\n",
       "        vertical-align: top;\n",
       "    }\n",
       "</style>\n",
       "<table border=\"1\" class=\"dataframe\">\n",
       "  <thead>\n",
       "    <tr style=\"text-align: right;\">\n",
       "      <th>title</th>\n",
       "      <th>1844_Tagebuch_56</th>\n",
       "      <th>1844_Tagebuch_70</th>\n",
       "      <th>1844_Tagebuch_77</th>\n",
       "      <th>1844_Tagebuch_82</th>\n",
       "      <th>1844_Tagebuch_88</th>\n",
       "      <th>1845_Tagebuch_52</th>\n",
       "      <th>1845_Tagebuch_62</th>\n",
       "      <th>1845_Tagebuch_81</th>\n",
       "      <th>1845_Tagebuch_85</th>\n",
       "      <th>1845_Tagebuch_93</th>\n",
       "      <th>...</th>\n",
       "      <th>1915_Kriegstagebuch_33</th>\n",
       "      <th>1915_Kriegstagebuch_39</th>\n",
       "      <th>1915_Kriegstagebuch_73</th>\n",
       "      <th>1915_Kriegstagebuch_94</th>\n",
       "      <th>1915_Kriegstagebuch_99</th>\n",
       "      <th>1916_Kriegstagebuch_41</th>\n",
       "      <th>1916_Kriegstagebuch_48</th>\n",
       "      <th>1916_Kriegstagebuch_49</th>\n",
       "      <th>1916_Kriegstagebuch_69</th>\n",
       "      <th>1916_Kriegstagebuch_81</th>\n",
       "    </tr>\n",
       "  </thead>\n",
       "  <tbody>\n",
       "    <tr>\n",
       "      <th>juli südlich märz</th>\n",
       "      <td>0.001774</td>\n",
       "      <td>0.000694</td>\n",
       "      <td>0.000074</td>\n",
       "      <td>0.000065</td>\n",
       "      <td>0.000176</td>\n",
       "      <td>0.000037</td>\n",
       "      <td>0.000053</td>\n",
       "      <td>0.000042</td>\n",
       "      <td>0.002143</td>\n",
       "      <td>0.000064</td>\n",
       "      <td>...</td>\n",
       "      <td>0.120054</td>\n",
       "      <td>0.170846</td>\n",
       "      <td>0.324364</td>\n",
       "      <td>0.236213</td>\n",
       "      <td>0.385893</td>\n",
       "      <td>0.718109</td>\n",
       "      <td>0.707321</td>\n",
       "      <td>0.681104</td>\n",
       "      <td>0.778800</td>\n",
       "      <td>0.728649</td>\n",
       "    </tr>\n",
       "    <tr>\n",
       "      <th>kunst könig leben</th>\n",
       "      <td>0.000161</td>\n",
       "      <td>0.075725</td>\n",
       "      <td>0.074258</td>\n",
       "      <td>0.050425</td>\n",
       "      <td>0.054657</td>\n",
       "      <td>0.033272</td>\n",
       "      <td>0.037228</td>\n",
       "      <td>0.021265</td>\n",
       "      <td>0.045531</td>\n",
       "      <td>0.324180</td>\n",
       "      <td>...</td>\n",
       "      <td>0.016204</td>\n",
       "      <td>0.007704</td>\n",
       "      <td>0.000212</td>\n",
       "      <td>0.000332</td>\n",
       "      <td>0.025179</td>\n",
       "      <td>0.000160</td>\n",
       "      <td>0.007944</td>\n",
       "      <td>0.001350</td>\n",
       "      <td>0.001467</td>\n",
       "      <td>0.001501</td>\n",
       "    </tr>\n",
       "    <tr>\n",
       "      <th>deutschland preußen deutscher</th>\n",
       "      <td>0.163065</td>\n",
       "      <td>0.142560</td>\n",
       "      <td>0.130638</td>\n",
       "      <td>0.090320</td>\n",
       "      <td>0.105624</td>\n",
       "      <td>0.196165</td>\n",
       "      <td>0.116888</td>\n",
       "      <td>0.097004</td>\n",
       "      <td>0.128646</td>\n",
       "      <td>0.207138</td>\n",
       "      <td>...</td>\n",
       "      <td>0.000090</td>\n",
       "      <td>0.003172</td>\n",
       "      <td>0.010805</td>\n",
       "      <td>0.003654</td>\n",
       "      <td>0.000179</td>\n",
       "      <td>0.000160</td>\n",
       "      <td>0.000156</td>\n",
       "      <td>0.000123</td>\n",
       "      <td>0.002800</td>\n",
       "      <td>0.016508</td>\n",
       "    </tr>\n",
       "    <tr>\n",
       "      <th>lassen oesterreich weise</th>\n",
       "      <td>0.321129</td>\n",
       "      <td>0.217591</td>\n",
       "      <td>0.289392</td>\n",
       "      <td>0.276717</td>\n",
       "      <td>0.383304</td>\n",
       "      <td>0.189956</td>\n",
       "      <td>0.206638</td>\n",
       "      <td>0.224345</td>\n",
       "      <td>0.264036</td>\n",
       "      <td>0.204566</td>\n",
       "      <td>...</td>\n",
       "      <td>0.018890</td>\n",
       "      <td>0.001662</td>\n",
       "      <td>0.000212</td>\n",
       "      <td>0.000332</td>\n",
       "      <td>0.000179</td>\n",
       "      <td>0.000160</td>\n",
       "      <td>0.000156</td>\n",
       "      <td>0.001350</td>\n",
       "      <td>0.005467</td>\n",
       "      <td>0.000136</td>\n",
       "    </tr>\n",
       "    <tr>\n",
       "      <th>september frankreich antwerpen</th>\n",
       "      <td>0.000161</td>\n",
       "      <td>0.004477</td>\n",
       "      <td>0.000074</td>\n",
       "      <td>0.006606</td>\n",
       "      <td>0.014236</td>\n",
       "      <td>0.014646</td>\n",
       "      <td>0.018640</td>\n",
       "      <td>0.007532</td>\n",
       "      <td>0.005280</td>\n",
       "      <td>0.000064</td>\n",
       "      <td>...</td>\n",
       "      <td>0.000090</td>\n",
       "      <td>0.001662</td>\n",
       "      <td>0.002331</td>\n",
       "      <td>0.010299</td>\n",
       "      <td>0.007321</td>\n",
       "      <td>0.008173</td>\n",
       "      <td>0.012617</td>\n",
       "      <td>0.000123</td>\n",
       "      <td>0.000133</td>\n",
       "      <td>0.000136</td>\n",
       "    </tr>\n",
       "    <tr>\n",
       "      <th>hiesigen scheint seite</th>\n",
       "      <td>0.074355</td>\n",
       "      <td>0.122383</td>\n",
       "      <td>0.091320</td>\n",
       "      <td>0.113865</td>\n",
       "      <td>0.052900</td>\n",
       "      <td>0.147589</td>\n",
       "      <td>0.107860</td>\n",
       "      <td>0.411610</td>\n",
       "      <td>0.325196</td>\n",
       "      <td>0.093955</td>\n",
       "      <td>...</td>\n",
       "      <td>0.000090</td>\n",
       "      <td>0.001662</td>\n",
       "      <td>0.000212</td>\n",
       "      <td>0.000332</td>\n",
       "      <td>0.001964</td>\n",
       "      <td>0.000160</td>\n",
       "      <td>0.000156</td>\n",
       "      <td>0.001350</td>\n",
       "      <td>0.000133</td>\n",
       "      <td>0.000136</td>\n",
       "    </tr>\n",
       "    <tr>\n",
       "      <th>geschütze januar abgewiesen</th>\n",
       "      <td>0.013065</td>\n",
       "      <td>0.000063</td>\n",
       "      <td>0.000074</td>\n",
       "      <td>0.000065</td>\n",
       "      <td>0.000176</td>\n",
       "      <td>0.003324</td>\n",
       "      <td>0.000053</td>\n",
       "      <td>0.002538</td>\n",
       "      <td>0.001620</td>\n",
       "      <td>0.003280</td>\n",
       "      <td>...</td>\n",
       "      <td>0.838944</td>\n",
       "      <td>0.805287</td>\n",
       "      <td>0.654873</td>\n",
       "      <td>0.731229</td>\n",
       "      <td>0.575179</td>\n",
       "      <td>0.270994</td>\n",
       "      <td>0.271184</td>\n",
       "      <td>0.314233</td>\n",
       "      <td>0.208133</td>\n",
       "      <td>0.252524</td>\n",
       "    </tr>\n",
       "    <tr>\n",
       "      <th>polizei geist wiener</th>\n",
       "      <td>0.219516</td>\n",
       "      <td>0.324149</td>\n",
       "      <td>0.244881</td>\n",
       "      <td>0.081164</td>\n",
       "      <td>0.263796</td>\n",
       "      <td>0.195069</td>\n",
       "      <td>0.045194</td>\n",
       "      <td>0.049147</td>\n",
       "      <td>0.045008</td>\n",
       "      <td>0.016785</td>\n",
       "      <td>...</td>\n",
       "      <td>0.002775</td>\n",
       "      <td>0.000151</td>\n",
       "      <td>0.000212</td>\n",
       "      <td>0.000332</td>\n",
       "      <td>0.000179</td>\n",
       "      <td>0.000160</td>\n",
       "      <td>0.000156</td>\n",
       "      <td>0.000123</td>\n",
       "      <td>0.002800</td>\n",
       "      <td>0.000136</td>\n",
       "    </tr>\n",
       "    <tr>\n",
       "      <th>leipzig stadt ward</th>\n",
       "      <td>0.130806</td>\n",
       "      <td>0.044199</td>\n",
       "      <td>0.109866</td>\n",
       "      <td>0.258404</td>\n",
       "      <td>0.049385</td>\n",
       "      <td>0.113623</td>\n",
       "      <td>0.411630</td>\n",
       "      <td>0.057470</td>\n",
       "      <td>0.094668</td>\n",
       "      <td>0.066302</td>\n",
       "      <td>...</td>\n",
       "      <td>0.000090</td>\n",
       "      <td>0.000151</td>\n",
       "      <td>0.000212</td>\n",
       "      <td>0.016944</td>\n",
       "      <td>0.000179</td>\n",
       "      <td>0.000160</td>\n",
       "      <td>0.000156</td>\n",
       "      <td>0.000123</td>\n",
       "      <td>0.000133</td>\n",
       "      <td>0.000136</td>\n",
       "    </tr>\n",
       "    <tr>\n",
       "      <th>presse artikel meinung</th>\n",
       "      <td>0.075968</td>\n",
       "      <td>0.068159</td>\n",
       "      <td>0.059421</td>\n",
       "      <td>0.122368</td>\n",
       "      <td>0.075747</td>\n",
       "      <td>0.106318</td>\n",
       "      <td>0.055815</td>\n",
       "      <td>0.129047</td>\n",
       "      <td>0.087872</td>\n",
       "      <td>0.083666</td>\n",
       "      <td>...</td>\n",
       "      <td>0.002775</td>\n",
       "      <td>0.007704</td>\n",
       "      <td>0.006568</td>\n",
       "      <td>0.000332</td>\n",
       "      <td>0.003750</td>\n",
       "      <td>0.001763</td>\n",
       "      <td>0.000156</td>\n",
       "      <td>0.000123</td>\n",
       "      <td>0.000133</td>\n",
       "      <td>0.000136</td>\n",
       "    </tr>\n",
       "  </tbody>\n",
       "</table>\n",
       "<p>10 rows × 30 columns</p>\n",
       "</div>"
      ],
      "text/plain": [
       "title                           1844_Tagebuch_56  1844_Tagebuch_70  \\\n",
       "juli südlich märz                       0.001774          0.000694   \n",
       "kunst könig leben                       0.000161          0.075725   \n",
       "deutschland preußen deutscher           0.163065          0.142560   \n",
       "lassen oesterreich weise                0.321129          0.217591   \n",
       "september frankreich antwerpen          0.000161          0.004477   \n",
       "hiesigen scheint seite                  0.074355          0.122383   \n",
       "geschütze januar abgewiesen             0.013065          0.000063   \n",
       "polizei geist wiener                    0.219516          0.324149   \n",
       "leipzig stadt ward                      0.130806          0.044199   \n",
       "presse artikel meinung                  0.075968          0.068159   \n",
       "\n",
       "title                           1844_Tagebuch_77  1844_Tagebuch_82  \\\n",
       "juli südlich märz                       0.000074          0.000065   \n",
       "kunst könig leben                       0.074258          0.050425   \n",
       "deutschland preußen deutscher           0.130638          0.090320   \n",
       "lassen oesterreich weise                0.289392          0.276717   \n",
       "september frankreich antwerpen          0.000074          0.006606   \n",
       "hiesigen scheint seite                  0.091320          0.113865   \n",
       "geschütze januar abgewiesen             0.000074          0.000065   \n",
       "polizei geist wiener                    0.244881          0.081164   \n",
       "leipzig stadt ward                      0.109866          0.258404   \n",
       "presse artikel meinung                  0.059421          0.122368   \n",
       "\n",
       "title                           1844_Tagebuch_88  1845_Tagebuch_52  \\\n",
       "juli südlich märz                       0.000176          0.000037   \n",
       "kunst könig leben                       0.054657          0.033272   \n",
       "deutschland preußen deutscher           0.105624          0.196165   \n",
       "lassen oesterreich weise                0.383304          0.189956   \n",
       "september frankreich antwerpen          0.014236          0.014646   \n",
       "hiesigen scheint seite                  0.052900          0.147589   \n",
       "geschütze januar abgewiesen             0.000176          0.003324   \n",
       "polizei geist wiener                    0.263796          0.195069   \n",
       "leipzig stadt ward                      0.049385          0.113623   \n",
       "presse artikel meinung                  0.075747          0.106318   \n",
       "\n",
       "title                           1845_Tagebuch_62  1845_Tagebuch_81  \\\n",
       "juli südlich märz                       0.000053          0.000042   \n",
       "kunst könig leben                       0.037228          0.021265   \n",
       "deutschland preußen deutscher           0.116888          0.097004   \n",
       "lassen oesterreich weise                0.206638          0.224345   \n",
       "september frankreich antwerpen          0.018640          0.007532   \n",
       "hiesigen scheint seite                  0.107860          0.411610   \n",
       "geschütze januar abgewiesen             0.000053          0.002538   \n",
       "polizei geist wiener                    0.045194          0.049147   \n",
       "leipzig stadt ward                      0.411630          0.057470   \n",
       "presse artikel meinung                  0.055815          0.129047   \n",
       "\n",
       "title                           1845_Tagebuch_85  1845_Tagebuch_93  \\\n",
       "juli südlich märz                       0.002143          0.000064   \n",
       "kunst könig leben                       0.045531          0.324180   \n",
       "deutschland preußen deutscher           0.128646          0.207138   \n",
       "lassen oesterreich weise                0.264036          0.204566   \n",
       "september frankreich antwerpen          0.005280          0.000064   \n",
       "hiesigen scheint seite                  0.325196          0.093955   \n",
       "geschütze januar abgewiesen             0.001620          0.003280   \n",
       "polizei geist wiener                    0.045008          0.016785   \n",
       "leipzig stadt ward                      0.094668          0.066302   \n",
       "presse artikel meinung                  0.087872          0.083666   \n",
       "\n",
       "title                                    ...            \\\n",
       "juli südlich märz                        ...             \n",
       "kunst könig leben                        ...             \n",
       "deutschland preußen deutscher            ...             \n",
       "lassen oesterreich weise                 ...             \n",
       "september frankreich antwerpen           ...             \n",
       "hiesigen scheint seite                   ...             \n",
       "geschütze januar abgewiesen              ...             \n",
       "polizei geist wiener                     ...             \n",
       "leipzig stadt ward                       ...             \n",
       "presse artikel meinung                   ...             \n",
       "\n",
       "title                           1915_Kriegstagebuch_33  \\\n",
       "juli südlich märz                             0.120054   \n",
       "kunst könig leben                             0.016204   \n",
       "deutschland preußen deutscher                 0.000090   \n",
       "lassen oesterreich weise                      0.018890   \n",
       "september frankreich antwerpen                0.000090   \n",
       "hiesigen scheint seite                        0.000090   \n",
       "geschütze januar abgewiesen                   0.838944   \n",
       "polizei geist wiener                          0.002775   \n",
       "leipzig stadt ward                            0.000090   \n",
       "presse artikel meinung                        0.002775   \n",
       "\n",
       "title                           1915_Kriegstagebuch_39  \\\n",
       "juli südlich märz                             0.170846   \n",
       "kunst könig leben                             0.007704   \n",
       "deutschland preußen deutscher                 0.003172   \n",
       "lassen oesterreich weise                      0.001662   \n",
       "september frankreich antwerpen                0.001662   \n",
       "hiesigen scheint seite                        0.001662   \n",
       "geschütze januar abgewiesen                   0.805287   \n",
       "polizei geist wiener                          0.000151   \n",
       "leipzig stadt ward                            0.000151   \n",
       "presse artikel meinung                        0.007704   \n",
       "\n",
       "title                           1915_Kriegstagebuch_73  \\\n",
       "juli südlich märz                             0.324364   \n",
       "kunst könig leben                             0.000212   \n",
       "deutschland preußen deutscher                 0.010805   \n",
       "lassen oesterreich weise                      0.000212   \n",
       "september frankreich antwerpen                0.002331   \n",
       "hiesigen scheint seite                        0.000212   \n",
       "geschütze januar abgewiesen                   0.654873   \n",
       "polizei geist wiener                          0.000212   \n",
       "leipzig stadt ward                            0.000212   \n",
       "presse artikel meinung                        0.006568   \n",
       "\n",
       "title                           1915_Kriegstagebuch_94  \\\n",
       "juli südlich märz                             0.236213   \n",
       "kunst könig leben                             0.000332   \n",
       "deutschland preußen deutscher                 0.003654   \n",
       "lassen oesterreich weise                      0.000332   \n",
       "september frankreich antwerpen                0.010299   \n",
       "hiesigen scheint seite                        0.000332   \n",
       "geschütze januar abgewiesen                   0.731229   \n",
       "polizei geist wiener                          0.000332   \n",
       "leipzig stadt ward                            0.016944   \n",
       "presse artikel meinung                        0.000332   \n",
       "\n",
       "title                           1915_Kriegstagebuch_99  \\\n",
       "juli südlich märz                             0.385893   \n",
       "kunst könig leben                             0.025179   \n",
       "deutschland preußen deutscher                 0.000179   \n",
       "lassen oesterreich weise                      0.000179   \n",
       "september frankreich antwerpen                0.007321   \n",
       "hiesigen scheint seite                        0.001964   \n",
       "geschütze januar abgewiesen                   0.575179   \n",
       "polizei geist wiener                          0.000179   \n",
       "leipzig stadt ward                            0.000179   \n",
       "presse artikel meinung                        0.003750   \n",
       "\n",
       "title                           1916_Kriegstagebuch_41  \\\n",
       "juli südlich märz                             0.718109   \n",
       "kunst könig leben                             0.000160   \n",
       "deutschland preußen deutscher                 0.000160   \n",
       "lassen oesterreich weise                      0.000160   \n",
       "september frankreich antwerpen                0.008173   \n",
       "hiesigen scheint seite                        0.000160   \n",
       "geschütze januar abgewiesen                   0.270994   \n",
       "polizei geist wiener                          0.000160   \n",
       "leipzig stadt ward                            0.000160   \n",
       "presse artikel meinung                        0.001763   \n",
       "\n",
       "title                           1916_Kriegstagebuch_48  \\\n",
       "juli südlich märz                             0.707321   \n",
       "kunst könig leben                             0.007944   \n",
       "deutschland preußen deutscher                 0.000156   \n",
       "lassen oesterreich weise                      0.000156   \n",
       "september frankreich antwerpen                0.012617   \n",
       "hiesigen scheint seite                        0.000156   \n",
       "geschütze januar abgewiesen                   0.271184   \n",
       "polizei geist wiener                          0.000156   \n",
       "leipzig stadt ward                            0.000156   \n",
       "presse artikel meinung                        0.000156   \n",
       "\n",
       "title                           1916_Kriegstagebuch_49  \\\n",
       "juli südlich märz                             0.681104   \n",
       "kunst könig leben                             0.001350   \n",
       "deutschland preußen deutscher                 0.000123   \n",
       "lassen oesterreich weise                      0.001350   \n",
       "september frankreich antwerpen                0.000123   \n",
       "hiesigen scheint seite                        0.001350   \n",
       "geschütze januar abgewiesen                   0.314233   \n",
       "polizei geist wiener                          0.000123   \n",
       "leipzig stadt ward                            0.000123   \n",
       "presse artikel meinung                        0.000123   \n",
       "\n",
       "title                           1916_Kriegstagebuch_69  1916_Kriegstagebuch_81  \n",
       "juli südlich märz                             0.778800                0.728649  \n",
       "kunst könig leben                             0.001467                0.001501  \n",
       "deutschland preußen deutscher                 0.002800                0.016508  \n",
       "lassen oesterreich weise                      0.005467                0.000136  \n",
       "september frankreich antwerpen                0.000133                0.000136  \n",
       "hiesigen scheint seite                        0.000133                0.000136  \n",
       "geschütze januar abgewiesen                   0.208133                0.252524  \n",
       "polizei geist wiener                          0.002800                0.000136  \n",
       "leipzig stadt ward                            0.000133                0.000136  \n",
       "presse artikel meinung                        0.000133                0.000136  \n",
       "\n",
       "[10 rows x 30 columns]"
      ]
     },
     "execution_count": 23,
     "metadata": {},
     "output_type": "execute_result"
    }
   ],
   "source": [
    "document_topics = postprocessing.show_document_topics(model=model, topics=topics, document_labels=metadata['title'])\n",
    "document_topics"
   ]
  },
  {
   "cell_type": "markdown",
   "metadata": {},
   "source": [
    "### 3.1. Distribution of topics"
   ]
  },
  {
   "cell_type": "markdown",
   "metadata": {},
   "source": [
    "#### Distribution of topics over all documents\n",
    "\n",
    "The distribution of topics over all documents can now be visualized in a heatmap."
   ]
  },
  {
   "cell_type": "code",
   "execution_count": 24,
   "metadata": {
    "collapsed": false
   },
   "outputs": [
    {
     "data": {
      "text/html": [
       "\n",
       "    <div class=\"bk-root\">\n",
       "        <a href=\"https://bokeh.pydata.org\" target=\"_blank\" class=\"bk-logo bk-logo-small bk-logo-notebook\"></a>\n",
       "        <span id=\"8e9c1f56-c3a5-4712-bcbb-7fe609e963cb\">Loading BokehJS ...</span>\n",
       "    </div>"
      ]
     },
     "metadata": {},
     "output_type": "display_data"
    },
    {
     "data": {
      "application/javascript": [
       "\n",
       "(function(root) {\n",
       "  function now() {\n",
       "    return new Date();\n",
       "  }\n",
       "\n",
       "  var force = true;\n",
       "\n",
       "  if (typeof (root._bokeh_onload_callbacks) === \"undefined\" || force === true) {\n",
       "    root._bokeh_onload_callbacks = [];\n",
       "    root._bokeh_is_loading = undefined;\n",
       "  }\n",
       "\n",
       "  var JS_MIME_TYPE = 'application/javascript';\n",
       "  var HTML_MIME_TYPE = 'text/html';\n",
       "  var EXEC_MIME_TYPE = 'application/vnd.bokehjs_exec.v0+json';\n",
       "  var CLASS_NAME = 'output_bokeh rendered_html';\n",
       "\n",
       "  /**\n",
       "   * Render data to the DOM node\n",
       "   */\n",
       "  function render(props, node) {\n",
       "    var script = document.createElement(\"script\");\n",
       "    node.appendChild(script);\n",
       "  }\n",
       "\n",
       "  /**\n",
       "   * Handle when an output is cleared or removed\n",
       "   */\n",
       "  function handleClearOutput(event, handle) {\n",
       "    var cell = handle.cell;\n",
       "\n",
       "    var id = cell.output_area._bokeh_element_id;\n",
       "    var server_id = cell.output_area._bokeh_server_id;\n",
       "    // Clean up Bokeh references\n",
       "    if (id !== undefined) {\n",
       "      Bokeh.index[id].model.document.clear();\n",
       "      delete Bokeh.index[id];\n",
       "    }\n",
       "\n",
       "    if (server_id !== undefined) {\n",
       "      // Clean up Bokeh references\n",
       "      var cmd = \"from bokeh.io import _state; print(_state.uuid_to_server['\" + server_id + \"'].get_sessions()[0].document.roots[0]._id)\";\n",
       "      cell.notebook.kernel.execute(cmd, {\n",
       "        iopub: {\n",
       "          output: function(msg) {\n",
       "            var element_id = msg.content.text.trim();\n",
       "            Bokeh.index[element_id].model.document.clear();\n",
       "            delete Bokeh.index[element_id];\n",
       "          }\n",
       "        }\n",
       "      });\n",
       "      // Destroy server and session\n",
       "      var cmd = \"from bokeh import io; io._destroy_server('\" + server_id + \"')\";\n",
       "      cell.notebook.kernel.execute(cmd);\n",
       "    }\n",
       "  }\n",
       "\n",
       "  /**\n",
       "   * Handle when a new output is added\n",
       "   */\n",
       "  function handleAddOutput(event, handle) {\n",
       "    var output_area = handle.output_area;\n",
       "    var output = handle.output;\n",
       "\n",
       "    // limit handleAddOutput to display_data with EXEC_MIME_TYPE content only\n",
       "    if ((output.output_type != \"display_data\") || (!output.data.hasOwnProperty(EXEC_MIME_TYPE))) {\n",
       "      return\n",
       "    }\n",
       "\n",
       "    var toinsert = output_area.element.find(`.${CLASS_NAME.split(' ')[0]}`);\n",
       "\n",
       "    if (output.metadata[EXEC_MIME_TYPE][\"id\"] !== undefined) {\n",
       "      toinsert[0].firstChild.textContent = output.data[JS_MIME_TYPE];\n",
       "      // store reference to embed id on output_area\n",
       "      output_area._bokeh_element_id = output.metadata[EXEC_MIME_TYPE][\"id\"];\n",
       "    }\n",
       "    if (output.metadata[EXEC_MIME_TYPE][\"server_id\"] !== undefined) {\n",
       "      var bk_div = document.createElement(\"div\");\n",
       "      bk_div.innerHTML = output.data[HTML_MIME_TYPE];\n",
       "      var script_attrs = bk_div.children[0].attributes;\n",
       "      for (var i = 0; i < script_attrs.length; i++) {\n",
       "        toinsert[0].firstChild.setAttribute(script_attrs[i].name, script_attrs[i].value);\n",
       "      }\n",
       "      // store reference to server id on output_area\n",
       "      output_area._bokeh_server_id = output.metadata[EXEC_MIME_TYPE][\"server_id\"];\n",
       "    }\n",
       "  }\n",
       "\n",
       "  function register_renderer(events, OutputArea) {\n",
       "\n",
       "    function append_mime(data, metadata, element) {\n",
       "      // create a DOM node to render to\n",
       "      var toinsert = this.create_output_subarea(\n",
       "        metadata,\n",
       "        CLASS_NAME,\n",
       "        EXEC_MIME_TYPE\n",
       "      );\n",
       "      this.keyboard_manager.register_events(toinsert);\n",
       "      // Render to node\n",
       "      var props = {data: data, metadata: metadata[EXEC_MIME_TYPE]};\n",
       "      render(props, toinsert[0]);\n",
       "      element.append(toinsert);\n",
       "      return toinsert\n",
       "    }\n",
       "\n",
       "    /* Handle when an output is cleared or removed */\n",
       "    events.on('clear_output.CodeCell', handleClearOutput);\n",
       "    events.on('delete.Cell', handleClearOutput);\n",
       "\n",
       "    /* Handle when a new output is added */\n",
       "    events.on('output_added.OutputArea', handleAddOutput);\n",
       "\n",
       "    /**\n",
       "     * Register the mime type and append_mime function with output_area\n",
       "     */\n",
       "    OutputArea.prototype.register_mime_type(EXEC_MIME_TYPE, append_mime, {\n",
       "      /* Is output safe? */\n",
       "      safe: true,\n",
       "      /* Index of renderer in `output_area.display_order` */\n",
       "      index: 0\n",
       "    });\n",
       "  }\n",
       "\n",
       "  // register the mime type if in Jupyter Notebook environment and previously unregistered\n",
       "  if (root.Jupyter !== undefined) {\n",
       "    var events = require('base/js/events');\n",
       "    var OutputArea = require('notebook/js/outputarea').OutputArea;\n",
       "\n",
       "    if (OutputArea.prototype.mime_types().indexOf(EXEC_MIME_TYPE) == -1) {\n",
       "      register_renderer(events, OutputArea);\n",
       "    }\n",
       "  }\n",
       "\n",
       "  \n",
       "  if (typeof (root._bokeh_timeout) === \"undefined\" || force === true) {\n",
       "    root._bokeh_timeout = Date.now() + 5000;\n",
       "    root._bokeh_failed_load = false;\n",
       "  }\n",
       "\n",
       "  var NB_LOAD_WARNING = {'data': {'text/html':\n",
       "     \"<div style='background-color: #fdd'>\\n\"+\n",
       "     \"<p>\\n\"+\n",
       "     \"BokehJS does not appear to have successfully loaded. If loading BokehJS from CDN, this \\n\"+\n",
       "     \"may be due to a slow or bad network connection. Possible fixes:\\n\"+\n",
       "     \"</p>\\n\"+\n",
       "     \"<ul>\\n\"+\n",
       "     \"<li>re-rerun `output_notebook()` to attempt to load from CDN again, or</li>\\n\"+\n",
       "     \"<li>use INLINE resources instead, as so:</li>\\n\"+\n",
       "     \"</ul>\\n\"+\n",
       "     \"<code>\\n\"+\n",
       "     \"from bokeh.resources import INLINE\\n\"+\n",
       "     \"output_notebook(resources=INLINE)\\n\"+\n",
       "     \"</code>\\n\"+\n",
       "     \"</div>\"}};\n",
       "\n",
       "  function display_loaded() {\n",
       "    var el = document.getElementById(\"8e9c1f56-c3a5-4712-bcbb-7fe609e963cb\");\n",
       "    if (el != null) {\n",
       "      el.textContent = \"BokehJS is loading...\";\n",
       "    }\n",
       "    if (root.Bokeh !== undefined) {\n",
       "      if (el != null) {\n",
       "        el.textContent = \"BokehJS \" + root.Bokeh.version + \" successfully loaded.\";\n",
       "      }\n",
       "    } else if (Date.now() < root._bokeh_timeout) {\n",
       "      setTimeout(display_loaded, 100)\n",
       "    }\n",
       "  }\n",
       "\n",
       "\n",
       "  function run_callbacks() {\n",
       "    try {\n",
       "      root._bokeh_onload_callbacks.forEach(function(callback) { callback() });\n",
       "    }\n",
       "    finally {\n",
       "      delete root._bokeh_onload_callbacks\n",
       "    }\n",
       "    console.info(\"Bokeh: all callbacks have finished\");\n",
       "  }\n",
       "\n",
       "  function load_libs(js_urls, callback) {\n",
       "    root._bokeh_onload_callbacks.push(callback);\n",
       "    if (root._bokeh_is_loading > 0) {\n",
       "      console.log(\"Bokeh: BokehJS is being loaded, scheduling callback at\", now());\n",
       "      return null;\n",
       "    }\n",
       "    if (js_urls == null || js_urls.length === 0) {\n",
       "      run_callbacks();\n",
       "      return null;\n",
       "    }\n",
       "    console.log(\"Bokeh: BokehJS not loaded, scheduling load and callback at\", now());\n",
       "    root._bokeh_is_loading = js_urls.length;\n",
       "    for (var i = 0; i < js_urls.length; i++) {\n",
       "      var url = js_urls[i];\n",
       "      var s = document.createElement('script');\n",
       "      s.src = url;\n",
       "      s.async = false;\n",
       "      s.onreadystatechange = s.onload = function() {\n",
       "        root._bokeh_is_loading--;\n",
       "        if (root._bokeh_is_loading === 0) {\n",
       "          console.log(\"Bokeh: all BokehJS libraries loaded\");\n",
       "          run_callbacks()\n",
       "        }\n",
       "      };\n",
       "      s.onerror = function() {\n",
       "        console.warn(\"failed to load library \" + url);\n",
       "      };\n",
       "      console.log(\"Bokeh: injecting script tag for BokehJS library: \", url);\n",
       "      document.getElementsByTagName(\"head\")[0].appendChild(s);\n",
       "    }\n",
       "  };var element = document.getElementById(\"8e9c1f56-c3a5-4712-bcbb-7fe609e963cb\");\n",
       "  if (element == null) {\n",
       "    console.log(\"Bokeh: ERROR: autoload.js configured with elementid '8e9c1f56-c3a5-4712-bcbb-7fe609e963cb' but no matching script tag was found. \")\n",
       "    return false;\n",
       "  }\n",
       "\n",
       "  var js_urls = [\"https://cdn.pydata.org/bokeh/release/bokeh-0.12.9.min.js\", \"https://cdn.pydata.org/bokeh/release/bokeh-widgets-0.12.9.min.js\", \"https://cdn.pydata.org/bokeh/release/bokeh-tables-0.12.9.min.js\", \"https://cdn.pydata.org/bokeh/release/bokeh-gl-0.12.9.min.js\"];\n",
       "\n",
       "  var inline_js = [\n",
       "    function(Bokeh) {\n",
       "      Bokeh.set_log_level(\"info\");\n",
       "    },\n",
       "    \n",
       "    function(Bokeh) {\n",
       "      \n",
       "    },\n",
       "    function(Bokeh) {\n",
       "      console.log(\"Bokeh: injecting CSS: https://cdn.pydata.org/bokeh/release/bokeh-0.12.9.min.css\");\n",
       "      Bokeh.embed.inject_css(\"https://cdn.pydata.org/bokeh/release/bokeh-0.12.9.min.css\");\n",
       "      console.log(\"Bokeh: injecting CSS: https://cdn.pydata.org/bokeh/release/bokeh-widgets-0.12.9.min.css\");\n",
       "      Bokeh.embed.inject_css(\"https://cdn.pydata.org/bokeh/release/bokeh-widgets-0.12.9.min.css\");\n",
       "      console.log(\"Bokeh: injecting CSS: https://cdn.pydata.org/bokeh/release/bokeh-tables-0.12.9.min.css\");\n",
       "      Bokeh.embed.inject_css(\"https://cdn.pydata.org/bokeh/release/bokeh-tables-0.12.9.min.css\");\n",
       "    }\n",
       "  ];\n",
       "\n",
       "  function run_inline_js() {\n",
       "    \n",
       "    if ((root.Bokeh !== undefined) || (force === true)) {\n",
       "      for (var i = 0; i < inline_js.length; i++) {\n",
       "        inline_js[i].call(root, root.Bokeh);\n",
       "      }if (force === true) {\n",
       "        display_loaded();\n",
       "      }} else if (Date.now() < root._bokeh_timeout) {\n",
       "      setTimeout(run_inline_js, 100);\n",
       "    } else if (!root._bokeh_failed_load) {\n",
       "      console.log(\"Bokeh: BokehJS failed to load within specified timeout.\");\n",
       "      root._bokeh_failed_load = true;\n",
       "    } else if (force !== true) {\n",
       "      var cell = $(document.getElementById(\"8e9c1f56-c3a5-4712-bcbb-7fe609e963cb\")).parents('.cell').data().cell;\n",
       "      cell.output_area.append_execute_result(NB_LOAD_WARNING)\n",
       "    }\n",
       "\n",
       "  }\n",
       "\n",
       "  if (root._bokeh_is_loading === 0) {\n",
       "    console.log(\"Bokeh: BokehJS loaded, going straight to plotting\");\n",
       "    run_inline_js();\n",
       "  } else {\n",
       "    load_libs(js_urls, function() {\n",
       "      console.log(\"Bokeh: BokehJS plotting callback run at\", now());\n",
       "      run_inline_js();\n",
       "    });\n",
       "  }\n",
       "}(window));"
      ],
      "application/vnd.bokehjs_load.v0+json": "\n(function(root) {\n  function now() {\n    return new Date();\n  }\n\n  var force = true;\n\n  if (typeof (root._bokeh_onload_callbacks) === \"undefined\" || force === true) {\n    root._bokeh_onload_callbacks = [];\n    root._bokeh_is_loading = undefined;\n  }\n\n  \n\n  \n  if (typeof (root._bokeh_timeout) === \"undefined\" || force === true) {\n    root._bokeh_timeout = Date.now() + 5000;\n    root._bokeh_failed_load = false;\n  }\n\n  var NB_LOAD_WARNING = {'data': {'text/html':\n     \"<div style='background-color: #fdd'>\\n\"+\n     \"<p>\\n\"+\n     \"BokehJS does not appear to have successfully loaded. If loading BokehJS from CDN, this \\n\"+\n     \"may be due to a slow or bad network connection. Possible fixes:\\n\"+\n     \"</p>\\n\"+\n     \"<ul>\\n\"+\n     \"<li>re-rerun `output_notebook()` to attempt to load from CDN again, or</li>\\n\"+\n     \"<li>use INLINE resources instead, as so:</li>\\n\"+\n     \"</ul>\\n\"+\n     \"<code>\\n\"+\n     \"from bokeh.resources import INLINE\\n\"+\n     \"output_notebook(resources=INLINE)\\n\"+\n     \"</code>\\n\"+\n     \"</div>\"}};\n\n  function display_loaded() {\n    var el = document.getElementById(\"8e9c1f56-c3a5-4712-bcbb-7fe609e963cb\");\n    if (el != null) {\n      el.textContent = \"BokehJS is loading...\";\n    }\n    if (root.Bokeh !== undefined) {\n      if (el != null) {\n        el.textContent = \"BokehJS \" + root.Bokeh.version + \" successfully loaded.\";\n      }\n    } else if (Date.now() < root._bokeh_timeout) {\n      setTimeout(display_loaded, 100)\n    }\n  }\n\n\n  function run_callbacks() {\n    try {\n      root._bokeh_onload_callbacks.forEach(function(callback) { callback() });\n    }\n    finally {\n      delete root._bokeh_onload_callbacks\n    }\n    console.info(\"Bokeh: all callbacks have finished\");\n  }\n\n  function load_libs(js_urls, callback) {\n    root._bokeh_onload_callbacks.push(callback);\n    if (root._bokeh_is_loading > 0) {\n      console.log(\"Bokeh: BokehJS is being loaded, scheduling callback at\", now());\n      return null;\n    }\n    if (js_urls == null || js_urls.length === 0) {\n      run_callbacks();\n      return null;\n    }\n    console.log(\"Bokeh: BokehJS not loaded, scheduling load and callback at\", now());\n    root._bokeh_is_loading = js_urls.length;\n    for (var i = 0; i < js_urls.length; i++) {\n      var url = js_urls[i];\n      var s = document.createElement('script');\n      s.src = url;\n      s.async = false;\n      s.onreadystatechange = s.onload = function() {\n        root._bokeh_is_loading--;\n        if (root._bokeh_is_loading === 0) {\n          console.log(\"Bokeh: all BokehJS libraries loaded\");\n          run_callbacks()\n        }\n      };\n      s.onerror = function() {\n        console.warn(\"failed to load library \" + url);\n      };\n      console.log(\"Bokeh: injecting script tag for BokehJS library: \", url);\n      document.getElementsByTagName(\"head\")[0].appendChild(s);\n    }\n  };var element = document.getElementById(\"8e9c1f56-c3a5-4712-bcbb-7fe609e963cb\");\n  if (element == null) {\n    console.log(\"Bokeh: ERROR: autoload.js configured with elementid '8e9c1f56-c3a5-4712-bcbb-7fe609e963cb' but no matching script tag was found. \")\n    return false;\n  }\n\n  var js_urls = [\"https://cdn.pydata.org/bokeh/release/bokeh-0.12.9.min.js\", \"https://cdn.pydata.org/bokeh/release/bokeh-widgets-0.12.9.min.js\", \"https://cdn.pydata.org/bokeh/release/bokeh-tables-0.12.9.min.js\", \"https://cdn.pydata.org/bokeh/release/bokeh-gl-0.12.9.min.js\"];\n\n  var inline_js = [\n    function(Bokeh) {\n      Bokeh.set_log_level(\"info\");\n    },\n    \n    function(Bokeh) {\n      \n    },\n    function(Bokeh) {\n      console.log(\"Bokeh: injecting CSS: https://cdn.pydata.org/bokeh/release/bokeh-0.12.9.min.css\");\n      Bokeh.embed.inject_css(\"https://cdn.pydata.org/bokeh/release/bokeh-0.12.9.min.css\");\n      console.log(\"Bokeh: injecting CSS: https://cdn.pydata.org/bokeh/release/bokeh-widgets-0.12.9.min.css\");\n      Bokeh.embed.inject_css(\"https://cdn.pydata.org/bokeh/release/bokeh-widgets-0.12.9.min.css\");\n      console.log(\"Bokeh: injecting CSS: https://cdn.pydata.org/bokeh/release/bokeh-tables-0.12.9.min.css\");\n      Bokeh.embed.inject_css(\"https://cdn.pydata.org/bokeh/release/bokeh-tables-0.12.9.min.css\");\n    }\n  ];\n\n  function run_inline_js() {\n    \n    if ((root.Bokeh !== undefined) || (force === true)) {\n      for (var i = 0; i < inline_js.length; i++) {\n        inline_js[i].call(root, root.Bokeh);\n      }if (force === true) {\n        display_loaded();\n      }} else if (Date.now() < root._bokeh_timeout) {\n      setTimeout(run_inline_js, 100);\n    } else if (!root._bokeh_failed_load) {\n      console.log(\"Bokeh: BokehJS failed to load within specified timeout.\");\n      root._bokeh_failed_load = true;\n    } else if (force !== true) {\n      var cell = $(document.getElementById(\"8e9c1f56-c3a5-4712-bcbb-7fe609e963cb\")).parents('.cell').data().cell;\n      cell.output_area.append_execute_result(NB_LOAD_WARNING)\n    }\n\n  }\n\n  if (root._bokeh_is_loading === 0) {\n    console.log(\"Bokeh: BokehJS loaded, going straight to plotting\");\n    run_inline_js();\n  } else {\n    load_libs(js_urls, function() {\n      console.log(\"Bokeh: BokehJS plotting callback run at\", now());\n      run_inline_js();\n    });\n  }\n}(window));"
     },
     "metadata": {},
     "output_type": "display_data"
    },
    {
     "data": {
      "text/html": [
       "\n",
       "<div class=\"bk-root\">\n",
       "    <div class=\"bk-plotdiv\" id=\"2d5e1d31-3dc5-46e3-9f1a-b0f9ba8af89e\"></div>\n",
       "</div>"
      ]
     },
     "metadata": {},
     "output_type": "display_data"
    },
    {
     "data": {
      "application/javascript": [
       "(function(root) {\n",
       "  function embed_document(root) {\n",
       "    var docs_json = {\"54ce4ade-d2b8-4a8e-a243-91ec1d8bbc8a\":{\"roots\":{\"references\":[{\"attributes\":{\"axis_line_color\":{\"value\":null},\"formatter\":{\"id\":\"d9fb3899-08df-444f-9138-a8e21e78258d\",\"type\":\"CategoricalTickFormatter\"},\"major_label_orientation\":1.0471975511965976,\"major_label_standoff\":0,\"major_label_text_font_size\":{\"value\":\"9pt\"},\"major_tick_line_color\":{\"value\":null},\"plot\":{\"id\":\"aea20e0a-1a0f-4a7b-94c2-d6561c0c95d2\",\"subtype\":\"Figure\",\"type\":\"Plot\"},\"ticker\":{\"id\":\"253f6fe5-8638-4cad-813f-710833b2353a\",\"type\":\"CategoricalTicker\"}},\"id\":\"3180a7b3-d031-4b16-b99d-2d9f6355c545\",\"type\":\"CategoricalAxis\"},{\"attributes\":{\"dimension\":1,\"grid_line_color\":{\"value\":null},\"plot\":{\"id\":\"aea20e0a-1a0f-4a7b-94c2-d6561c0c95d2\",\"subtype\":\"Figure\",\"type\":\"Plot\"},\"ticker\":{\"id\":\"0eca4a77-5cb0-4294-92e9-04cd8e32745e\",\"type\":\"CategoricalTicker\"}},\"id\":\"1d6553bf-b68e-43ea-a78e-a708076da123\",\"type\":\"Grid\"},{\"attributes\":{\"active_drag\":\"auto\",\"active_inspect\":\"auto\",\"active_scroll\":\"auto\",\"active_tap\":\"auto\",\"tools\":[{\"id\":\"0f60d4ec-13b6-48ce-aa44-cc6c5296dc2a\",\"type\":\"HoverTool\"},{\"id\":\"07038613-6f68-4309-9f08-9ca3e9bc4f93\",\"type\":\"SaveTool\"},{\"id\":\"734f538e-fee6-4884-b5eb-7a9e2d96d8ae\",\"type\":\"PanTool\"},{\"id\":\"4ab07d8c-321c-4bda-8a18-885944bad007\",\"type\":\"BoxZoomTool\"},{\"id\":\"7aefb6aa-b0f1-43ef-8e37-ff388af86e45\",\"type\":\"ResetTool\"},{\"id\":\"2ed8c289-a7c4-4cb8-85e4-19b2becae0f1\",\"type\":\"WheelZoomTool\"}]},\"id\":\"35cde7a6-9984-433b-9aa4-cbdf6949cae8\",\"type\":\"Toolbar\"},{\"attributes\":{},\"id\":\"ddb44d4e-888a-45cc-953f-7ba294ba99a5\",\"type\":\"CategoricalTickFormatter\"},{\"attributes\":{},\"id\":\"2ed8c289-a7c4-4cb8-85e4-19b2becae0f1\",\"type\":\"WheelZoomTool\"},{\"attributes\":{\"grid_line_color\":{\"value\":null},\"plot\":{\"id\":\"aea20e0a-1a0f-4a7b-94c2-d6561c0c95d2\",\"subtype\":\"Figure\",\"type\":\"Plot\"},\"ticker\":{\"id\":\"253f6fe5-8638-4cad-813f-710833b2353a\",\"type\":\"CategoricalTicker\"}},\"id\":\"31188ea8-89eb-4cbd-925b-7096bef3cb47\",\"type\":\"Grid\"},{\"attributes\":{\"data_source\":{\"id\":\"265ef2aa-119a-40eb-87aa-e1d2bd5c92bd\",\"type\":\"ColumnDataSource\"},\"glyph\":{\"id\":\"f9b6f59c-99f8-4f38-bc7d-0e1851d1d52f\",\"type\":\"Rect\"},\"hover_glyph\":null,\"muted_glyph\":null,\"nonselection_glyph\":{\"id\":\"ad259441-1e73-4948-9b0f-1575192345c8\",\"type\":\"Rect\"},\"selection_glyph\":null,\"view\":{\"id\":\"3a31106a-fcbb-49d9-8a43-760a6ca261d3\",\"type\":\"CDSView\"}},\"id\":\"13d3a67b-30c2-4804-bce8-80190204d73e\",\"type\":\"GlyphRenderer\"},{\"attributes\":{\"callback\":null,\"factors\":[\"1844_Tagebuch_56\",\"1844_Tagebuch_70\",\"1844_Tagebuch_77\",\"1844_Tagebuch_82\",\"1844_Tagebuch_88\",\"1845_Tagebuch_52\",\"1845_Tagebuch_62\",\"1845_Tagebuch_81\",\"1845_Tagebuch_85\",\"1845_Tagebuch_93\",\"1846_Tagebuch_51\",\"1846_Tagebuch_72\",\"1846_Tagebuch_82\",\"1846_Tagebuch_88\",\"1846_Tagebuch_96\",\"1914_Kriegstagebuch_37\",\"1914_Kriegstagebuch_68\",\"1914_Kriegstagebuch_94\",\"1914_Kriegstagebuch_95\",\"1914_Kriegstagebuch_97\",\"1915_Kriegstagebuch_33\",\"1915_Kriegstagebuch_39\",\"1915_Kriegstagebuch_73\",\"1915_Kriegstagebuch_94\",\"1915_Kriegstagebuch_99\",\"1916_Kriegstagebuch_41\",\"1916_Kriegstagebuch_48\",\"1916_Kriegstagebuch_49\",\"1916_Kriegstagebuch_69\",\"1916_Kriegstagebuch_81\"]},\"id\":\"b5502077-4298-46c2-813d-fbaf8ad8d3fe\",\"type\":\"FactorRange\"},{\"attributes\":{\"bottom_units\":\"screen\",\"fill_alpha\":{\"value\":0.5},\"fill_color\":{\"value\":\"lightgrey\"},\"left_units\":\"screen\",\"level\":\"overlay\",\"line_alpha\":{\"value\":1.0},\"line_color\":{\"value\":\"black\"},\"line_dash\":[4,4],\"line_width\":{\"value\":2},\"plot\":null,\"render_mode\":\"css\",\"right_units\":\"screen\",\"top_units\":\"screen\"},\"id\":\"ffce2c4e-c179-4ba0-9758-103412ac4380\",\"type\":\"BoxAnnotation\"},{\"attributes\":{\"above\":[{\"id\":\"3180a7b3-d031-4b16-b99d-2d9f6355c545\",\"type\":\"CategoricalAxis\"}],\"left\":[{\"id\":\"92f4e4bb-60fd-4f47-8043-65857ce5151d\",\"type\":\"CategoricalAxis\"}],\"plot_height\":768,\"plot_width\":1024,\"renderers\":[{\"id\":\"3180a7b3-d031-4b16-b99d-2d9f6355c545\",\"type\":\"CategoricalAxis\"},{\"id\":\"31188ea8-89eb-4cbd-925b-7096bef3cb47\",\"type\":\"Grid\"},{\"id\":\"92f4e4bb-60fd-4f47-8043-65857ce5151d\",\"type\":\"CategoricalAxis\"},{\"id\":\"1d6553bf-b68e-43ea-a78e-a708076da123\",\"type\":\"Grid\"},{\"id\":\"ffce2c4e-c179-4ba0-9758-103412ac4380\",\"type\":\"BoxAnnotation\"},{\"id\":\"13d3a67b-30c2-4804-bce8-80190204d73e\",\"type\":\"GlyphRenderer\"},{\"id\":\"aa967951-6ed1-4c5f-bfc1-2c4258236f85\",\"type\":\"ColorBar\"}],\"right\":[{\"id\":\"aa967951-6ed1-4c5f-bfc1-2c4258236f85\",\"type\":\"ColorBar\"}],\"sizing_mode\":\"scale_width\",\"title\":{\"id\":\"4ee1addf-8a75-446c-97ce-ffd5550f769d\",\"type\":\"Title\"},\"toolbar\":{\"id\":\"35cde7a6-9984-433b-9aa4-cbdf6949cae8\",\"type\":\"Toolbar\"},\"toolbar_location\":\"below\",\"x_range\":{\"id\":\"b5502077-4298-46c2-813d-fbaf8ad8d3fe\",\"type\":\"FactorRange\"},\"x_scale\":{\"id\":\"bdf2d827-f03b-4baa-aca6-d0524faa6728\",\"type\":\"CategoricalScale\"},\"y_range\":{\"id\":\"dc414470-806a-4677-89b6-ba76aade60dc\",\"type\":\"FactorRange\"},\"y_scale\":{\"id\":\"62e829aa-adb8-47bd-a876-c8d9bf0409fe\",\"type\":\"CategoricalScale\"}},\"id\":\"aea20e0a-1a0f-4a7b-94c2-d6561c0c95d2\",\"subtype\":\"Figure\",\"type\":\"Plot\"},{\"attributes\":{},\"id\":\"07038613-6f68-4309-9f08-9ca3e9bc4f93\",\"type\":\"SaveTool\"},{\"attributes\":{\"overlay\":{\"id\":\"ffce2c4e-c179-4ba0-9758-103412ac4380\",\"type\":\"BoxAnnotation\"}},\"id\":\"4ab07d8c-321c-4bda-8a18-885944bad007\",\"type\":\"BoxZoomTool\"},{\"attributes\":{},\"id\":\"5432ada8-58a5-4cbb-b1c2-eb3574e5523b\",\"type\":\"BasicTickFormatter\"},{\"attributes\":{},\"id\":\"62e829aa-adb8-47bd-a876-c8d9bf0409fe\",\"type\":\"CategoricalScale\"},{\"attributes\":{},\"id\":\"bdf2d827-f03b-4baa-aca6-d0524faa6728\",\"type\":\"CategoricalScale\"},{\"attributes\":{},\"id\":\"734f538e-fee6-4884-b5eb-7a9e2d96d8ae\",\"type\":\"PanTool\"},{\"attributes\":{\"source\":{\"id\":\"265ef2aa-119a-40eb-87aa-e1d2bd5c92bd\",\"type\":\"ColumnDataSource\"}},\"id\":\"3a31106a-fcbb-49d9-8a43-760a6ca261d3\",\"type\":\"CDSView\"},{\"attributes\":{},\"id\":\"d9fb3899-08df-444f-9138-a8e21e78258d\",\"type\":\"CategoricalTickFormatter\"},{\"attributes\":{},\"id\":\"0eca4a77-5cb0-4294-92e9-04cd8e32745e\",\"type\":\"CategoricalTicker\"},{\"attributes\":{\"fill_color\":{\"field\":\"Score\",\"transform\":{\"id\":\"8b3782a1-c564-4c7a-af73-1b1fc7790b4e\",\"type\":\"LinearColorMapper\"}},\"height\":{\"units\":\"data\",\"value\":1},\"line_color\":{\"value\":null},\"width\":{\"units\":\"data\",\"value\":1},\"x\":{\"field\":\"Document\"},\"y\":{\"field\":\"Topic\"}},\"id\":\"f9b6f59c-99f8-4f38-bc7d-0e1851d1d52f\",\"type\":\"Rect\"},{\"attributes\":{},\"id\":\"7aefb6aa-b0f1-43ef-8e37-ff388af86e45\",\"type\":\"ResetTool\"},{\"attributes\":{\"callback\":null,\"tooltips\":[[\"Document\",\"@Document\"],[\"Topic\",\"@Topic\"],[\"Score\",\"@Score\"]]},\"id\":\"0f60d4ec-13b6-48ce-aa44-cc6c5296dc2a\",\"type\":\"HoverTool\"},{\"attributes\":{},\"id\":\"253f6fe5-8638-4cad-813f-710833b2353a\",\"type\":\"CategoricalTicker\"},{\"attributes\":{\"callback\":null,\"column_names\":[\"Score\",\"Document\",\"index\",\"Topic\"],\"data\":{\"Document\":[\"1844_Tagebuch_56\",\"1844_Tagebuch_56\",\"1844_Tagebuch_56\",\"1844_Tagebuch_56\",\"1844_Tagebuch_56\",\"1844_Tagebuch_56\",\"1844_Tagebuch_56\",\"1844_Tagebuch_56\",\"1844_Tagebuch_56\",\"1844_Tagebuch_56\",\"1844_Tagebuch_70\",\"1844_Tagebuch_70\",\"1844_Tagebuch_70\",\"1844_Tagebuch_70\",\"1844_Tagebuch_70\",\"1844_Tagebuch_70\",\"1844_Tagebuch_70\",\"1844_Tagebuch_70\",\"1844_Tagebuch_70\",\"1844_Tagebuch_70\",\"1844_Tagebuch_77\",\"1844_Tagebuch_77\",\"1844_Tagebuch_77\",\"1844_Tagebuch_77\",\"1844_Tagebuch_77\",\"1844_Tagebuch_77\",\"1844_Tagebuch_77\",\"1844_Tagebuch_77\",\"1844_Tagebuch_77\",\"1844_Tagebuch_77\",\"1844_Tagebuch_82\",\"1844_Tagebuch_82\",\"1844_Tagebuch_82\",\"1844_Tagebuch_82\",\"1844_Tagebuch_82\",\"1844_Tagebuch_82\",\"1844_Tagebuch_82\",\"1844_Tagebuch_82\",\"1844_Tagebuch_82\",\"1844_Tagebuch_82\",\"1844_Tagebuch_88\",\"1844_Tagebuch_88\",\"1844_Tagebuch_88\",\"1844_Tagebuch_88\",\"1844_Tagebuch_88\",\"1844_Tagebuch_88\",\"1844_Tagebuch_88\",\"1844_Tagebuch_88\",\"1844_Tagebuch_88\",\"1844_Tagebuch_88\",\"1845_Tagebuch_52\",\"1845_Tagebuch_52\",\"1845_Tagebuch_52\",\"1845_Tagebuch_52\",\"1845_Tagebuch_52\",\"1845_Tagebuch_52\",\"1845_Tagebuch_52\",\"1845_Tagebuch_52\",\"1845_Tagebuch_52\",\"1845_Tagebuch_52\",\"1845_Tagebuch_62\",\"1845_Tagebuch_62\",\"1845_Tagebuch_62\",\"1845_Tagebuch_62\",\"1845_Tagebuch_62\",\"1845_Tagebuch_62\",\"1845_Tagebuch_62\",\"1845_Tagebuch_62\",\"1845_Tagebuch_62\",\"1845_Tagebuch_62\",\"1845_Tagebuch_81\",\"1845_Tagebuch_81\",\"1845_Tagebuch_81\",\"1845_Tagebuch_81\",\"1845_Tagebuch_81\",\"1845_Tagebuch_81\",\"1845_Tagebuch_81\",\"1845_Tagebuch_81\",\"1845_Tagebuch_81\",\"1845_Tagebuch_81\",\"1845_Tagebuch_85\",\"1845_Tagebuch_85\",\"1845_Tagebuch_85\",\"1845_Tagebuch_85\",\"1845_Tagebuch_85\",\"1845_Tagebuch_85\",\"1845_Tagebuch_85\",\"1845_Tagebuch_85\",\"1845_Tagebuch_85\",\"1845_Tagebuch_85\",\"1845_Tagebuch_93\",\"1845_Tagebuch_93\",\"1845_Tagebuch_93\",\"1845_Tagebuch_93\",\"1845_Tagebuch_93\",\"1845_Tagebuch_93\",\"1845_Tagebuch_93\",\"1845_Tagebuch_93\",\"1845_Tagebuch_93\",\"1845_Tagebuch_93\",\"1846_Tagebuch_51\",\"1846_Tagebuch_51\",\"1846_Tagebuch_51\",\"1846_Tagebuch_51\",\"1846_Tagebuch_51\",\"1846_Tagebuch_51\",\"1846_Tagebuch_51\",\"1846_Tagebuch_51\",\"1846_Tagebuch_51\",\"1846_Tagebuch_51\",\"1846_Tagebuch_72\",\"1846_Tagebuch_72\",\"1846_Tagebuch_72\",\"1846_Tagebuch_72\",\"1846_Tagebuch_72\",\"1846_Tagebuch_72\",\"1846_Tagebuch_72\",\"1846_Tagebuch_72\",\"1846_Tagebuch_72\",\"1846_Tagebuch_72\",\"1846_Tagebuch_82\",\"1846_Tagebuch_82\",\"1846_Tagebuch_82\",\"1846_Tagebuch_82\",\"1846_Tagebuch_82\",\"1846_Tagebuch_82\",\"1846_Tagebuch_82\",\"1846_Tagebuch_82\",\"1846_Tagebuch_82\",\"1846_Tagebuch_82\",\"1846_Tagebuch_88\",\"1846_Tagebuch_88\",\"1846_Tagebuch_88\",\"1846_Tagebuch_88\",\"1846_Tagebuch_88\",\"1846_Tagebuch_88\",\"1846_Tagebuch_88\",\"1846_Tagebuch_88\",\"1846_Tagebuch_88\",\"1846_Tagebuch_88\",\"1846_Tagebuch_96\",\"1846_Tagebuch_96\",\"1846_Tagebuch_96\",\"1846_Tagebuch_96\",\"1846_Tagebuch_96\",\"1846_Tagebuch_96\",\"1846_Tagebuch_96\",\"1846_Tagebuch_96\",\"1846_Tagebuch_96\",\"1846_Tagebuch_96\",\"1914_Kriegstagebuch_37\",\"1914_Kriegstagebuch_37\",\"1914_Kriegstagebuch_37\",\"1914_Kriegstagebuch_37\",\"1914_Kriegstagebuch_37\",\"1914_Kriegstagebuch_37\",\"1914_Kriegstagebuch_37\",\"1914_Kriegstagebuch_37\",\"1914_Kriegstagebuch_37\",\"1914_Kriegstagebuch_37\",\"1914_Kriegstagebuch_68\",\"1914_Kriegstagebuch_68\",\"1914_Kriegstagebuch_68\",\"1914_Kriegstagebuch_68\",\"1914_Kriegstagebuch_68\",\"1914_Kriegstagebuch_68\",\"1914_Kriegstagebuch_68\",\"1914_Kriegstagebuch_68\",\"1914_Kriegstagebuch_68\",\"1914_Kriegstagebuch_68\",\"1914_Kriegstagebuch_94\",\"1914_Kriegstagebuch_94\",\"1914_Kriegstagebuch_94\",\"1914_Kriegstagebuch_94\",\"1914_Kriegstagebuch_94\",\"1914_Kriegstagebuch_94\",\"1914_Kriegstagebuch_94\",\"1914_Kriegstagebuch_94\",\"1914_Kriegstagebuch_94\",\"1914_Kriegstagebuch_94\",\"1914_Kriegstagebuch_95\",\"1914_Kriegstagebuch_95\",\"1914_Kriegstagebuch_95\",\"1914_Kriegstagebuch_95\",\"1914_Kriegstagebuch_95\",\"1914_Kriegstagebuch_95\",\"1914_Kriegstagebuch_95\",\"1914_Kriegstagebuch_95\",\"1914_Kriegstagebuch_95\",\"1914_Kriegstagebuch_95\",\"1914_Kriegstagebuch_97\",\"1914_Kriegstagebuch_97\",\"1914_Kriegstagebuch_97\",\"1914_Kriegstagebuch_97\",\"1914_Kriegstagebuch_97\",\"1914_Kriegstagebuch_97\",\"1914_Kriegstagebuch_97\",\"1914_Kriegstagebuch_97\",\"1914_Kriegstagebuch_97\",\"1914_Kriegstagebuch_97\",\"1915_Kriegstagebuch_33\",\"1915_Kriegstagebuch_33\",\"1915_Kriegstagebuch_33\",\"1915_Kriegstagebuch_33\",\"1915_Kriegstagebuch_33\",\"1915_Kriegstagebuch_33\",\"1915_Kriegstagebuch_33\",\"1915_Kriegstagebuch_33\",\"1915_Kriegstagebuch_33\",\"1915_Kriegstagebuch_33\",\"1915_Kriegstagebuch_39\",\"1915_Kriegstagebuch_39\",\"1915_Kriegstagebuch_39\",\"1915_Kriegstagebuch_39\",\"1915_Kriegstagebuch_39\",\"1915_Kriegstagebuch_39\",\"1915_Kriegstagebuch_39\",\"1915_Kriegstagebuch_39\",\"1915_Kriegstagebuch_39\",\"1915_Kriegstagebuch_39\",\"1915_Kriegstagebuch_73\",\"1915_Kriegstagebuch_73\",\"1915_Kriegstagebuch_73\",\"1915_Kriegstagebuch_73\",\"1915_Kriegstagebuch_73\",\"1915_Kriegstagebuch_73\",\"1915_Kriegstagebuch_73\",\"1915_Kriegstagebuch_73\",\"1915_Kriegstagebuch_73\",\"1915_Kriegstagebuch_73\",\"1915_Kriegstagebuch_94\",\"1915_Kriegstagebuch_94\",\"1915_Kriegstagebuch_94\",\"1915_Kriegstagebuch_94\",\"1915_Kriegstagebuch_94\",\"1915_Kriegstagebuch_94\",\"1915_Kriegstagebuch_94\",\"1915_Kriegstagebuch_94\",\"1915_Kriegstagebuch_94\",\"1915_Kriegstagebuch_94\",\"1915_Kriegstagebuch_99\",\"1915_Kriegstagebuch_99\",\"1915_Kriegstagebuch_99\",\"1915_Kriegstagebuch_99\",\"1915_Kriegstagebuch_99\",\"1915_Kriegstagebuch_99\",\"1915_Kriegstagebuch_99\",\"1915_Kriegstagebuch_99\",\"1915_Kriegstagebuch_99\",\"1915_Kriegstagebuch_99\",\"1916_Kriegstagebuch_41\",\"1916_Kriegstagebuch_41\",\"1916_Kriegstagebuch_41\",\"1916_Kriegstagebuch_41\",\"1916_Kriegstagebuch_41\",\"1916_Kriegstagebuch_41\",\"1916_Kriegstagebuch_41\",\"1916_Kriegstagebuch_41\",\"1916_Kriegstagebuch_41\",\"1916_Kriegstagebuch_41\",\"1916_Kriegstagebuch_48\",\"1916_Kriegstagebuch_48\",\"1916_Kriegstagebuch_48\",\"1916_Kriegstagebuch_48\",\"1916_Kriegstagebuch_48\",\"1916_Kriegstagebuch_48\",\"1916_Kriegstagebuch_48\",\"1916_Kriegstagebuch_48\",\"1916_Kriegstagebuch_48\",\"1916_Kriegstagebuch_48\",\"1916_Kriegstagebuch_49\",\"1916_Kriegstagebuch_49\",\"1916_Kriegstagebuch_49\",\"1916_Kriegstagebuch_49\",\"1916_Kriegstagebuch_49\",\"1916_Kriegstagebuch_49\",\"1916_Kriegstagebuch_49\",\"1916_Kriegstagebuch_49\",\"1916_Kriegstagebuch_49\",\"1916_Kriegstagebuch_49\",\"1916_Kriegstagebuch_69\",\"1916_Kriegstagebuch_69\",\"1916_Kriegstagebuch_69\",\"1916_Kriegstagebuch_69\",\"1916_Kriegstagebuch_69\",\"1916_Kriegstagebuch_69\",\"1916_Kriegstagebuch_69\",\"1916_Kriegstagebuch_69\",\"1916_Kriegstagebuch_69\",\"1916_Kriegstagebuch_69\",\"1916_Kriegstagebuch_81\",\"1916_Kriegstagebuch_81\",\"1916_Kriegstagebuch_81\",\"1916_Kriegstagebuch_81\",\"1916_Kriegstagebuch_81\",\"1916_Kriegstagebuch_81\",\"1916_Kriegstagebuch_81\",\"1916_Kriegstagebuch_81\",\"1916_Kriegstagebuch_81\",\"1916_Kriegstagebuch_81\"],\"Score\":{\"__ndarray__\":\"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\",\"dtype\":\"float64\",\"shape\":[300]},\"Topic\":[\"juli s\\u00fcdlich m\\u00e4rz\",\"kunst k\\u00f6nig leben\",\"deutschland preu\\u00dfen deutscher\",\"lassen oesterreich weise\",\"september frankreich antwerpen\",\"hiesigen scheint seite\",\"gesch\\u00fctze januar abgewiesen\",\"polizei geist wiener\",\"leipzig stadt ward\",\"presse artikel meinung\",\"juli s\\u00fcdlich m\\u00e4rz\",\"kunst k\\u00f6nig leben\",\"deutschland preu\\u00dfen deutscher\",\"lassen oesterreich weise\",\"september frankreich antwerpen\",\"hiesigen scheint seite\",\"gesch\\u00fctze januar abgewiesen\",\"polizei geist wiener\",\"leipzig stadt ward\",\"presse artikel meinung\",\"juli s\\u00fcdlich m\\u00e4rz\",\"kunst k\\u00f6nig leben\",\"deutschland preu\\u00dfen deutscher\",\"lassen oesterreich weise\",\"september frankreich antwerpen\",\"hiesigen scheint seite\",\"gesch\\u00fctze januar abgewiesen\",\"polizei geist wiener\",\"leipzig stadt ward\",\"presse artikel meinung\",\"juli s\\u00fcdlich m\\u00e4rz\",\"kunst k\\u00f6nig leben\",\"deutschland preu\\u00dfen deutscher\",\"lassen oesterreich weise\",\"september frankreich antwerpen\",\"hiesigen scheint seite\",\"gesch\\u00fctze januar abgewiesen\",\"polizei geist wiener\",\"leipzig stadt ward\",\"presse artikel meinung\",\"juli s\\u00fcdlich m\\u00e4rz\",\"kunst k\\u00f6nig leben\",\"deutschland preu\\u00dfen deutscher\",\"lassen oesterreich weise\",\"september frankreich antwerpen\",\"hiesigen scheint seite\",\"gesch\\u00fctze januar abgewiesen\",\"polizei geist wiener\",\"leipzig stadt ward\",\"presse artikel meinung\",\"juli s\\u00fcdlich m\\u00e4rz\",\"kunst k\\u00f6nig leben\",\"deutschland preu\\u00dfen deutscher\",\"lassen oesterreich weise\",\"september frankreich antwerpen\",\"hiesigen scheint seite\",\"gesch\\u00fctze januar abgewiesen\",\"polizei geist wiener\",\"leipzig stadt ward\",\"presse artikel meinung\",\"juli s\\u00fcdlich m\\u00e4rz\",\"kunst k\\u00f6nig leben\",\"deutschland preu\\u00dfen deutscher\",\"lassen oesterreich weise\",\"september frankreich antwerpen\",\"hiesigen scheint seite\",\"gesch\\u00fctze januar abgewiesen\",\"polizei geist wiener\",\"leipzig stadt ward\",\"presse artikel meinung\",\"juli s\\u00fcdlich m\\u00e4rz\",\"kunst k\\u00f6nig leben\",\"deutschland preu\\u00dfen deutscher\",\"lassen oesterreich weise\",\"september frankreich antwerpen\",\"hiesigen scheint seite\",\"gesch\\u00fctze januar abgewiesen\",\"polizei geist wiener\",\"leipzig stadt ward\",\"presse artikel meinung\",\"juli s\\u00fcdlich m\\u00e4rz\",\"kunst k\\u00f6nig leben\",\"deutschland preu\\u00dfen deutscher\",\"lassen oesterreich weise\",\"september frankreich antwerpen\",\"hiesigen scheint seite\",\"gesch\\u00fctze januar abgewiesen\",\"polizei geist wiener\",\"leipzig stadt ward\",\"presse artikel meinung\",\"juli s\\u00fcdlich m\\u00e4rz\",\"kunst k\\u00f6nig leben\",\"deutschland preu\\u00dfen deutscher\",\"lassen oesterreich weise\",\"september frankreich antwerpen\",\"hiesigen scheint seite\",\"gesch\\u00fctze januar abgewiesen\",\"polizei geist wiener\",\"leipzig stadt ward\",\"presse artikel meinung\",\"juli s\\u00fcdlich m\\u00e4rz\",\"kunst k\\u00f6nig leben\",\"deutschland preu\\u00dfen deutscher\",\"lassen oesterreich weise\",\"september frankreich antwerpen\",\"hiesigen scheint seite\",\"gesch\\u00fctze januar abgewiesen\",\"polizei geist wiener\",\"leipzig stadt ward\",\"presse artikel meinung\",\"juli s\\u00fcdlich m\\u00e4rz\",\"kunst k\\u00f6nig leben\",\"deutschland preu\\u00dfen deutscher\",\"lassen oesterreich weise\",\"september frankreich antwerpen\",\"hiesigen scheint seite\",\"gesch\\u00fctze januar abgewiesen\",\"polizei geist wiener\",\"leipzig stadt ward\",\"presse artikel meinung\",\"juli s\\u00fcdlich m\\u00e4rz\",\"kunst k\\u00f6nig leben\",\"deutschland preu\\u00dfen deutscher\",\"lassen oesterreich weise\",\"september frankreich antwerpen\",\"hiesigen scheint seite\",\"gesch\\u00fctze januar abgewiesen\",\"polizei geist wiener\",\"leipzig stadt ward\",\"presse artikel meinung\",\"juli s\\u00fcdlich m\\u00e4rz\",\"kunst k\\u00f6nig leben\",\"deutschland preu\\u00dfen deutscher\",\"lassen oesterreich weise\",\"september frankreich antwerpen\",\"hiesigen scheint seite\",\"gesch\\u00fctze januar abgewiesen\",\"polizei geist wiener\",\"leipzig stadt ward\",\"presse artikel meinung\",\"juli s\\u00fcdlich m\\u00e4rz\",\"kunst k\\u00f6nig leben\",\"deutschland preu\\u00dfen deutscher\",\"lassen oesterreich weise\",\"september frankreich antwerpen\",\"hiesigen scheint seite\",\"gesch\\u00fctze januar abgewiesen\",\"polizei geist wiener\",\"leipzig stadt ward\",\"presse artikel meinung\",\"juli s\\u00fcdlich m\\u00e4rz\",\"kunst k\\u00f6nig leben\",\"deutschland preu\\u00dfen deutscher\",\"lassen oesterreich weise\",\"september frankreich antwerpen\",\"hiesigen scheint seite\",\"gesch\\u00fctze januar abgewiesen\",\"polizei geist wiener\",\"leipzig stadt ward\",\"presse artikel meinung\",\"juli s\\u00fcdlich m\\u00e4rz\",\"kunst k\\u00f6nig leben\",\"deutschland preu\\u00dfen deutscher\",\"lassen oesterreich weise\",\"september frankreich antwerpen\",\"hiesigen scheint seite\",\"gesch\\u00fctze januar abgewiesen\",\"polizei geist wiener\",\"leipzig stadt ward\",\"presse artikel meinung\",\"juli s\\u00fcdlich m\\u00e4rz\",\"kunst k\\u00f6nig leben\",\"deutschland preu\\u00dfen deutscher\",\"lassen oesterreich weise\",\"september frankreich antwerpen\",\"hiesigen scheint seite\",\"gesch\\u00fctze januar abgewiesen\",\"polizei geist wiener\",\"leipzig stadt ward\",\"presse artikel meinung\",\"juli s\\u00fcdlich m\\u00e4rz\",\"kunst k\\u00f6nig leben\",\"deutschland preu\\u00dfen deutscher\",\"lassen oesterreich weise\",\"september frankreich antwerpen\",\"hiesigen scheint seite\",\"gesch\\u00fctze januar abgewiesen\",\"polizei geist wiener\",\"leipzig stadt ward\",\"presse artikel meinung\",\"juli s\\u00fcdlich m\\u00e4rz\",\"kunst k\\u00f6nig leben\",\"deutschland preu\\u00dfen deutscher\",\"lassen oesterreich weise\",\"september frankreich antwerpen\",\"hiesigen scheint seite\",\"gesch\\u00fctze januar abgewiesen\",\"polizei geist wiener\",\"leipzig stadt ward\",\"presse artikel meinung\",\"juli s\\u00fcdlich m\\u00e4rz\",\"kunst k\\u00f6nig leben\",\"deutschland preu\\u00dfen deutscher\",\"lassen oesterreich weise\",\"september frankreich antwerpen\",\"hiesigen scheint seite\",\"gesch\\u00fctze januar abgewiesen\",\"polizei geist wiener\",\"leipzig stadt ward\",\"presse artikel meinung\",\"juli s\\u00fcdlich m\\u00e4rz\",\"kunst k\\u00f6nig leben\",\"deutschland preu\\u00dfen deutscher\",\"lassen oesterreich weise\",\"september frankreich antwerpen\",\"hiesigen scheint seite\",\"gesch\\u00fctze januar abgewiesen\",\"polizei geist wiener\",\"leipzig stadt ward\",\"presse artikel meinung\",\"juli s\\u00fcdlich m\\u00e4rz\",\"kunst k\\u00f6nig leben\",\"deutschland preu\\u00dfen deutscher\",\"lassen oesterreich weise\",\"september frankreich antwerpen\",\"hiesigen scheint seite\",\"gesch\\u00fctze januar abgewiesen\",\"polizei geist wiener\",\"leipzig stadt ward\",\"presse artikel meinung\",\"juli s\\u00fcdlich m\\u00e4rz\",\"kunst k\\u00f6nig leben\",\"deutschland preu\\u00dfen deutscher\",\"lassen oesterreich weise\",\"september frankreich antwerpen\",\"hiesigen scheint seite\",\"gesch\\u00fctze januar abgewiesen\",\"polizei geist wiener\",\"leipzig stadt ward\",\"presse artikel meinung\",\"juli s\\u00fcdlich m\\u00e4rz\",\"kunst k\\u00f6nig leben\",\"deutschland preu\\u00dfen deutscher\",\"lassen oesterreich weise\",\"september frankreich antwerpen\",\"hiesigen scheint seite\",\"gesch\\u00fctze januar abgewiesen\",\"polizei geist wiener\",\"leipzig stadt ward\",\"presse artikel meinung\",\"juli s\\u00fcdlich m\\u00e4rz\",\"kunst k\\u00f6nig leben\",\"deutschland preu\\u00dfen deutscher\",\"lassen oesterreich weise\",\"september frankreich antwerpen\",\"hiesigen scheint seite\",\"gesch\\u00fctze januar abgewiesen\",\"polizei geist wiener\",\"leipzig stadt ward\",\"presse artikel meinung\",\"juli s\\u00fcdlich m\\u00e4rz\",\"kunst k\\u00f6nig leben\",\"deutschland preu\\u00dfen deutscher\",\"lassen oesterreich weise\",\"september frankreich antwerpen\",\"hiesigen scheint seite\",\"gesch\\u00fctze januar abgewiesen\",\"polizei geist wiener\",\"leipzig stadt ward\",\"presse artikel meinung\",\"juli s\\u00fcdlich m\\u00e4rz\",\"kunst k\\u00f6nig leben\",\"deutschland preu\\u00dfen deutscher\",\"lassen oesterreich weise\",\"september frankreich antwerpen\",\"hiesigen scheint seite\",\"gesch\\u00fctze januar abgewiesen\",\"polizei geist wiener\",\"leipzig stadt ward\",\"presse artikel meinung\",\"juli s\\u00fcdlich m\\u00e4rz\",\"kunst k\\u00f6nig leben\",\"deutschland preu\\u00dfen deutscher\",\"lassen oesterreich weise\",\"september frankreich antwerpen\",\"hiesigen scheint seite\",\"gesch\\u00fctze januar abgewiesen\",\"polizei geist wiener\",\"leipzig stadt ward\",\"presse artikel meinung\",\"juli s\\u00fcdlich m\\u00e4rz\",\"kunst k\\u00f6nig leben\",\"deutschland preu\\u00dfen deutscher\",\"lassen oesterreich weise\",\"september frankreich antwerpen\",\"hiesigen scheint seite\",\"gesch\\u00fctze januar abgewiesen\",\"polizei geist wiener\",\"leipzig stadt ward\",\"presse artikel meinung\"],\"index\":[0,1,2,3,4,5,6,7,8,9,10,11,12,13,14,15,16,17,18,19,20,21,22,23,24,25,26,27,28,29,30,31,32,33,34,35,36,37,38,39,40,41,42,43,44,45,46,47,48,49,50,51,52,53,54,55,56,57,58,59,60,61,62,63,64,65,66,67,68,69,70,71,72,73,74,75,76,77,78,79,80,81,82,83,84,85,86,87,88,89,90,91,92,93,94,95,96,97,98,99,100,101,102,103,104,105,106,107,108,109,110,111,112,113,114,115,116,117,118,119,120,121,122,123,124,125,126,127,128,129,130,131,132,133,134,135,136,137,138,139,140,141,142,143,144,145,146,147,148,149,150,151,152,153,154,155,156,157,158,159,160,161,162,163,164,165,166,167,168,169,170,171,172,173,174,175,176,177,178,179,180,181,182,183,184,185,186,187,188,189,190,191,192,193,194,195,196,197,198,199,200,201,202,203,204,205,206,207,208,209,210,211,212,213,214,215,216,217,218,219,220,221,222,223,224,225,226,227,228,229,230,231,232,233,234,235,236,237,238,239,240,241,242,243,244,245,246,247,248,249,250,251,252,253,254,255,256,257,258,259,260,261,262,263,264,265,266,267,268,269,270,271,272,273,274,275,276,277,278,279,280,281,282,283,284,285,286,287,288,289,290,291,292,293,294,295,296,297,298,299]}},\"id\":\"265ef2aa-119a-40eb-87aa-e1d2bd5c92bd\",\"type\":\"ColumnDataSource\"},{\"attributes\":{\"plot\":null,\"text\":\"Grenzboten\"},\"id\":\"4ee1addf-8a75-446c-97ce-ffd5550f769d\",\"type\":\"Title\"},{\"attributes\":{\"axis_line_color\":{\"value\":null},\"formatter\":{\"id\":\"ddb44d4e-888a-45cc-953f-7ba294ba99a5\",\"type\":\"CategoricalTickFormatter\"},\"major_label_standoff\":0,\"major_label_text_font_size\":{\"value\":\"9pt\"},\"major_tick_line_color\":{\"value\":null},\"plot\":{\"id\":\"aea20e0a-1a0f-4a7b-94c2-d6561c0c95d2\",\"subtype\":\"Figure\",\"type\":\"Plot\"},\"ticker\":{\"id\":\"0eca4a77-5cb0-4294-92e9-04cd8e32745e\",\"type\":\"CategoricalTicker\"}},\"id\":\"92f4e4bb-60fd-4f47-8043-65857ce5151d\",\"type\":\"CategoricalAxis\"},{\"attributes\":{\"callback\":null,\"factors\":[\"presse artikel meinung\",\"leipzig stadt ward\",\"polizei geist wiener\",\"gesch\\u00fctze januar abgewiesen\",\"hiesigen scheint seite\",\"september frankreich antwerpen\",\"lassen oesterreich weise\",\"deutschland preu\\u00dfen deutscher\",\"kunst k\\u00f6nig leben\",\"juli s\\u00fcdlich m\\u00e4rz\"]},\"id\":\"dc414470-806a-4677-89b6-ba76aade60dc\",\"type\":\"FactorRange\"},{\"attributes\":{\"fill_alpha\":{\"value\":0.1},\"fill_color\":{\"value\":\"#1f77b4\"},\"height\":{\"units\":\"data\",\"value\":1},\"line_alpha\":{\"value\":0.1},\"line_color\":{\"value\":\"#1f77b4\"},\"width\":{\"units\":\"data\",\"value\":1},\"x\":{\"field\":\"Document\"},\"y\":{\"field\":\"Topic\"}},\"id\":\"ad259441-1e73-4948-9b0f-1575192345c8\",\"type\":\"Rect\"},{\"attributes\":{\"high\":0.8389435989256938,\"low\":2.4527839097375527e-05,\"palette\":[\"#c6dbef\",\"#9ecae1\",\"#6baed6\",\"#4292c6\",\"#2171b5\",\"#08519c\",\"#08306b\"]},\"id\":\"8b3782a1-c564-4c7a-af73-1b1fc7790b4e\",\"type\":\"LinearColorMapper\"},{\"attributes\":{\"desired_num_ticks\":7},\"id\":\"d6e7fdc5-dfdf-42af-a69a-6451bc6c7537\",\"type\":\"BasicTicker\"},{\"attributes\":{\"color_mapper\":{\"id\":\"8b3782a1-c564-4c7a-af73-1b1fc7790b4e\",\"type\":\"LinearColorMapper\"},\"formatter\":{\"id\":\"5432ada8-58a5-4cbb-b1c2-eb3574e5523b\",\"type\":\"BasicTickFormatter\"},\"label_standoff\":6,\"location\":[0,0],\"major_label_text_font_size\":{\"value\":\"10pt\"},\"plot\":{\"id\":\"aea20e0a-1a0f-4a7b-94c2-d6561c0c95d2\",\"subtype\":\"Figure\",\"type\":\"Plot\"},\"ticker\":{\"id\":\"d6e7fdc5-dfdf-42af-a69a-6451bc6c7537\",\"type\":\"BasicTicker\"}},\"id\":\"aa967951-6ed1-4c5f-bfc1-2c4258236f85\",\"type\":\"ColorBar\"}],\"root_ids\":[\"aea20e0a-1a0f-4a7b-94c2-d6561c0c95d2\"]},\"title\":\"Bokeh Application\",\"version\":\"0.12.9\"}};\n",
       "    var render_items = [{\"docid\":\"54ce4ade-d2b8-4a8e-a243-91ec1d8bbc8a\",\"elementid\":\"2d5e1d31-3dc5-46e3-9f1a-b0f9ba8af89e\",\"modelid\":\"aea20e0a-1a0f-4a7b-94c2-d6561c0c95d2\",\"notebook_comms_target\":\"92525915-ac93-4712-a0d4-93a515bb62b9\"}];\n",
       "\n",
       "    root.Bokeh.embed.embed_items(docs_json, render_items);\n",
       "  }\n",
       "\n",
       "  if (root.Bokeh !== undefined) {\n",
       "    embed_document(root);\n",
       "  } else {\n",
       "    var attempts = 0;\n",
       "    var timer = setInterval(function(root) {\n",
       "      if (root.Bokeh !== undefined) {\n",
       "        embed_document(root);\n",
       "        clearInterval(timer);\n",
       "      }\n",
       "      attempts++;\n",
       "      if (attempts > 100) {\n",
       "        console.log(\"Bokeh: ERROR: Unable to embed document because BokehJS library is missing\")\n",
       "        clearInterval(timer);\n",
       "      }\n",
       "    }, 10, root)\n",
       "  }\n",
       "})(window);"
      ],
      "application/vnd.bokehjs_exec.v0+json": ""
     },
     "metadata": {
      "application/vnd.bokehjs_exec.v0+json": {
       "id": "aea20e0a-1a0f-4a7b-94c2-d6561c0c95d2"
      }
     },
     "output_type": "display_data"
    },
    {
     "data": {
      "text/html": [
       "<p><code>&lt;Bokeh Notebook handle for <strong>In[24]</strong>&gt;</code></p>"
      ],
      "text/plain": [
       "<bokeh.io._CommsHandle at 0x1fe73714748>"
      ]
     },
     "execution_count": 24,
     "metadata": {},
     "output_type": "execute_result"
    }
   ],
   "source": [
    "plot = visualization.doc_topic_heatmap_interactive(document_topics, title='Grenzboten')\n",
    "show(plot, notebook_handle=True)"
   ]
  },
  {
   "cell_type": "markdown",
   "metadata": {},
   "source": [
    "Or a static heatmap:"
   ]
  },
  {
   "cell_type": "code",
   "execution_count": 25,
   "metadata": {
    "collapsed": false
   },
   "outputs": [
    {
     "data": {
      "text/plain": [
       "<module 'matplotlib.pyplot' from 'C:\\\\Program Files\\\\WinPython-64bit-3.5.2.2\\\\python-3.5.2.amd64\\\\lib\\\\site-packages\\\\matplotlib\\\\pyplot.py'>"
      ]
     },
     "execution_count": 25,
     "metadata": {},
     "output_type": "execute_result"
    },
    {
     "data": {
      "image/png": "[encoded data removed]",
      "text/plain": [
       "<matplotlib.figure.Figure at 0x1fe72531828>"
      ]
     },
     "metadata": {},
     "output_type": "display_data"
    }
   ],
   "source": [
    "visualization.doc_topic_heatmap(document_topics)"
   ]
  },
  {
   "cell_type": "markdown",
   "metadata": {},
   "source": [
    "#### Distribution of topics in a single documents\n",
    "\n",
    "To take closer look on the topics in a single text, we can use the follwing function that shows all the topics in a text and their respective proportions. To select the document, we have to give its index to the function."
   ]
  },
  {
   "cell_type": "code",
   "execution_count": 26,
   "metadata": {
    "collapsed": false,
    "scrolled": false
   },
   "outputs": [
    {
     "data": {
      "text/plain": [
       "<module 'matplotlib.pyplot' from 'C:\\\\Program Files\\\\WinPython-64bit-3.5.2.2\\\\python-3.5.2.amd64\\\\lib\\\\site-packages\\\\matplotlib\\\\pyplot.py'>"
      ]
     },
     "execution_count": 26,
     "metadata": {},
     "output_type": "execute_result"
    },
    {
     "data": {
      "image/png": "[encoded data removed]",
      "text/plain": [
       "<matplotlib.figure.Figure at 0x1fe73b1be80>"
      ]
     },
     "metadata": {},
     "output_type": "display_data"
    }
   ],
   "source": [
    "visualization.plot_doc_topics(document_topics, 0)"
   ]
  }
 ],
 "metadata": {
  "kernelspec": {
   "display_name": "Python 3",
   "language": "python",
   "name": "python3"
  },
  "language_info": {
   "codemirror_mode": {
    "name": "ipython",
    "version": 3
   },
   "file_extension": ".py",
   "mimetype": "text/x-python",
   "name": "python",
   "nbconvert_exporter": "python",
   "pygments_lexer": "ipython3",
   "version": "3.5.2"
  }
 },
 "nbformat": 4,
 "nbformat_minor": 1
}
