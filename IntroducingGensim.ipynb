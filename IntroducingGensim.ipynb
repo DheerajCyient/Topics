{
 "cells": [
  {
   "cell_type": "markdown",
   "metadata": {},
   "source": [
    "# Topics – Easy Topic Modeling in Python\n",
    "\n",
    "The text mining technique **Topic Modeling** has become a popular statistical method for clustering documents. This [Jupyter notebook](http://jupyter.org/) introduces a step-by-step workflow, basically containing data preprocessing, the actual topic modeling using **latent Dirichlet allocation** (LDA), which learns the relationships between words, topics, and documents, as well as some interactive visualizations to explore the model.\n",
    "\n",
    "LDA, introduced in the context of text analysis in [2003](http://www.jmlr.org/papers/volume3/blei03a/blei03a.pdf), is an instance of a more general class of models called **mixed-membership models**. Involving a number of distributions and parameters, the topic model is typically performed using [Gibbs sampling](https://en.wikipedia.org/wiki/Gibbs_sampling) with conjugate priors and is purely based on word frequencies.\n",
    "\n",
    "There have been written numerous introductions to topic modeling for humanists (e.g. [this one](http://scottbot.net/topic-modeling-for-humanists-a-guided-tour/)), which provide another level of detail regarding its technical and epistemic properties.\n",
    "\n",
    "For this workflow, you will need a corpus (a set of texts) as plain text (`.txt`) or [TEI XML](http://www.tei-c.org/index.xml) (`.xml`). Using the `dariah_topics` package, you also have the ability to process the output of [DARIAH-DKPro-Wrapper](https://github.com/DARIAH-DE/DARIAH-DKPro-Wrapper), a command-line tool for *natural language processing*.\n",
    "\n",
    "Topic modeling works best with very large corpora. The [TextGrid Repository](https://textgridrep.org/) is a great place to start searching for text data. Anyway, to demonstrate the technique, we provide one small text collection in the folder `grenzboten_sample` containing 15 diary excerpts, as well as 15 war diary excerpts, which appeared in *Die Grenzboten*, a German newspaper of the late 19th and early 20th century.\n",
    "\n",
    "**Of course, you can work with your own corpus in this notebook.**\n",
    "\n",
    "We're relying on the LDA implementation by [Radim Řehůřek](https://radimrehurek.com/), called [Gensim](https://radimrehurek.com/project/gensim/), which is attractive because of its multi-core support. Aside from that, we provide two more Jupyter notebooks:\n",
    "\n",
    "* [IntroducingMallet](IntroducingMallet.ipynb), using LDA by [MALLET](http://mallet.cs.umass.edu/topics.php), which is known to be very robust. \n",
    "* [IntroducingLda](IntroducingLda.ipynb), using LDA by [lda](http://pythonhosted.org/lda/index.html), which is lightweight.\n",
    "\n",
    "For more information in general, have a look at the [documentation](http://dev.digital-humanities.de/ci/job/DARIAH-Topics/doclinks/1/)."
   ]
  },
  {
   "cell_type": "markdown",
   "metadata": {},
   "source": [
    "## First step: Installing dependencies\n",
    "\n",
    "To work within this Jupyter notebook, you will have to import the `dariah_topics` library. As you do, `dariah_topics` also imports a couple of external libraries, which have to be installed first. `pip` is the preferred installer program in Python. Starting with Python 3.4, it is included by default with the Python binary installers. If you are interested in `pip`, have a look at [this website](https://docs.python.org/3/installing/index.html).\n",
    "\n",
    "To install the `dariah_topics` library with all dependencies, open your commandline, go with `cd` to the folder `Topics` and run:\n",
    "\n",
    "```\n",
    "pip install -r requirements.txt\n",
    "```\n",
    "\n",
    "Alternatively, you can do:\n",
    "\n",
    "```\n",
    "python setup.py install\n",
    "```\n",
    "\n",
    "If you get any errors or are not able to install *all* dependencies properly, try [Stack Overflow](https://stackoverflow.com/questions/tagged/pip) for troubleshooting or create a new issue on our [GitHub page](https://github.com/DARIAH-DE/Topics).\n",
    "\n",
    "**Important**: If you are on macOS or Linux, you will have to use `pip3` and `python3`."
   ]
  },
  {
   "cell_type": "markdown",
   "metadata": {},
   "source": [
    "### Some final words\n",
    "As you probably already know, code has to be written in the grey cells. You execute a cell by clicking the **Run**-button (or **Ctrl + Enter**). If you want to run all cells of the notebook at once, click **Cell > Run All** or **Kernel > Restart & Run All** respectively, if you want to restart the Python kernel first. On the left side of an (unexecuted) cell stands `In [ ]:`. The empty bracket means, that the cell hasn't been executed yet. By clicking **Run**, a star appears in the brackets (`In [*]:`), which means the process is running. In most cases, you won't see that star, because your computer is faster than your eyes. You can execute only one cell at once, all following executions will be in the waiting line. If the process of a cell is done, a number appears in the brackets (`In [1]:`)."
   ]
  },
  {
   "cell_type": "markdown",
   "metadata": {},
   "source": [
    "## Starting with topic modeling!\n",
    "\n",
    "Execute the following cell to import modules from the `dariah_topics` library."
   ]
  },
  {
   "cell_type": "code",
   "execution_count": 1,
   "metadata": {
    "collapsed": false
   },
   "outputs": [
    {
     "name": "stderr",
     "output_type": "stream",
     "text": [
      "C:\\Program Files\\WinPython-64bit-3.5.2.2\\python-3.5.2.amd64\\lib\\site-packages\\gensim\\utils.py:865: UserWarning: detected Windows; aliasing chunkize to chunkize_serial\n",
      "  warnings.warn(\"detected Windows; aliasing chunkize to chunkize_serial\")\n",
      "Using Theano backend.\n",
      "WARNING (theano.configdefaults): g++ not detected ! Theano will be unable to execute optimized C-implementations (for both CPU and GPU) and will default to Python implementations. Performance will be severely degraded. To remove this warning, set Theano flags cxx to an empty string.\n",
      "WARNING:theano.configdefaults:g++ not detected ! Theano will be unable to execute optimized C-implementations (for both CPU and GPU) and will default to Python implementations. Performance will be severely degraded. To remove this warning, set Theano flags cxx to an empty string.\n"
     ]
    }
   ],
   "source": [
    "from dariah_topics import preprocessing\n",
    "from cophi_toolbox import preprocessing as pre\n",
    "from dariah_topics import meta\n",
    "from dariah_topics import postprocessing\n",
    "from dariah_topics import visualization"
   ]
  },
  {
   "cell_type": "markdown",
   "metadata": {},
   "source": [
    "Furthermore, we will need some additional functions from external libraries."
   ]
  },
  {
   "cell_type": "code",
   "execution_count": 2,
   "metadata": {
    "collapsed": true
   },
   "outputs": [],
   "source": [
    "from bokeh.io import show\n",
    "from gensim.models import LdaMulticore"
   ]
  },
  {
   "cell_type": "markdown",
   "metadata": {},
   "source": [
    "Let's not pay heed to any warnings right now and execute the following cell."
   ]
  },
  {
   "cell_type": "code",
   "execution_count": 3,
   "metadata": {
    "collapsed": true
   },
   "outputs": [],
   "source": [
    "import warnings\n",
    "warnings.filterwarnings(\"ignore\") "
   ]
  },
  {
   "cell_type": "markdown",
   "metadata": {},
   "source": [
    "The following line will just tell the notebook to show graphics in the output frames."
   ]
  },
  {
   "cell_type": "code",
   "execution_count": 4,
   "metadata": {
    "collapsed": true
   },
   "outputs": [],
   "source": [
    "%matplotlib inline"
   ]
  },
  {
   "cell_type": "markdown",
   "metadata": {},
   "source": [
    "## 1. Preprocessing\n",
    "### 1.1. Reading a corpus of documents"
   ]
  },
  {
   "cell_type": "markdown",
   "metadata": {},
   "source": [
    "#### Defining the path to the corpus folder\n",
    "\n",
    "In the present example code, we are using the 30 diary excerpts from the folder `grenzboten`. To use your own corpus, change the path accordingly."
   ]
  },
  {
   "cell_type": "code",
   "execution_count": 5,
   "metadata": {
    "collapsed": true
   },
   "outputs": [],
   "source": [
    "path_to_corpus = 'grenzboten_sample/*.txt'"
   ]
  },
  {
   "cell_type": "markdown",
   "metadata": {},
   "source": [
    "By adding `/*.txt` to the actual path, we make sure to select only files with the suffix `.txt`."
   ]
  },
  {
   "cell_type": "markdown",
   "metadata": {},
   "source": [
    "#### Accessing file paths and metadata\n",
    "We begin by creating a list of all the documents in the folder specified above. That list will tell the function `preprocessing.read_from_pathlist` (see below) which text documents to read. Furthermore, based on filenames we can create some metadata, e.g. author and title."
   ]
  },
  {
   "cell_type": "code",
   "execution_count": 6,
   "metadata": {
    "collapsed": false
   },
   "outputs": [
    {
     "data": {
      "text/html": [
       "<div>\n",
       "<style>\n",
       "    .dataframe thead tr:only-child th {\n",
       "        text-align: right;\n",
       "    }\n",
       "\n",
       "    .dataframe thead th {\n",
       "        text-align: left;\n",
       "    }\n",
       "\n",
       "    .dataframe tbody tr th {\n",
       "        vertical-align: top;\n",
       "    }\n",
       "</style>\n",
       "<table border=\"1\" class=\"dataframe\">\n",
       "  <thead>\n",
       "    <tr style=\"text-align: right;\">\n",
       "      <th></th>\n",
       "      <th>author</th>\n",
       "      <th>basename</th>\n",
       "      <th>filename</th>\n",
       "      <th>title</th>\n",
       "    </tr>\n",
       "  </thead>\n",
       "  <tbody>\n",
       "    <tr>\n",
       "      <th>0</th>\n",
       "      <td>Beck</td>\n",
       "      <td>Beck_1844_Tagebuch_56</td>\n",
       "      <td>grenzboten_sample\\Beck_1844_Tagebuch_56.txt</td>\n",
       "      <td>1844_Tagebuch_56</td>\n",
       "    </tr>\n",
       "    <tr>\n",
       "      <th>1</th>\n",
       "      <td>Unbekannt</td>\n",
       "      <td>Unbekannt_1844_Tagebuch_70</td>\n",
       "      <td>grenzboten_sample\\Unbekannt_1844_Tagebuch_70.txt</td>\n",
       "      <td>1844_Tagebuch_70</td>\n",
       "    </tr>\n",
       "    <tr>\n",
       "      <th>2</th>\n",
       "      <td>Nimmer</td>\n",
       "      <td>Nimmer_1844_Tagebuch_77</td>\n",
       "      <td>grenzboten_sample\\Nimmer_1844_Tagebuch_77.txt</td>\n",
       "      <td>1844_Tagebuch_77</td>\n",
       "    </tr>\n",
       "    <tr>\n",
       "      <th>3</th>\n",
       "      <td>Unbekannt</td>\n",
       "      <td>Unbekannt_1844_Tagebuch_82</td>\n",
       "      <td>grenzboten_sample\\Unbekannt_1844_Tagebuch_82.txt</td>\n",
       "      <td>1844_Tagebuch_82</td>\n",
       "    </tr>\n",
       "    <tr>\n",
       "      <th>4</th>\n",
       "      <td>Jörgel</td>\n",
       "      <td>Jörgel_1844_Tagebuch_88</td>\n",
       "      <td>grenzboten_sample\\Jörgel_1844_Tagebuch_88.txt</td>\n",
       "      <td>1844_Tagebuch_88</td>\n",
       "    </tr>\n",
       "  </tbody>\n",
       "</table>\n",
       "</div>"
      ],
      "text/plain": [
       "      author                    basename  \\\n",
       "0       Beck       Beck_1844_Tagebuch_56   \n",
       "1  Unbekannt  Unbekannt_1844_Tagebuch_70   \n",
       "2     Nimmer     Nimmer_1844_Tagebuch_77   \n",
       "3  Unbekannt  Unbekannt_1844_Tagebuch_82   \n",
       "4     Jörgel     Jörgel_1844_Tagebuch_88   \n",
       "\n",
       "                                           filename             title  \n",
       "0       grenzboten_sample\\Beck_1844_Tagebuch_56.txt  1844_Tagebuch_56  \n",
       "1  grenzboten_sample\\Unbekannt_1844_Tagebuch_70.txt  1844_Tagebuch_70  \n",
       "2     grenzboten_sample\\Nimmer_1844_Tagebuch_77.txt  1844_Tagebuch_77  \n",
       "3  grenzboten_sample\\Unbekannt_1844_Tagebuch_82.txt  1844_Tagebuch_82  \n",
       "4     grenzboten_sample\\Jörgel_1844_Tagebuch_88.txt  1844_Tagebuch_88  "
      ]
     },
     "execution_count": 6,
     "metadata": {},
     "output_type": "execute_result"
    }
   ],
   "source": [
    "metadata = meta.fn2metadata(path_to_corpus)\n",
    "metadata[:5] # by adding '[:5]' to the variable, only the first 5 elements will be printed"
   ]
  },
  {
   "cell_type": "markdown",
   "metadata": {},
   "source": [
    "#### Read listed documents from folder"
   ]
  },
  {
   "cell_type": "code",
   "execution_count": 7,
   "metadata": {
    "collapsed": false
   },
   "outputs": [
    {
     "data": {
      "text/plain": [
       "'Tagebuch von Karl Beck. Man spricht seit vierzehn Tagen von einem vollständigen Ministerwechsel und es circuliren im Publicum die verschiedensten Combinationen, wobei heute ganz andere Namen genannt werden, als gestern und morgen wieder andere, als heute.'"
      ]
     },
     "execution_count": 7,
     "metadata": {},
     "output_type": "execute_result"
    }
   ],
   "source": [
    "corpus = list(pre.read_from_pathlist(metadata['filename']))\n",
    "corpus[0][:255] # printing the first 255 characters of the first document"
   ]
  },
  {
   "cell_type": "markdown",
   "metadata": {},
   "source": [
    "Your `corpus` contains as much elements (`documents`) as texts in your corpus are. Each element of `corpus` is a list containing exactly one element, the text itself as one single string including all whitespaces and punctuations:\n",
    "\n",
    "```\n",
    "[['This is the content of your first document.'],\n",
    " ['This is the content of your second document.'],\n",
    " ...\n",
    " ['This is the content of your last document.']]\n",
    "```"
   ]
  },
  {
   "cell_type": "markdown",
   "metadata": {},
   "source": [
    "### 1.3. Tokenize corpus\n",
    "Now, your `documents` in `corpus` will be tokenized. Tokenization is the task of cutting a stream of characters into linguistic units, simply words or, more precisely, tokens. The tokenize function `dariah_topics` provides is a simple Unicode tokenizer. Depending on the corpus, it might be useful to use an external tokenizer function, or even develop your own, since its efficiency varies with language, epoch and text type."
   ]
  },
  {
   "cell_type": "code",
   "execution_count": 8,
   "metadata": {
    "collapsed": true
   },
   "outputs": [],
   "source": [
    "tokenized_corpus = [list(pre.tokenize(document)) for document in corpus]"
   ]
  },
  {
   "cell_type": "markdown",
   "metadata": {},
   "source": [
    "At this point, each `document` is represented by a list of separate token strings. As above, have a look at the first document (which has the index `0` as Python starts counting at 0) and show its first 14 words/tokens (that have the indices `0:13` accordingly)."
   ]
  },
  {
   "cell_type": "code",
   "execution_count": 9,
   "metadata": {
    "collapsed": false
   },
   "outputs": [
    {
     "data": {
      "text/plain": [
       "['tagebuch',\n",
       " 'von',\n",
       " 'karl',\n",
       " 'beck',\n",
       " 'man',\n",
       " 'spricht',\n",
       " 'seit',\n",
       " 'vierzehn',\n",
       " 'tagen',\n",
       " 'von',\n",
       " 'einem',\n",
       " 'vollständigen',\n",
       " 'ministerwechsel']"
      ]
     },
     "execution_count": 9,
     "metadata": {},
     "output_type": "execute_result"
    }
   ],
   "source": [
    "tokenized_corpus[0][0:13]"
   ]
  },
  {
   "cell_type": "markdown",
   "metadata": {},
   "source": [
    "### 1.4. Create a document-term matrix\n",
    "\n",
    "The LDA topic model is based on a bag-of-words model of the corpus. To improve performance in large corpora, actual words and document titels are replaced by indices in the actual bag-of-words model.\n",
    "\n",
    "**Because of Gensim's API, you will have to choose the large corpus model.**"
   ]
  },
  {
   "cell_type": "code",
   "execution_count": 10,
   "metadata": {
    "collapsed": true
   },
   "outputs": [],
   "source": [
    "document_term_matrix, document_ids, type_ids = pre.create_document_term_matrix(tokenized_corpus, metadata['title'], large_corpus=True)"
   ]
  },
  {
   "cell_type": "markdown",
   "metadata": {},
   "source": [
    "### 1.5. Feature removal\n",
    "\n",
    "*Stopwords* (also known as *most frequent tokens*) and *hapax legomena* are harmful for LDA and have to be removed from the corpus or the document-term matrix respectively. In this example, the 50 most frequent tokens will be categorized as stopwords.\n",
    "\n",
    "**Hint**: Be careful with removing most frequent tokens, you might remove tokens quite important for LDA. Anyway, to gain better results, it is highly recommended to use an external stopwords list.\n",
    "\n",
    "In this notebook, we combine the 50 most frequent tokens, hapax legomena and an external stopwordslist."
   ]
  },
  {
   "cell_type": "markdown",
   "metadata": {},
   "source": [
    "#### List the 100 most frequent words"
   ]
  },
  {
   "cell_type": "code",
   "execution_count": 11,
   "metadata": {
    "collapsed": true
   },
   "outputs": [],
   "source": [
    "stopwords = pre.find_stopwords(document_term_matrix, most_frequent_tokens=100, type_ids=type_ids)"
   ]
  },
  {
   "cell_type": "markdown",
   "metadata": {},
   "source": [
    "These are the five most frequent words:"
   ]
  },
  {
   "cell_type": "code",
   "execution_count": 12,
   "metadata": {
    "collapsed": false
   },
   "outputs": [
    {
     "data": {
      "text/plain": [
       "['die', 'der', 'und', 'in', 'den']"
      ]
     },
     "execution_count": 12,
     "metadata": {},
     "output_type": "execute_result"
    }
   ],
   "source": [
    "stopwords[:5]"
   ]
  },
  {
   "cell_type": "markdown",
   "metadata": {},
   "source": [
    "#### List hapax legomena"
   ]
  },
  {
   "cell_type": "code",
   "execution_count": 13,
   "metadata": {
    "collapsed": false
   },
   "outputs": [
    {
     "name": "stdout",
     "output_type": "stream",
     "text": [
      "Total number of types in corpus: 24451\n",
      "Total number of hapax legomena: 15823\n"
     ]
    }
   ],
   "source": [
    "hapax_legomena = pre.find_hapax_legomena(document_term_matrix, type_ids)\n",
    "print(\"Total number of types in corpus:\", len(type_ids))\n",
    "print(\"Total number of hapax legomena:\", len(hapax_legomena))"
   ]
  },
  {
   "cell_type": "markdown",
   "metadata": {},
   "source": [
    "#### Optional: Use external stopwordlist"
   ]
  },
  {
   "cell_type": "code",
   "execution_count": 14,
   "metadata": {
    "collapsed": true
   },
   "outputs": [],
   "source": [
    "path_to_stopwordlist = 'tutorial_supplementals/stopwords/de.txt'\n",
    "external_stopwords = [line.strip() for line in open(path_to_stopwordlist, 'r', encoding='utf-8')]"
   ]
  },
  {
   "cell_type": "markdown",
   "metadata": {},
   "source": [
    "#### Combine lists and remove content from `document_term_matrix`"
   ]
  },
  {
   "cell_type": "code",
   "execution_count": 16,
   "metadata": {
    "collapsed": false
   },
   "outputs": [],
   "source": [
    "features = stopwords + hapax_legomena + external_stopwords\n",
    "document_term_matrix = pre.remove_features(features, document_term_matrix=document_term_matrix, type_ids=type_ids)"
   ]
  },
  {
   "cell_type": "markdown",
   "metadata": {},
   "source": [
    "### 1.6. Creating specific Gensim corpus format\n",
    "\n",
    "With the function below, you can create the specific Gensim corpus format."
   ]
  },
  {
   "cell_type": "code",
   "execution_count": 22,
   "metadata": {
    "collapsed": true
   },
   "outputs": [],
   "source": [
    "gensim_corpus = postprocessing.doc2bow(document_term_matrix)"
   ]
  },
  {
   "cell_type": "markdown",
   "metadata": {},
   "source": [
    "## 2. Model creation\n",
    "\n",
    "The actual topic modeling is done with external state-of-the-art LDA implementations. In this example, we are relying on the open-source toolkit **Gensim** which was used and cited in over 400 commercial and academic applications since 2008."
   ]
  },
  {
   "cell_type": "markdown",
   "metadata": {},
   "source": [
    "### 2.1. Rearrange dictionaries "
   ]
  },
  {
   "cell_type": "code",
   "execution_count": 23,
   "metadata": {
    "collapsed": true
   },
   "outputs": [],
   "source": [
    "doc2id = {value : key for key, value in document_ids.items()}\n",
    "type2id = {value : key for key, value in type_ids.items()}"
   ]
  },
  {
   "cell_type": "markdown",
   "metadata": {},
   "source": [
    "### 2.2. Generate LDA model\n",
    "\n",
    "We use the class `LDA` from the library `lda` (which is basically not the same, because Python is case sensitive) to generate a LDA topic model. To instance a `LDA` object, there have to be specified a couple of parameters.\n",
    "\n",
    "But first, if you are curious about any library, module, class or function, try `help()`. This can be very useful, because (at least in a well documented library) explanations of use and parameters will be printed. We're interested in the class `LDA` of the library `lda`, so let's try:\n",
    "\n",
    "```\n",
    "help(LdaMulticore)\n",
    "```\n",
    "\n",
    "This will print something like this (in fact even more):\n",
    "\n",
    "```\n",
    "Help on class LdaMulticore in module gensim.models.ldamulticore:\n",
    "\n",
    "class LdaMulticore(gensim.models.ldamodel.LdaModel)\n",
    " |  The constructor estimates Latent Dirichlet Allocation model parameters based\n",
    " |  on a training corpus:\n",
    " |  \n",
    " |  >>> lda = LdaMulticore(corpus, num_topics=10)\n",
    " |  \n",
    " |  You can then infer topic distributions on new, unseen documents, with\n",
    " |  \n",
    " |  >>> doc_lda = lda[doc_bow]\n",
    " |  \n",
    " |  The model can be updated (trained) with new documents via\n",
    " |  \n",
    " |  >>> lda.update(other_corpus)\n",
    " |  \n",
    " |  Methods defined here:\n",
    " |  \n",
    " |  __init__(parameter ...)\n",
    " |      If given, start training from the iterable `corpus` straight away. If not given,\n",
    " |      the model is left untrained (presumably because you want to call `update()` manually).\n",
    " |      \n",
    " |      `num_topics` is the number of requested latent topics to be extracted from\n",
    " |      the training corpus.\n",
    " |      \n",
    " |      `id2word` is a mapping from word ids (integers) to words (strings). It is\n",
    " |      used to determine the vocabulary size, as well as for debugging and topic\n",
    " |      printing.\n",
    " |      \n",
    " |      `workers` is the number of extra processes to use for parallelization. Uses\n",
    " |      all available cores by default: `workers=cpu_count()-1`. **Note**: for\n",
    " |      hyper-threaded CPUs, `cpu_count()` returns a useless number -- set `workers`\n",
    " |      directly to the number of your **real** cores (not hyperthreads) minus one,\n",
    " |      for optimal performance.\n",
    " |      \n",
    " |      If `batch` is not set, perform online training by updating the model once\n",
    " |      every `workers * chunksize` documents (online training). Otherwise,\n",
    " |      run batch LDA, updating model only once at the end of each full corpus pass.\n",
    " |      \n",
    " |      `alpha` and `eta` are hyperparameters that affect sparsity of the document-topic\n",
    " |      (theta) and topic-word (lambda) distributions. Both default to a symmetric\n",
    " |      1.0/num_topics prior.\n",
    " |      \n",
    " |      `alpha` can be set to an explicit array = prior of your choice. It also\n",
    " |      support special values of 'asymmetric' and 'auto': the former uses a fixed\n",
    " |      normalized asymmetric 1.0/topicno prior, the latter learns an asymmetric\n",
    " |      prior directly from your data.\n",
    " |      \n",
    " |      `eta` can be a scalar for a symmetric prior over topic/word\n",
    " |      distributions, or a matrix of shape num_topics x num_words,\n",
    " |      which can be used to impose asymmetric priors over the word\n",
    " |      distribution on a per-topic basis. This may be useful if you\n",
    " |      want to seed certain topics with particular words by boosting\n",
    " |      the priors for those words.\n",
    "```\n",
    "\n",
    "So, now you know how to define the number of topics and the number of sampling iterations as well. A higher number of iterations will probably yield a better model, but also increases processing time. `alpha`, `eta` and `random_state` are so-called *hyperparameters*. They influence the model's performance, so feel free to play around with them. In the present example, we will leave the default values. Furthermore, there exist various methods for hyperparameter optimization, e.g. gridsearch or Gaussian optimization.\n",
    "\n",
    "**Warning: This step can take quite a while!** Meaning something between some seconds and some hours depending on corpus size and the number of iterations. Our example corpus should be done within a minute or two at `iterations=5000`."
   ]
  },
  {
   "cell_type": "code",
   "execution_count": 24,
   "metadata": {
    "collapsed": false
   },
   "outputs": [
    {
     "name": "stdout",
     "output_type": "stream",
     "text": [
      "Wall time: 44.4 s\n"
     ]
    }
   ],
   "source": [
    "%%time\n",
    "\n",
    "model = LdaMulticore(corpus=gensim_corpus, id2word=type2id, num_topics=10, passes=10, iterations=5000)"
   ]
  },
  {
   "cell_type": "markdown",
   "metadata": {},
   "source": [
    "### 2.3. Create document-topic matrix\n",
    "\n",
    "The generated model object can now be translated into a human-readable document-topic matrix (that is a actually a pandas data frame) that constitutes our principle exchange format for topic modeling results. For generating the matrix from a Gensim model, we can use the following function:"
   ]
  },
  {
   "cell_type": "code",
   "execution_count": 25,
   "metadata": {
    "collapsed": false
   },
   "outputs": [
    {
     "data": {
      "text/html": [
       "<div>\n",
       "<style>\n",
       "    .dataframe thead tr:only-child th {\n",
       "        text-align: right;\n",
       "    }\n",
       "\n",
       "    .dataframe thead th {\n",
       "        text-align: left;\n",
       "    }\n",
       "\n",
       "    .dataframe tbody tr th {\n",
       "        vertical-align: top;\n",
       "    }\n",
       "</style>\n",
       "<table border=\"1\" class=\"dataframe\">\n",
       "  <thead>\n",
       "    <tr style=\"text-align: right;\">\n",
       "      <th></th>\n",
       "      <th>Key 0</th>\n",
       "      <th>Key 1</th>\n",
       "      <th>Key 2</th>\n",
       "      <th>Key 3</th>\n",
       "      <th>Key 4</th>\n",
       "      <th>Key 5</th>\n",
       "      <th>Key 6</th>\n",
       "      <th>Key 7</th>\n",
       "      <th>Key 8</th>\n",
       "      <th>Key 9</th>\n",
       "    </tr>\n",
       "  </thead>\n",
       "  <tbody>\n",
       "    <tr>\n",
       "      <th>Topic 0</th>\n",
       "      <td>märz</td>\n",
       "      <td>lassen</td>\n",
       "      <td>stadt</td>\n",
       "      <td>zeitung</td>\n",
       "      <td>weise</td>\n",
       "      <td>hiesigen</td>\n",
       "      <td>deutschland</td>\n",
       "      <td>berlin</td>\n",
       "      <td>nämlich</td>\n",
       "      <td>wien</td>\n",
       "    </tr>\n",
       "    <tr>\n",
       "      <th>Topic 1</th>\n",
       "      <td>leipzig</td>\n",
       "      <td>leipziger</td>\n",
       "      <td>zeitung</td>\n",
       "      <td>weiß</td>\n",
       "      <td>leben</td>\n",
       "      <td>weise</td>\n",
       "      <td>oesterreich</td>\n",
       "      <td>deutschland</td>\n",
       "      <td>stadt</td>\n",
       "      <td>bildung</td>\n",
       "    </tr>\n",
       "    <tr>\n",
       "      <th>Topic 2</th>\n",
       "      <td>dezember</td>\n",
       "      <td>türken</td>\n",
       "      <td>englische</td>\n",
       "      <td>österreicher</td>\n",
       "      <td>abgewiesen</td>\n",
       "      <td>geschütze</td>\n",
       "      <td>östlich</td>\n",
       "      <td>genommen</td>\n",
       "      <td>letzten</td>\n",
       "      <td>südlich</td>\n",
       "    </tr>\n",
       "    <tr>\n",
       "      <th>Topic 3</th>\n",
       "      <td>september</td>\n",
       "      <td>august</td>\n",
       "      <td>frankreich</td>\n",
       "      <td>rußland</td>\n",
       "      <td>kirche</td>\n",
       "      <td>kunst</td>\n",
       "      <td>england</td>\n",
       "      <td>paris</td>\n",
       "      <td>rom</td>\n",
       "      <td>deutschland</td>\n",
       "    </tr>\n",
       "    <tr>\n",
       "      <th>Topic 4</th>\n",
       "      <td>oesterreich</td>\n",
       "      <td>lassen</td>\n",
       "      <td>berlin</td>\n",
       "      <td>leben</td>\n",
       "      <td>preußen</td>\n",
       "      <td>deutschland</td>\n",
       "      <td>frankreich</td>\n",
       "      <td>könig</td>\n",
       "      <td>französischen</td>\n",
       "      <td>deutscher</td>\n",
       "    </tr>\n",
       "    <tr>\n",
       "      <th>Topic 5</th>\n",
       "      <td>frankreich</td>\n",
       "      <td>preußen</td>\n",
       "      <td>lamennais</td>\n",
       "      <td>französischen</td>\n",
       "      <td>krakauer</td>\n",
       "      <td>lassen</td>\n",
       "      <td>oesterreich</td>\n",
       "      <td>michelet</td>\n",
       "      <td>sprache</td>\n",
       "      <td>polen</td>\n",
       "    </tr>\n",
       "    <tr>\n",
       "      <th>Topic 6</th>\n",
       "      <td>dezember</td>\n",
       "      <td>juli</td>\n",
       "      <td>abgewiesen</td>\n",
       "      <td>august</td>\n",
       "      <td>englische</td>\n",
       "      <td>türken</td>\n",
       "      <td>südlich</td>\n",
       "      <td>zusammengebrochen</td>\n",
       "      <td>somme</td>\n",
       "      <td>genommen</td>\n",
       "    </tr>\n",
       "    <tr>\n",
       "      <th>Topic 7</th>\n",
       "      <td>abgewiesen</td>\n",
       "      <td>genommen</td>\n",
       "      <td>südlich</td>\n",
       "      <td>franzosen</td>\n",
       "      <td>geschütze</td>\n",
       "      <td>januar</td>\n",
       "      <td>nördlich</td>\n",
       "      <td>abgeschlagen</td>\n",
       "      <td>feindliche</td>\n",
       "      <td>englische</td>\n",
       "    </tr>\n",
       "    <tr>\n",
       "      <th>Topic 8</th>\n",
       "      <td>abgeschlagen</td>\n",
       "      <td>südlich</td>\n",
       "      <td>westlich</td>\n",
       "      <td>abgewiesen</td>\n",
       "      <td>verlusten</td>\n",
       "      <td>scheint</td>\n",
       "      <td>lassen</td>\n",
       "      <td>franzosen</td>\n",
       "      <td>französischen</td>\n",
       "      <td>italienische</td>\n",
       "    </tr>\n",
       "    <tr>\n",
       "      <th>Topic 9</th>\n",
       "      <td>presse</td>\n",
       "      <td>himmel</td>\n",
       "      <td>briefe</td>\n",
       "      <td>dame</td>\n",
       "      <td>meinung</td>\n",
       "      <td>regierung</td>\n",
       "      <td>geben</td>\n",
       "      <td>organe</td>\n",
       "      <td>zeitungen</td>\n",
       "      <td>rellstab</td>\n",
       "    </tr>\n",
       "  </tbody>\n",
       "</table>\n",
       "</div>"
      ],
      "text/plain": [
       "                Key 0      Key 1       Key 2          Key 3       Key 4  \\\n",
       "Topic 0          märz     lassen       stadt        zeitung       weise   \n",
       "Topic 1       leipzig  leipziger     zeitung           weiß       leben   \n",
       "Topic 2      dezember     türken   englische   österreicher  abgewiesen   \n",
       "Topic 3     september     august  frankreich        rußland      kirche   \n",
       "Topic 4   oesterreich     lassen      berlin          leben     preußen   \n",
       "Topic 5    frankreich    preußen   lamennais  französischen    krakauer   \n",
       "Topic 6      dezember       juli  abgewiesen         august   englische   \n",
       "Topic 7    abgewiesen   genommen     südlich      franzosen   geschütze   \n",
       "Topic 8  abgeschlagen    südlich    westlich     abgewiesen   verlusten   \n",
       "Topic 9        presse     himmel      briefe           dame     meinung   \n",
       "\n",
       "               Key 5        Key 6              Key 7          Key 8  \\\n",
       "Topic 0     hiesigen  deutschland             berlin        nämlich   \n",
       "Topic 1        weise  oesterreich        deutschland          stadt   \n",
       "Topic 2    geschütze      östlich           genommen        letzten   \n",
       "Topic 3        kunst      england              paris            rom   \n",
       "Topic 4  deutschland   frankreich              könig  französischen   \n",
       "Topic 5       lassen  oesterreich           michelet        sprache   \n",
       "Topic 6       türken      südlich  zusammengebrochen          somme   \n",
       "Topic 7       januar     nördlich       abgeschlagen     feindliche   \n",
       "Topic 8      scheint       lassen          franzosen  französischen   \n",
       "Topic 9    regierung        geben             organe      zeitungen   \n",
       "\n",
       "                Key 9  \n",
       "Topic 0          wien  \n",
       "Topic 1       bildung  \n",
       "Topic 2       südlich  \n",
       "Topic 3   deutschland  \n",
       "Topic 4     deutscher  \n",
       "Topic 5         polen  \n",
       "Topic 6      genommen  \n",
       "Topic 7     englische  \n",
       "Topic 8  italienische  \n",
       "Topic 9      rellstab  "
      ]
     },
     "execution_count": 25,
     "metadata": {},
     "output_type": "execute_result"
    }
   ],
   "source": [
    "topics = postprocessing.show_topics(model=model)\n",
    "topics"
   ]
  },
  {
   "cell_type": "markdown",
   "metadata": {},
   "source": [
    "## 3. Model visualization"
   ]
  },
  {
   "cell_type": "markdown",
   "metadata": {},
   "source": [
    "Each topic has a certain probability for each document in the corpus (have a look at the cell below). This probability distributions are visualized in an interactive **heatmap** (the darker the color, the higher the probability) which displays the kind of information\n",
    "                that is presumably most useful to literary scholars. Going beyond pure exploration, this visualization can be used to show thematic developments over a set of texts as well as a single text, akin to a dynamic topic model. What might become\n",
    "                apparent here, is that some topics correlate highly with a specific author or group of authors, while other topics correlate highly with a specific text or group of texts."
   ]
  },
  {
   "cell_type": "code",
   "execution_count": 26,
   "metadata": {
    "collapsed": false
   },
   "outputs": [
    {
     "data": {
      "text/html": [
       "<div>\n",
       "<style>\n",
       "    .dataframe thead tr:only-child th {\n",
       "        text-align: right;\n",
       "    }\n",
       "\n",
       "    .dataframe thead th {\n",
       "        text-align: left;\n",
       "    }\n",
       "\n",
       "    .dataframe tbody tr th {\n",
       "        vertical-align: top;\n",
       "    }\n",
       "</style>\n",
       "<table border=\"1\" class=\"dataframe\">\n",
       "  <thead>\n",
       "    <tr style=\"text-align: right;\">\n",
       "      <th>title</th>\n",
       "      <th>1844_Tagebuch_56</th>\n",
       "      <th>1844_Tagebuch_70</th>\n",
       "      <th>1844_Tagebuch_77</th>\n",
       "      <th>1844_Tagebuch_82</th>\n",
       "      <th>1844_Tagebuch_88</th>\n",
       "      <th>1845_Tagebuch_52</th>\n",
       "      <th>1845_Tagebuch_62</th>\n",
       "      <th>1845_Tagebuch_81</th>\n",
       "      <th>1845_Tagebuch_85</th>\n",
       "      <th>1845_Tagebuch_93</th>\n",
       "      <th>...</th>\n",
       "      <th>1915_Kriegstagebuch_33</th>\n",
       "      <th>1915_Kriegstagebuch_39</th>\n",
       "      <th>1915_Kriegstagebuch_73</th>\n",
       "      <th>1915_Kriegstagebuch_94</th>\n",
       "      <th>1915_Kriegstagebuch_99</th>\n",
       "      <th>1916_Kriegstagebuch_41</th>\n",
       "      <th>1916_Kriegstagebuch_48</th>\n",
       "      <th>1916_Kriegstagebuch_49</th>\n",
       "      <th>1916_Kriegstagebuch_69</th>\n",
       "      <th>1916_Kriegstagebuch_81</th>\n",
       "    </tr>\n",
       "  </thead>\n",
       "  <tbody>\n",
       "    <tr>\n",
       "      <th>märz lassen stadt</th>\n",
       "      <td>0.0</td>\n",
       "      <td>0.285186</td>\n",
       "      <td>0.99238</td>\n",
       "      <td>0.112876</td>\n",
       "      <td>0.000000</td>\n",
       "      <td>0.0</td>\n",
       "      <td>0.0</td>\n",
       "      <td>0.000000</td>\n",
       "      <td>0.0</td>\n",
       "      <td>0.0</td>\n",
       "      <td>...</td>\n",
       "      <td>0.000000</td>\n",
       "      <td>0.899675</td>\n",
       "      <td>0.000000</td>\n",
       "      <td>0.000000</td>\n",
       "      <td>0.214793</td>\n",
       "      <td>0.000000</td>\n",
       "      <td>0.00000</td>\n",
       "      <td>0.0</td>\n",
       "      <td>0.375157</td>\n",
       "      <td>0.999568</td>\n",
       "    </tr>\n",
       "    <tr>\n",
       "      <th>leipzig leipziger zeitung</th>\n",
       "      <td>0.0</td>\n",
       "      <td>0.000000</td>\n",
       "      <td>0.00000</td>\n",
       "      <td>0.000000</td>\n",
       "      <td>0.000000</td>\n",
       "      <td>0.0</td>\n",
       "      <td>0.0</td>\n",
       "      <td>0.261548</td>\n",
       "      <td>0.0</td>\n",
       "      <td>0.0</td>\n",
       "      <td>...</td>\n",
       "      <td>0.145007</td>\n",
       "      <td>0.100078</td>\n",
       "      <td>0.000000</td>\n",
       "      <td>0.000000</td>\n",
       "      <td>0.000000</td>\n",
       "      <td>0.000000</td>\n",
       "      <td>0.99885</td>\n",
       "      <td>0.0</td>\n",
       "      <td>0.171470</td>\n",
       "      <td>0.000000</td>\n",
       "    </tr>\n",
       "    <tr>\n",
       "      <th>dezember türken englische</th>\n",
       "      <td>0.0</td>\n",
       "      <td>0.000000</td>\n",
       "      <td>0.00000</td>\n",
       "      <td>0.000000</td>\n",
       "      <td>0.000000</td>\n",
       "      <td>0.0</td>\n",
       "      <td>0.0</td>\n",
       "      <td>0.000000</td>\n",
       "      <td>0.0</td>\n",
       "      <td>0.0</td>\n",
       "      <td>...</td>\n",
       "      <td>0.000000</td>\n",
       "      <td>0.000000</td>\n",
       "      <td>0.000000</td>\n",
       "      <td>0.000000</td>\n",
       "      <td>0.000000</td>\n",
       "      <td>0.000000</td>\n",
       "      <td>0.00000</td>\n",
       "      <td>0.0</td>\n",
       "      <td>0.000000</td>\n",
       "      <td>0.000000</td>\n",
       "    </tr>\n",
       "    <tr>\n",
       "      <th>september august frankreich</th>\n",
       "      <td>0.0</td>\n",
       "      <td>0.000000</td>\n",
       "      <td>0.00000</td>\n",
       "      <td>0.000000</td>\n",
       "      <td>0.585314</td>\n",
       "      <td>0.0</td>\n",
       "      <td>0.0</td>\n",
       "      <td>0.000000</td>\n",
       "      <td>0.0</td>\n",
       "      <td>0.0</td>\n",
       "      <td>...</td>\n",
       "      <td>0.000000</td>\n",
       "      <td>0.000000</td>\n",
       "      <td>0.816123</td>\n",
       "      <td>0.000000</td>\n",
       "      <td>0.000000</td>\n",
       "      <td>0.000000</td>\n",
       "      <td>0.00000</td>\n",
       "      <td>0.0</td>\n",
       "      <td>0.000000</td>\n",
       "      <td>0.000000</td>\n",
       "    </tr>\n",
       "    <tr>\n",
       "      <th>oesterreich lassen berlin</th>\n",
       "      <td>0.0</td>\n",
       "      <td>0.714591</td>\n",
       "      <td>0.00000</td>\n",
       "      <td>0.000000</td>\n",
       "      <td>0.411548</td>\n",
       "      <td>0.0</td>\n",
       "      <td>0.0</td>\n",
       "      <td>0.000000</td>\n",
       "      <td>0.0</td>\n",
       "      <td>0.0</td>\n",
       "      <td>...</td>\n",
       "      <td>0.854836</td>\n",
       "      <td>0.000000</td>\n",
       "      <td>0.000000</td>\n",
       "      <td>0.990952</td>\n",
       "      <td>0.000000</td>\n",
       "      <td>0.994163</td>\n",
       "      <td>0.00000</td>\n",
       "      <td>0.0</td>\n",
       "      <td>0.000000</td>\n",
       "      <td>0.000000</td>\n",
       "    </tr>\n",
       "  </tbody>\n",
       "</table>\n",
       "<p>5 rows × 30 columns</p>\n",
       "</div>"
      ],
      "text/plain": [
       "title                        1844_Tagebuch_56  1844_Tagebuch_70  \\\n",
       "märz lassen stadt                         0.0          0.285186   \n",
       "leipzig leipziger zeitung                 0.0          0.000000   \n",
       "dezember türken englische                 0.0          0.000000   \n",
       "september august frankreich               0.0          0.000000   \n",
       "oesterreich lassen berlin                 0.0          0.714591   \n",
       "\n",
       "title                        1844_Tagebuch_77  1844_Tagebuch_82  \\\n",
       "märz lassen stadt                     0.99238          0.112876   \n",
       "leipzig leipziger zeitung             0.00000          0.000000   \n",
       "dezember türken englische             0.00000          0.000000   \n",
       "september august frankreich           0.00000          0.000000   \n",
       "oesterreich lassen berlin             0.00000          0.000000   \n",
       "\n",
       "title                        1844_Tagebuch_88  1845_Tagebuch_52  \\\n",
       "märz lassen stadt                    0.000000               0.0   \n",
       "leipzig leipziger zeitung            0.000000               0.0   \n",
       "dezember türken englische            0.000000               0.0   \n",
       "september august frankreich          0.585314               0.0   \n",
       "oesterreich lassen berlin            0.411548               0.0   \n",
       "\n",
       "title                        1845_Tagebuch_62  1845_Tagebuch_81  \\\n",
       "märz lassen stadt                         0.0          0.000000   \n",
       "leipzig leipziger zeitung                 0.0          0.261548   \n",
       "dezember türken englische                 0.0          0.000000   \n",
       "september august frankreich               0.0          0.000000   \n",
       "oesterreich lassen berlin                 0.0          0.000000   \n",
       "\n",
       "title                        1845_Tagebuch_85  1845_Tagebuch_93  \\\n",
       "märz lassen stadt                         0.0               0.0   \n",
       "leipzig leipziger zeitung                 0.0               0.0   \n",
       "dezember türken englische                 0.0               0.0   \n",
       "september august frankreich               0.0               0.0   \n",
       "oesterreich lassen berlin                 0.0               0.0   \n",
       "\n",
       "title                                 ...            1915_Kriegstagebuch_33  \\\n",
       "märz lassen stadt                     ...                          0.000000   \n",
       "leipzig leipziger zeitung             ...                          0.145007   \n",
       "dezember türken englische             ...                          0.000000   \n",
       "september august frankreich           ...                          0.000000   \n",
       "oesterreich lassen berlin             ...                          0.854836   \n",
       "\n",
       "title                        1915_Kriegstagebuch_39  1915_Kriegstagebuch_73  \\\n",
       "märz lassen stadt                          0.899675                0.000000   \n",
       "leipzig leipziger zeitung                  0.100078                0.000000   \n",
       "dezember türken englische                  0.000000                0.000000   \n",
       "september august frankreich                0.000000                0.816123   \n",
       "oesterreich lassen berlin                  0.000000                0.000000   \n",
       "\n",
       "title                        1915_Kriegstagebuch_94  1915_Kriegstagebuch_99  \\\n",
       "märz lassen stadt                          0.000000                0.214793   \n",
       "leipzig leipziger zeitung                  0.000000                0.000000   \n",
       "dezember türken englische                  0.000000                0.000000   \n",
       "september august frankreich                0.000000                0.000000   \n",
       "oesterreich lassen berlin                  0.990952                0.000000   \n",
       "\n",
       "title                        1916_Kriegstagebuch_41  1916_Kriegstagebuch_48  \\\n",
       "märz lassen stadt                          0.000000                 0.00000   \n",
       "leipzig leipziger zeitung                  0.000000                 0.99885   \n",
       "dezember türken englische                  0.000000                 0.00000   \n",
       "september august frankreich                0.000000                 0.00000   \n",
       "oesterreich lassen berlin                  0.994163                 0.00000   \n",
       "\n",
       "title                        1916_Kriegstagebuch_49  1916_Kriegstagebuch_69  \\\n",
       "märz lassen stadt                               0.0                0.375157   \n",
       "leipzig leipziger zeitung                       0.0                0.171470   \n",
       "dezember türken englische                       0.0                0.000000   \n",
       "september august frankreich                     0.0                0.000000   \n",
       "oesterreich lassen berlin                       0.0                0.000000   \n",
       "\n",
       "title                        1916_Kriegstagebuch_81  \n",
       "märz lassen stadt                          0.999568  \n",
       "leipzig leipziger zeitung                  0.000000  \n",
       "dezember türken englische                  0.000000  \n",
       "september august frankreich                0.000000  \n",
       "oesterreich lassen berlin                  0.000000  \n",
       "\n",
       "[5 rows x 30 columns]"
      ]
     },
     "execution_count": 26,
     "metadata": {},
     "output_type": "execute_result"
    }
   ],
   "source": [
    "document_topics = postprocessing.show_document_topics(topics=topics,\n",
    "                                                      model=model,\n",
    "                                                      document_labels=metadata['title'],\n",
    "                                                      doc2bow=gensim_corpus)\n",
    "document_topics[:5]"
   ]
  },
  {
   "cell_type": "markdown",
   "metadata": {},
   "source": [
    "### 3.1. Distribution of topics"
   ]
  },
  {
   "cell_type": "markdown",
   "metadata": {},
   "source": [
    "#### Distribution of topics over all documents\n",
    "\n",
    "The distribution of topics over all documents can now be visualized in a heat map."
   ]
  },
  {
   "cell_type": "code",
   "execution_count": 27,
   "metadata": {
    "collapsed": false,
    "scrolled": false
   },
   "outputs": [
    {
     "data": {
      "text/html": [
       "\n",
       "    <div class=\"bk-root\">\n",
       "        <a href=\"https://bokeh.pydata.org\" target=\"_blank\" class=\"bk-logo bk-logo-small bk-logo-notebook\"></a>\n",
       "        <span id=\"517557ab-cf2f-4be5-afc7-2d9ace428653\">Loading BokehJS ...</span>\n",
       "    </div>"
      ]
     },
     "metadata": {},
     "output_type": "display_data"
    },
    {
     "data": {
      "application/javascript": [
       "\n",
       "(function(root) {\n",
       "  function now() {\n",
       "    return new Date();\n",
       "  }\n",
       "\n",
       "  var force = true;\n",
       "\n",
       "  if (typeof (root._bokeh_onload_callbacks) === \"undefined\" || force === true) {\n",
       "    root._bokeh_onload_callbacks = [];\n",
       "    root._bokeh_is_loading = undefined;\n",
       "  }\n",
       "\n",
       "  var JS_MIME_TYPE = 'application/javascript';\n",
       "  var HTML_MIME_TYPE = 'text/html';\n",
       "  var EXEC_MIME_TYPE = 'application/vnd.bokehjs_exec.v0+json';\n",
       "  var CLASS_NAME = 'output_bokeh rendered_html';\n",
       "\n",
       "  /**\n",
       "   * Render data to the DOM node\n",
       "   */\n",
       "  function render(props, node) {\n",
       "    var script = document.createElement(\"script\");\n",
       "    node.appendChild(script);\n",
       "  }\n",
       "\n",
       "  /**\n",
       "   * Handle when an output is cleared or removed\n",
       "   */\n",
       "  function handleClearOutput(event, handle) {\n",
       "    var cell = handle.cell;\n",
       "\n",
       "    var id = cell.output_area._bokeh_element_id;\n",
       "    var server_id = cell.output_area._bokeh_server_id;\n",
       "    // Clean up Bokeh references\n",
       "    if (id !== undefined) {\n",
       "      Bokeh.index[id].model.document.clear();\n",
       "      delete Bokeh.index[id];\n",
       "    }\n",
       "\n",
       "    if (server_id !== undefined) {\n",
       "      // Clean up Bokeh references\n",
       "      var cmd = \"from bokeh.io import _state; print(_state.uuid_to_server['\" + server_id + \"'].get_sessions()[0].document.roots[0]._id)\";\n",
       "      cell.notebook.kernel.execute(cmd, {\n",
       "        iopub: {\n",
       "          output: function(msg) {\n",
       "            var element_id = msg.content.text.trim();\n",
       "            Bokeh.index[element_id].model.document.clear();\n",
       "            delete Bokeh.index[element_id];\n",
       "          }\n",
       "        }\n",
       "      });\n",
       "      // Destroy server and session\n",
       "      var cmd = \"from bokeh import io; io._destroy_server('\" + server_id + \"')\";\n",
       "      cell.notebook.kernel.execute(cmd);\n",
       "    }\n",
       "  }\n",
       "\n",
       "  /**\n",
       "   * Handle when a new output is added\n",
       "   */\n",
       "  function handleAddOutput(event, handle) {\n",
       "    var output_area = handle.output_area;\n",
       "    var output = handle.output;\n",
       "\n",
       "    // limit handleAddOutput to display_data with EXEC_MIME_TYPE content only\n",
       "    if ((output.output_type != \"display_data\") || (!output.data.hasOwnProperty(EXEC_MIME_TYPE))) {\n",
       "      return\n",
       "    }\n",
       "\n",
       "    var toinsert = output_area.element.find(`.${CLASS_NAME.split(' ')[0]}`);\n",
       "\n",
       "    if (output.metadata[EXEC_MIME_TYPE][\"id\"] !== undefined) {\n",
       "      toinsert[0].firstChild.textContent = output.data[JS_MIME_TYPE];\n",
       "      // store reference to embed id on output_area\n",
       "      output_area._bokeh_element_id = output.metadata[EXEC_MIME_TYPE][\"id\"];\n",
       "    }\n",
       "    if (output.metadata[EXEC_MIME_TYPE][\"server_id\"] !== undefined) {\n",
       "      var bk_div = document.createElement(\"div\");\n",
       "      bk_div.innerHTML = output.data[HTML_MIME_TYPE];\n",
       "      var script_attrs = bk_div.children[0].attributes;\n",
       "      for (var i = 0; i < script_attrs.length; i++) {\n",
       "        toinsert[0].firstChild.setAttribute(script_attrs[i].name, script_attrs[i].value);\n",
       "      }\n",
       "      // store reference to server id on output_area\n",
       "      output_area._bokeh_server_id = output.metadata[EXEC_MIME_TYPE][\"server_id\"];\n",
       "    }\n",
       "  }\n",
       "\n",
       "  function register_renderer(events, OutputArea) {\n",
       "\n",
       "    function append_mime(data, metadata, element) {\n",
       "      // create a DOM node to render to\n",
       "      var toinsert = this.create_output_subarea(\n",
       "        metadata,\n",
       "        CLASS_NAME,\n",
       "        EXEC_MIME_TYPE\n",
       "      );\n",
       "      this.keyboard_manager.register_events(toinsert);\n",
       "      // Render to node\n",
       "      var props = {data: data, metadata: metadata[EXEC_MIME_TYPE]};\n",
       "      render(props, toinsert[0]);\n",
       "      element.append(toinsert);\n",
       "      return toinsert\n",
       "    }\n",
       "\n",
       "    /* Handle when an output is cleared or removed */\n",
       "    events.on('clear_output.CodeCell', handleClearOutput);\n",
       "    events.on('delete.Cell', handleClearOutput);\n",
       "\n",
       "    /* Handle when a new output is added */\n",
       "    events.on('output_added.OutputArea', handleAddOutput);\n",
       "\n",
       "    /**\n",
       "     * Register the mime type and append_mime function with output_area\n",
       "     */\n",
       "    OutputArea.prototype.register_mime_type(EXEC_MIME_TYPE, append_mime, {\n",
       "      /* Is output safe? */\n",
       "      safe: true,\n",
       "      /* Index of renderer in `output_area.display_order` */\n",
       "      index: 0\n",
       "    });\n",
       "  }\n",
       "\n",
       "  // register the mime type if in Jupyter Notebook environment and previously unregistered\n",
       "  if (root.Jupyter !== undefined) {\n",
       "    var events = require('base/js/events');\n",
       "    var OutputArea = require('notebook/js/outputarea').OutputArea;\n",
       "\n",
       "    if (OutputArea.prototype.mime_types().indexOf(EXEC_MIME_TYPE) == -1) {\n",
       "      register_renderer(events, OutputArea);\n",
       "    }\n",
       "  }\n",
       "\n",
       "  \n",
       "  if (typeof (root._bokeh_timeout) === \"undefined\" || force === true) {\n",
       "    root._bokeh_timeout = Date.now() + 5000;\n",
       "    root._bokeh_failed_load = false;\n",
       "  }\n",
       "\n",
       "  var NB_LOAD_WARNING = {'data': {'text/html':\n",
       "     \"<div style='background-color: #fdd'>\\n\"+\n",
       "     \"<p>\\n\"+\n",
       "     \"BokehJS does not appear to have successfully loaded. If loading BokehJS from CDN, this \\n\"+\n",
       "     \"may be due to a slow or bad network connection. Possible fixes:\\n\"+\n",
       "     \"</p>\\n\"+\n",
       "     \"<ul>\\n\"+\n",
       "     \"<li>re-rerun `output_notebook()` to attempt to load from CDN again, or</li>\\n\"+\n",
       "     \"<li>use INLINE resources instead, as so:</li>\\n\"+\n",
       "     \"</ul>\\n\"+\n",
       "     \"<code>\\n\"+\n",
       "     \"from bokeh.resources import INLINE\\n\"+\n",
       "     \"output_notebook(resources=INLINE)\\n\"+\n",
       "     \"</code>\\n\"+\n",
       "     \"</div>\"}};\n",
       "\n",
       "  function display_loaded() {\n",
       "    var el = document.getElementById(\"517557ab-cf2f-4be5-afc7-2d9ace428653\");\n",
       "    if (el != null) {\n",
       "      el.textContent = \"BokehJS is loading...\";\n",
       "    }\n",
       "    if (root.Bokeh !== undefined) {\n",
       "      if (el != null) {\n",
       "        el.textContent = \"BokehJS \" + root.Bokeh.version + \" successfully loaded.\";\n",
       "      }\n",
       "    } else if (Date.now() < root._bokeh_timeout) {\n",
       "      setTimeout(display_loaded, 100)\n",
       "    }\n",
       "  }\n",
       "\n",
       "\n",
       "  function run_callbacks() {\n",
       "    try {\n",
       "      root._bokeh_onload_callbacks.forEach(function(callback) { callback() });\n",
       "    }\n",
       "    finally {\n",
       "      delete root._bokeh_onload_callbacks\n",
       "    }\n",
       "    console.info(\"Bokeh: all callbacks have finished\");\n",
       "  }\n",
       "\n",
       "  function load_libs(js_urls, callback) {\n",
       "    root._bokeh_onload_callbacks.push(callback);\n",
       "    if (root._bokeh_is_loading > 0) {\n",
       "      console.log(\"Bokeh: BokehJS is being loaded, scheduling callback at\", now());\n",
       "      return null;\n",
       "    }\n",
       "    if (js_urls == null || js_urls.length === 0) {\n",
       "      run_callbacks();\n",
       "      return null;\n",
       "    }\n",
       "    console.log(\"Bokeh: BokehJS not loaded, scheduling load and callback at\", now());\n",
       "    root._bokeh_is_loading = js_urls.length;\n",
       "    for (var i = 0; i < js_urls.length; i++) {\n",
       "      var url = js_urls[i];\n",
       "      var s = document.createElement('script');\n",
       "      s.src = url;\n",
       "      s.async = false;\n",
       "      s.onreadystatechange = s.onload = function() {\n",
       "        root._bokeh_is_loading--;\n",
       "        if (root._bokeh_is_loading === 0) {\n",
       "          console.log(\"Bokeh: all BokehJS libraries loaded\");\n",
       "          run_callbacks()\n",
       "        }\n",
       "      };\n",
       "      s.onerror = function() {\n",
       "        console.warn(\"failed to load library \" + url);\n",
       "      };\n",
       "      console.log(\"Bokeh: injecting script tag for BokehJS library: \", url);\n",
       "      document.getElementsByTagName(\"head\")[0].appendChild(s);\n",
       "    }\n",
       "  };var element = document.getElementById(\"517557ab-cf2f-4be5-afc7-2d9ace428653\");\n",
       "  if (element == null) {\n",
       "    console.log(\"Bokeh: ERROR: autoload.js configured with elementid '517557ab-cf2f-4be5-afc7-2d9ace428653' but no matching script tag was found. \")\n",
       "    return false;\n",
       "  }\n",
       "\n",
       "  var js_urls = [\"https://cdn.pydata.org/bokeh/release/bokeh-0.12.9.min.js\", \"https://cdn.pydata.org/bokeh/release/bokeh-widgets-0.12.9.min.js\", \"https://cdn.pydata.org/bokeh/release/bokeh-tables-0.12.9.min.js\", \"https://cdn.pydata.org/bokeh/release/bokeh-gl-0.12.9.min.js\"];\n",
       "\n",
       "  var inline_js = [\n",
       "    function(Bokeh) {\n",
       "      Bokeh.set_log_level(\"info\");\n",
       "    },\n",
       "    \n",
       "    function(Bokeh) {\n",
       "      \n",
       "    },\n",
       "    function(Bokeh) {\n",
       "      console.log(\"Bokeh: injecting CSS: https://cdn.pydata.org/bokeh/release/bokeh-0.12.9.min.css\");\n",
       "      Bokeh.embed.inject_css(\"https://cdn.pydata.org/bokeh/release/bokeh-0.12.9.min.css\");\n",
       "      console.log(\"Bokeh: injecting CSS: https://cdn.pydata.org/bokeh/release/bokeh-widgets-0.12.9.min.css\");\n",
       "      Bokeh.embed.inject_css(\"https://cdn.pydata.org/bokeh/release/bokeh-widgets-0.12.9.min.css\");\n",
       "      console.log(\"Bokeh: injecting CSS: https://cdn.pydata.org/bokeh/release/bokeh-tables-0.12.9.min.css\");\n",
       "      Bokeh.embed.inject_css(\"https://cdn.pydata.org/bokeh/release/bokeh-tables-0.12.9.min.css\");\n",
       "    }\n",
       "  ];\n",
       "\n",
       "  function run_inline_js() {\n",
       "    \n",
       "    if ((root.Bokeh !== undefined) || (force === true)) {\n",
       "      for (var i = 0; i < inline_js.length; i++) {\n",
       "        inline_js[i].call(root, root.Bokeh);\n",
       "      }if (force === true) {\n",
       "        display_loaded();\n",
       "      }} else if (Date.now() < root._bokeh_timeout) {\n",
       "      setTimeout(run_inline_js, 100);\n",
       "    } else if (!root._bokeh_failed_load) {\n",
       "      console.log(\"Bokeh: BokehJS failed to load within specified timeout.\");\n",
       "      root._bokeh_failed_load = true;\n",
       "    } else if (force !== true) {\n",
       "      var cell = $(document.getElementById(\"517557ab-cf2f-4be5-afc7-2d9ace428653\")).parents('.cell').data().cell;\n",
       "      cell.output_area.append_execute_result(NB_LOAD_WARNING)\n",
       "    }\n",
       "\n",
       "  }\n",
       "\n",
       "  if (root._bokeh_is_loading === 0) {\n",
       "    console.log(\"Bokeh: BokehJS loaded, going straight to plotting\");\n",
       "    run_inline_js();\n",
       "  } else {\n",
       "    load_libs(js_urls, function() {\n",
       "      console.log(\"Bokeh: BokehJS plotting callback run at\", now());\n",
       "      run_inline_js();\n",
       "    });\n",
       "  }\n",
       "}(window));"
      ],
      "application/vnd.bokehjs_load.v0+json": "\n(function(root) {\n  function now() {\n    return new Date();\n  }\n\n  var force = true;\n\n  if (typeof (root._bokeh_onload_callbacks) === \"undefined\" || force === true) {\n    root._bokeh_onload_callbacks = [];\n    root._bokeh_is_loading = undefined;\n  }\n\n  \n\n  \n  if (typeof (root._bokeh_timeout) === \"undefined\" || force === true) {\n    root._bokeh_timeout = Date.now() + 5000;\n    root._bokeh_failed_load = false;\n  }\n\n  var NB_LOAD_WARNING = {'data': {'text/html':\n     \"<div style='background-color: #fdd'>\\n\"+\n     \"<p>\\n\"+\n     \"BokehJS does not appear to have successfully loaded. If loading BokehJS from CDN, this \\n\"+\n     \"may be due to a slow or bad network connection. Possible fixes:\\n\"+\n     \"</p>\\n\"+\n     \"<ul>\\n\"+\n     \"<li>re-rerun `output_notebook()` to attempt to load from CDN again, or</li>\\n\"+\n     \"<li>use INLINE resources instead, as so:</li>\\n\"+\n     \"</ul>\\n\"+\n     \"<code>\\n\"+\n     \"from bokeh.resources import INLINE\\n\"+\n     \"output_notebook(resources=INLINE)\\n\"+\n     \"</code>\\n\"+\n     \"</div>\"}};\n\n  function display_loaded() {\n    var el = document.getElementById(\"517557ab-cf2f-4be5-afc7-2d9ace428653\");\n    if (el != null) {\n      el.textContent = \"BokehJS is loading...\";\n    }\n    if (root.Bokeh !== undefined) {\n      if (el != null) {\n        el.textContent = \"BokehJS \" + root.Bokeh.version + \" successfully loaded.\";\n      }\n    } else if (Date.now() < root._bokeh_timeout) {\n      setTimeout(display_loaded, 100)\n    }\n  }\n\n\n  function run_callbacks() {\n    try {\n      root._bokeh_onload_callbacks.forEach(function(callback) { callback() });\n    }\n    finally {\n      delete root._bokeh_onload_callbacks\n    }\n    console.info(\"Bokeh: all callbacks have finished\");\n  }\n\n  function load_libs(js_urls, callback) {\n    root._bokeh_onload_callbacks.push(callback);\n    if (root._bokeh_is_loading > 0) {\n      console.log(\"Bokeh: BokehJS is being loaded, scheduling callback at\", now());\n      return null;\n    }\n    if (js_urls == null || js_urls.length === 0) {\n      run_callbacks();\n      return null;\n    }\n    console.log(\"Bokeh: BokehJS not loaded, scheduling load and callback at\", now());\n    root._bokeh_is_loading = js_urls.length;\n    for (var i = 0; i < js_urls.length; i++) {\n      var url = js_urls[i];\n      var s = document.createElement('script');\n      s.src = url;\n      s.async = false;\n      s.onreadystatechange = s.onload = function() {\n        root._bokeh_is_loading--;\n        if (root._bokeh_is_loading === 0) {\n          console.log(\"Bokeh: all BokehJS libraries loaded\");\n          run_callbacks()\n        }\n      };\n      s.onerror = function() {\n        console.warn(\"failed to load library \" + url);\n      };\n      console.log(\"Bokeh: injecting script tag for BokehJS library: \", url);\n      document.getElementsByTagName(\"head\")[0].appendChild(s);\n    }\n  };var element = document.getElementById(\"517557ab-cf2f-4be5-afc7-2d9ace428653\");\n  if (element == null) {\n    console.log(\"Bokeh: ERROR: autoload.js configured with elementid '517557ab-cf2f-4be5-afc7-2d9ace428653' but no matching script tag was found. \")\n    return false;\n  }\n\n  var js_urls = [\"https://cdn.pydata.org/bokeh/release/bokeh-0.12.9.min.js\", \"https://cdn.pydata.org/bokeh/release/bokeh-widgets-0.12.9.min.js\", \"https://cdn.pydata.org/bokeh/release/bokeh-tables-0.12.9.min.js\", \"https://cdn.pydata.org/bokeh/release/bokeh-gl-0.12.9.min.js\"];\n\n  var inline_js = [\n    function(Bokeh) {\n      Bokeh.set_log_level(\"info\");\n    },\n    \n    function(Bokeh) {\n      \n    },\n    function(Bokeh) {\n      console.log(\"Bokeh: injecting CSS: https://cdn.pydata.org/bokeh/release/bokeh-0.12.9.min.css\");\n      Bokeh.embed.inject_css(\"https://cdn.pydata.org/bokeh/release/bokeh-0.12.9.min.css\");\n      console.log(\"Bokeh: injecting CSS: https://cdn.pydata.org/bokeh/release/bokeh-widgets-0.12.9.min.css\");\n      Bokeh.embed.inject_css(\"https://cdn.pydata.org/bokeh/release/bokeh-widgets-0.12.9.min.css\");\n      console.log(\"Bokeh: injecting CSS: https://cdn.pydata.org/bokeh/release/bokeh-tables-0.12.9.min.css\");\n      Bokeh.embed.inject_css(\"https://cdn.pydata.org/bokeh/release/bokeh-tables-0.12.9.min.css\");\n    }\n  ];\n\n  function run_inline_js() {\n    \n    if ((root.Bokeh !== undefined) || (force === true)) {\n      for (var i = 0; i < inline_js.length; i++) {\n        inline_js[i].call(root, root.Bokeh);\n      }if (force === true) {\n        display_loaded();\n      }} else if (Date.now() < root._bokeh_timeout) {\n      setTimeout(run_inline_js, 100);\n    } else if (!root._bokeh_failed_load) {\n      console.log(\"Bokeh: BokehJS failed to load within specified timeout.\");\n      root._bokeh_failed_load = true;\n    } else if (force !== true) {\n      var cell = $(document.getElementById(\"517557ab-cf2f-4be5-afc7-2d9ace428653\")).parents('.cell').data().cell;\n      cell.output_area.append_execute_result(NB_LOAD_WARNING)\n    }\n\n  }\n\n  if (root._bokeh_is_loading === 0) {\n    console.log(\"Bokeh: BokehJS loaded, going straight to plotting\");\n    run_inline_js();\n  } else {\n    load_libs(js_urls, function() {\n      console.log(\"Bokeh: BokehJS plotting callback run at\", now());\n      run_inline_js();\n    });\n  }\n}(window));"
     },
     "metadata": {},
     "output_type": "display_data"
    },
    {
     "data": {
      "text/html": [
       "\n",
       "<div class=\"bk-root\">\n",
       "    <div class=\"bk-plotdiv\" id=\"349d8159-a9dc-4c30-9621-ec2500a826f6\"></div>\n",
       "</div>"
      ]
     },
     "metadata": {},
     "output_type": "display_data"
    },
    {
     "data": {
      "application/javascript": [
       "(function(root) {\n",
       "  function embed_document(root) {\n",
       "    var docs_json = {\"7bb3839f-fdf2-4a10-9752-2ce1ea0756c0\":{\"roots\":{\"references\":[{\"attributes\":{\"callback\":null,\"column_names\":[\"Score\",\"Document\",\"Topic\",\"index\"],\"data\":{\"Document\":[\"1844_Tagebuch_56\",\"1844_Tagebuch_56\",\"1844_Tagebuch_56\",\"1844_Tagebuch_56\",\"1844_Tagebuch_56\",\"1844_Tagebuch_56\",\"1844_Tagebuch_56\",\"1844_Tagebuch_56\",\"1844_Tagebuch_56\",\"1844_Tagebuch_56\",\"1844_Tagebuch_70\",\"1844_Tagebuch_70\",\"1844_Tagebuch_70\",\"1844_Tagebuch_70\",\"1844_Tagebuch_70\",\"1844_Tagebuch_70\",\"1844_Tagebuch_70\",\"1844_Tagebuch_70\",\"1844_Tagebuch_70\",\"1844_Tagebuch_70\",\"1844_Tagebuch_77\",\"1844_Tagebuch_77\",\"1844_Tagebuch_77\",\"1844_Tagebuch_77\",\"1844_Tagebuch_77\",\"1844_Tagebuch_77\",\"1844_Tagebuch_77\",\"1844_Tagebuch_77\",\"1844_Tagebuch_77\",\"1844_Tagebuch_77\",\"1844_Tagebuch_82\",\"1844_Tagebuch_82\",\"1844_Tagebuch_82\",\"1844_Tagebuch_82\",\"1844_Tagebuch_82\",\"1844_Tagebuch_82\",\"1844_Tagebuch_82\",\"1844_Tagebuch_82\",\"1844_Tagebuch_82\",\"1844_Tagebuch_82\",\"1844_Tagebuch_88\",\"1844_Tagebuch_88\",\"1844_Tagebuch_88\",\"1844_Tagebuch_88\",\"1844_Tagebuch_88\",\"1844_Tagebuch_88\",\"1844_Tagebuch_88\",\"1844_Tagebuch_88\",\"1844_Tagebuch_88\",\"1844_Tagebuch_88\",\"1845_Tagebuch_52\",\"1845_Tagebuch_52\",\"1845_Tagebuch_52\",\"1845_Tagebuch_52\",\"1845_Tagebuch_52\",\"1845_Tagebuch_52\",\"1845_Tagebuch_52\",\"1845_Tagebuch_52\",\"1845_Tagebuch_52\",\"1845_Tagebuch_52\",\"1845_Tagebuch_62\",\"1845_Tagebuch_62\",\"1845_Tagebuch_62\",\"1845_Tagebuch_62\",\"1845_Tagebuch_62\",\"1845_Tagebuch_62\",\"1845_Tagebuch_62\",\"1845_Tagebuch_62\",\"1845_Tagebuch_62\",\"1845_Tagebuch_62\",\"1845_Tagebuch_81\",\"1845_Tagebuch_81\",\"1845_Tagebuch_81\",\"1845_Tagebuch_81\",\"1845_Tagebuch_81\",\"1845_Tagebuch_81\",\"1845_Tagebuch_81\",\"1845_Tagebuch_81\",\"1845_Tagebuch_81\",\"1845_Tagebuch_81\",\"1845_Tagebuch_85\",\"1845_Tagebuch_85\",\"1845_Tagebuch_85\",\"1845_Tagebuch_85\",\"1845_Tagebuch_85\",\"1845_Tagebuch_85\",\"1845_Tagebuch_85\",\"1845_Tagebuch_85\",\"1845_Tagebuch_85\",\"1845_Tagebuch_85\",\"1845_Tagebuch_93\",\"1845_Tagebuch_93\",\"1845_Tagebuch_93\",\"1845_Tagebuch_93\",\"1845_Tagebuch_93\",\"1845_Tagebuch_93\",\"1845_Tagebuch_93\",\"1845_Tagebuch_93\",\"1845_Tagebuch_93\",\"1845_Tagebuch_93\",\"1846_Tagebuch_51\",\"1846_Tagebuch_51\",\"1846_Tagebuch_51\",\"1846_Tagebuch_51\",\"1846_Tagebuch_51\",\"1846_Tagebuch_51\",\"1846_Tagebuch_51\",\"1846_Tagebuch_51\",\"1846_Tagebuch_51\",\"1846_Tagebuch_51\",\"1846_Tagebuch_72\",\"1846_Tagebuch_72\",\"1846_Tagebuch_72\",\"1846_Tagebuch_72\",\"1846_Tagebuch_72\",\"1846_Tagebuch_72\",\"1846_Tagebuch_72\",\"1846_Tagebuch_72\",\"1846_Tagebuch_72\",\"1846_Tagebuch_72\",\"1846_Tagebuch_82\",\"1846_Tagebuch_82\",\"1846_Tagebuch_82\",\"1846_Tagebuch_82\",\"1846_Tagebuch_82\",\"1846_Tagebuch_82\",\"1846_Tagebuch_82\",\"1846_Tagebuch_82\",\"1846_Tagebuch_82\",\"1846_Tagebuch_82\",\"1846_Tagebuch_88\",\"1846_Tagebuch_88\",\"1846_Tagebuch_88\",\"1846_Tagebuch_88\",\"1846_Tagebuch_88\",\"1846_Tagebuch_88\",\"1846_Tagebuch_88\",\"1846_Tagebuch_88\",\"1846_Tagebuch_88\",\"1846_Tagebuch_88\",\"1846_Tagebuch_96\",\"1846_Tagebuch_96\",\"1846_Tagebuch_96\",\"1846_Tagebuch_96\",\"1846_Tagebuch_96\",\"1846_Tagebuch_96\",\"1846_Tagebuch_96\",\"1846_Tagebuch_96\",\"1846_Tagebuch_96\",\"1846_Tagebuch_96\",\"1914_Kriegstagebuch_37\",\"1914_Kriegstagebuch_37\",\"1914_Kriegstagebuch_37\",\"1914_Kriegstagebuch_37\",\"1914_Kriegstagebuch_37\",\"1914_Kriegstagebuch_37\",\"1914_Kriegstagebuch_37\",\"1914_Kriegstagebuch_37\",\"1914_Kriegstagebuch_37\",\"1914_Kriegstagebuch_37\",\"1914_Kriegstagebuch_68\",\"1914_Kriegstagebuch_68\",\"1914_Kriegstagebuch_68\",\"1914_Kriegstagebuch_68\",\"1914_Kriegstagebuch_68\",\"1914_Kriegstagebuch_68\",\"1914_Kriegstagebuch_68\",\"1914_Kriegstagebuch_68\",\"1914_Kriegstagebuch_68\",\"1914_Kriegstagebuch_68\",\"1914_Kriegstagebuch_94\",\"1914_Kriegstagebuch_94\",\"1914_Kriegstagebuch_94\",\"1914_Kriegstagebuch_94\",\"1914_Kriegstagebuch_94\",\"1914_Kriegstagebuch_94\",\"1914_Kriegstagebuch_94\",\"1914_Kriegstagebuch_94\",\"1914_Kriegstagebuch_94\",\"1914_Kriegstagebuch_94\",\"1914_Kriegstagebuch_95\",\"1914_Kriegstagebuch_95\",\"1914_Kriegstagebuch_95\",\"1914_Kriegstagebuch_95\",\"1914_Kriegstagebuch_95\",\"1914_Kriegstagebuch_95\",\"1914_Kriegstagebuch_95\",\"1914_Kriegstagebuch_95\",\"1914_Kriegstagebuch_95\",\"1914_Kriegstagebuch_95\",\"1914_Kriegstagebuch_97\",\"1914_Kriegstagebuch_97\",\"1914_Kriegstagebuch_97\",\"1914_Kriegstagebuch_97\",\"1914_Kriegstagebuch_97\",\"1914_Kriegstagebuch_97\",\"1914_Kriegstagebuch_97\",\"1914_Kriegstagebuch_97\",\"1914_Kriegstagebuch_97\",\"1914_Kriegstagebuch_97\",\"1915_Kriegstagebuch_33\",\"1915_Kriegstagebuch_33\",\"1915_Kriegstagebuch_33\",\"1915_Kriegstagebuch_33\",\"1915_Kriegstagebuch_33\",\"1915_Kriegstagebuch_33\",\"1915_Kriegstagebuch_33\",\"1915_Kriegstagebuch_33\",\"1915_Kriegstagebuch_33\",\"1915_Kriegstagebuch_33\",\"1915_Kriegstagebuch_39\",\"1915_Kriegstagebuch_39\",\"1915_Kriegstagebuch_39\",\"1915_Kriegstagebuch_39\",\"1915_Kriegstagebuch_39\",\"1915_Kriegstagebuch_39\",\"1915_Kriegstagebuch_39\",\"1915_Kriegstagebuch_39\",\"1915_Kriegstagebuch_39\",\"1915_Kriegstagebuch_39\",\"1915_Kriegstagebuch_73\",\"1915_Kriegstagebuch_73\",\"1915_Kriegstagebuch_73\",\"1915_Kriegstagebuch_73\",\"1915_Kriegstagebuch_73\",\"1915_Kriegstagebuch_73\",\"1915_Kriegstagebuch_73\",\"1915_Kriegstagebuch_73\",\"1915_Kriegstagebuch_73\",\"1915_Kriegstagebuch_73\",\"1915_Kriegstagebuch_94\",\"1915_Kriegstagebuch_94\",\"1915_Kriegstagebuch_94\",\"1915_Kriegstagebuch_94\",\"1915_Kriegstagebuch_94\",\"1915_Kriegstagebuch_94\",\"1915_Kriegstagebuch_94\",\"1915_Kriegstagebuch_94\",\"1915_Kriegstagebuch_94\",\"1915_Kriegstagebuch_94\",\"1915_Kriegstagebuch_99\",\"1915_Kriegstagebuch_99\",\"1915_Kriegstagebuch_99\",\"1915_Kriegstagebuch_99\",\"1915_Kriegstagebuch_99\",\"1915_Kriegstagebuch_99\",\"1915_Kriegstagebuch_99\",\"1915_Kriegstagebuch_99\",\"1915_Kriegstagebuch_99\",\"1915_Kriegstagebuch_99\",\"1916_Kriegstagebuch_41\",\"1916_Kriegstagebuch_41\",\"1916_Kriegstagebuch_41\",\"1916_Kriegstagebuch_41\",\"1916_Kriegstagebuch_41\",\"1916_Kriegstagebuch_41\",\"1916_Kriegstagebuch_41\",\"1916_Kriegstagebuch_41\",\"1916_Kriegstagebuch_41\",\"1916_Kriegstagebuch_41\",\"1916_Kriegstagebuch_48\",\"1916_Kriegstagebuch_48\",\"1916_Kriegstagebuch_48\",\"1916_Kriegstagebuch_48\",\"1916_Kriegstagebuch_48\",\"1916_Kriegstagebuch_48\",\"1916_Kriegstagebuch_48\",\"1916_Kriegstagebuch_48\",\"1916_Kriegstagebuch_48\",\"1916_Kriegstagebuch_48\",\"1916_Kriegstagebuch_49\",\"1916_Kriegstagebuch_49\",\"1916_Kriegstagebuch_49\",\"1916_Kriegstagebuch_49\",\"1916_Kriegstagebuch_49\",\"1916_Kriegstagebuch_49\",\"1916_Kriegstagebuch_49\",\"1916_Kriegstagebuch_49\",\"1916_Kriegstagebuch_49\",\"1916_Kriegstagebuch_49\",\"1916_Kriegstagebuch_69\",\"1916_Kriegstagebuch_69\",\"1916_Kriegstagebuch_69\",\"1916_Kriegstagebuch_69\",\"1916_Kriegstagebuch_69\",\"1916_Kriegstagebuch_69\",\"1916_Kriegstagebuch_69\",\"1916_Kriegstagebuch_69\",\"1916_Kriegstagebuch_69\",\"1916_Kriegstagebuch_69\",\"1916_Kriegstagebuch_81\",\"1916_Kriegstagebuch_81\",\"1916_Kriegstagebuch_81\",\"1916_Kriegstagebuch_81\",\"1916_Kriegstagebuch_81\",\"1916_Kriegstagebuch_81\",\"1916_Kriegstagebuch_81\",\"1916_Kriegstagebuch_81\",\"1916_Kriegstagebuch_81\",\"1916_Kriegstagebuch_81\"],\"Score\":{\"__ndarray__\":\"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\",\"dtype\":\"float64\",\"shape\":[300]},\"Topic\":[\"m\\u00e4rz lassen stadt\",\"leipzig leipziger zeitung\",\"dezember t\\u00fcrken englische\",\"september august frankreich\",\"oesterreich lassen berlin\",\"frankreich preu\\u00dfen lamennais\",\"dezember juli abgewiesen\",\"abgewiesen genommen s\\u00fcdlich\",\"abgeschlagen s\\u00fcdlich westlich\",\"presse himmel briefe\",\"m\\u00e4rz lassen stadt\",\"leipzig leipziger zeitung\",\"dezember t\\u00fcrken englische\",\"september august frankreich\",\"oesterreich lassen berlin\",\"frankreich preu\\u00dfen lamennais\",\"dezember juli abgewiesen\",\"abgewiesen genommen s\\u00fcdlich\",\"abgeschlagen s\\u00fcdlich westlich\",\"presse himmel briefe\",\"m\\u00e4rz lassen stadt\",\"leipzig leipziger zeitung\",\"dezember t\\u00fcrken englische\",\"september august frankreich\",\"oesterreich lassen berlin\",\"frankreich preu\\u00dfen lamennais\",\"dezember juli abgewiesen\",\"abgewiesen genommen s\\u00fcdlich\",\"abgeschlagen s\\u00fcdlich westlich\",\"presse himmel briefe\",\"m\\u00e4rz lassen stadt\",\"leipzig leipziger zeitung\",\"dezember t\\u00fcrken englische\",\"september august frankreich\",\"oesterreich lassen berlin\",\"frankreich preu\\u00dfen lamennais\",\"dezember juli abgewiesen\",\"abgewiesen genommen s\\u00fcdlich\",\"abgeschlagen s\\u00fcdlich westlich\",\"presse himmel briefe\",\"m\\u00e4rz lassen stadt\",\"leipzig leipziger zeitung\",\"dezember t\\u00fcrken englische\",\"september august frankreich\",\"oesterreich lassen berlin\",\"frankreich preu\\u00dfen lamennais\",\"dezember juli abgewiesen\",\"abgewiesen genommen s\\u00fcdlich\",\"abgeschlagen s\\u00fcdlich westlich\",\"presse himmel briefe\",\"m\\u00e4rz lassen stadt\",\"leipzig leipziger zeitung\",\"dezember t\\u00fcrken englische\",\"september august frankreich\",\"oesterreich lassen berlin\",\"frankreich preu\\u00dfen lamennais\",\"dezember juli abgewiesen\",\"abgewiesen genommen s\\u00fcdlich\",\"abgeschlagen s\\u00fcdlich westlich\",\"presse himmel briefe\",\"m\\u00e4rz lassen stadt\",\"leipzig leipziger zeitung\",\"dezember t\\u00fcrken englische\",\"september august frankreich\",\"oesterreich lassen berlin\",\"frankreich preu\\u00dfen lamennais\",\"dezember juli abgewiesen\",\"abgewiesen genommen s\\u00fcdlich\",\"abgeschlagen s\\u00fcdlich westlich\",\"presse himmel briefe\",\"m\\u00e4rz lassen stadt\",\"leipzig leipziger zeitung\",\"dezember t\\u00fcrken englische\",\"september august frankreich\",\"oesterreich lassen berlin\",\"frankreich preu\\u00dfen lamennais\",\"dezember juli abgewiesen\",\"abgewiesen genommen s\\u00fcdlich\",\"abgeschlagen s\\u00fcdlich westlich\",\"presse himmel briefe\",\"m\\u00e4rz lassen stadt\",\"leipzig leipziger zeitung\",\"dezember t\\u00fcrken englische\",\"september august frankreich\",\"oesterreich lassen berlin\",\"frankreich preu\\u00dfen lamennais\",\"dezember juli abgewiesen\",\"abgewiesen genommen s\\u00fcdlich\",\"abgeschlagen s\\u00fcdlich westlich\",\"presse himmel briefe\",\"m\\u00e4rz lassen stadt\",\"leipzig leipziger zeitung\",\"dezember t\\u00fcrken englische\",\"september august frankreich\",\"oesterreich lassen berlin\",\"frankreich preu\\u00dfen lamennais\",\"dezember juli abgewiesen\",\"abgewiesen genommen s\\u00fcdlich\",\"abgeschlagen s\\u00fcdlich westlich\",\"presse himmel briefe\",\"m\\u00e4rz lassen stadt\",\"leipzig leipziger zeitung\",\"dezember t\\u00fcrken englische\",\"september august frankreich\",\"oesterreich lassen berlin\",\"frankreich preu\\u00dfen lamennais\",\"dezember juli abgewiesen\",\"abgewiesen genommen s\\u00fcdlich\",\"abgeschlagen s\\u00fcdlich westlich\",\"presse himmel briefe\",\"m\\u00e4rz lassen stadt\",\"leipzig leipziger zeitung\",\"dezember t\\u00fcrken englische\",\"september august frankreich\",\"oesterreich lassen berlin\",\"frankreich preu\\u00dfen lamennais\",\"dezember juli abgewiesen\",\"abgewiesen genommen s\\u00fcdlich\",\"abgeschlagen s\\u00fcdlich westlich\",\"presse himmel briefe\",\"m\\u00e4rz lassen stadt\",\"leipzig leipziger zeitung\",\"dezember t\\u00fcrken englische\",\"september august frankreich\",\"oesterreich lassen berlin\",\"frankreich preu\\u00dfen lamennais\",\"dezember juli abgewiesen\",\"abgewiesen genommen s\\u00fcdlich\",\"abgeschlagen s\\u00fcdlich westlich\",\"presse himmel briefe\",\"m\\u00e4rz lassen stadt\",\"leipzig leipziger zeitung\",\"dezember t\\u00fcrken englische\",\"september august frankreich\",\"oesterreich lassen berlin\",\"frankreich preu\\u00dfen lamennais\",\"dezember juli abgewiesen\",\"abgewiesen genommen s\\u00fcdlich\",\"abgeschlagen s\\u00fcdlich westlich\",\"presse himmel briefe\",\"m\\u00e4rz lassen stadt\",\"leipzig leipziger zeitung\",\"dezember t\\u00fcrken englische\",\"september august frankreich\",\"oesterreich lassen berlin\",\"frankreich preu\\u00dfen lamennais\",\"dezember juli abgewiesen\",\"abgewiesen genommen s\\u00fcdlich\",\"abgeschlagen s\\u00fcdlich westlich\",\"presse himmel briefe\",\"m\\u00e4rz lassen stadt\",\"leipzig leipziger zeitung\",\"dezember t\\u00fcrken englische\",\"september august frankreich\",\"oesterreich lassen berlin\",\"frankreich preu\\u00dfen lamennais\",\"dezember juli abgewiesen\",\"abgewiesen genommen s\\u00fcdlich\",\"abgeschlagen s\\u00fcdlich westlich\",\"presse himmel briefe\",\"m\\u00e4rz lassen stadt\",\"leipzig leipziger zeitung\",\"dezember t\\u00fcrken englische\",\"september august frankreich\",\"oesterreich lassen berlin\",\"frankreich preu\\u00dfen lamennais\",\"dezember juli abgewiesen\",\"abgewiesen genommen s\\u00fcdlich\",\"abgeschlagen s\\u00fcdlich westlich\",\"presse himmel briefe\",\"m\\u00e4rz lassen stadt\",\"leipzig leipziger zeitung\",\"dezember t\\u00fcrken englische\",\"september august frankreich\",\"oesterreich lassen berlin\",\"frankreich preu\\u00dfen lamennais\",\"dezember juli abgewiesen\",\"abgewiesen genommen s\\u00fcdlich\",\"abgeschlagen s\\u00fcdlich westlich\",\"presse himmel briefe\",\"m\\u00e4rz lassen stadt\",\"leipzig leipziger zeitung\",\"dezember t\\u00fcrken englische\",\"september august frankreich\",\"oesterreich lassen berlin\",\"frankreich preu\\u00dfen lamennais\",\"dezember juli abgewiesen\",\"abgewiesen genommen s\\u00fcdlich\",\"abgeschlagen s\\u00fcdlich westlich\",\"presse himmel briefe\",\"m\\u00e4rz lassen stadt\",\"leipzig leipziger zeitung\",\"dezember t\\u00fcrken englische\",\"september august frankreich\",\"oesterreich lassen berlin\",\"frankreich preu\\u00dfen lamennais\",\"dezember juli abgewiesen\",\"abgewiesen genommen s\\u00fcdlich\",\"abgeschlagen s\\u00fcdlich westlich\",\"presse himmel briefe\",\"m\\u00e4rz lassen stadt\",\"leipzig leipziger zeitung\",\"dezember t\\u00fcrken englische\",\"september august frankreich\",\"oesterreich lassen berlin\",\"frankreich preu\\u00dfen lamennais\",\"dezember juli abgewiesen\",\"abgewiesen genommen s\\u00fcdlich\",\"abgeschlagen s\\u00fcdlich westlich\",\"presse himmel briefe\",\"m\\u00e4rz lassen stadt\",\"leipzig leipziger zeitung\",\"dezember t\\u00fcrken englische\",\"september august frankreich\",\"oesterreich lassen berlin\",\"frankreich preu\\u00dfen lamennais\",\"dezember juli abgewiesen\",\"abgewiesen genommen s\\u00fcdlich\",\"abgeschlagen s\\u00fcdlich westlich\",\"presse himmel briefe\",\"m\\u00e4rz lassen stadt\",\"leipzig leipziger zeitung\",\"dezember t\\u00fcrken englische\",\"september august frankreich\",\"oesterreich lassen berlin\",\"frankreich preu\\u00dfen lamennais\",\"dezember juli abgewiesen\",\"abgewiesen genommen s\\u00fcdlich\",\"abgeschlagen s\\u00fcdlich westlich\",\"presse himmel briefe\",\"m\\u00e4rz lassen stadt\",\"leipzig leipziger zeitung\",\"dezember t\\u00fcrken englische\",\"september august frankreich\",\"oesterreich lassen berlin\",\"frankreich preu\\u00dfen lamennais\",\"dezember juli abgewiesen\",\"abgewiesen genommen s\\u00fcdlich\",\"abgeschlagen s\\u00fcdlich westlich\",\"presse himmel briefe\",\"m\\u00e4rz lassen stadt\",\"leipzig leipziger zeitung\",\"dezember t\\u00fcrken englische\",\"september august frankreich\",\"oesterreich lassen berlin\",\"frankreich preu\\u00dfen lamennais\",\"dezember juli abgewiesen\",\"abgewiesen genommen s\\u00fcdlich\",\"abgeschlagen s\\u00fcdlich westlich\",\"presse himmel briefe\",\"m\\u00e4rz lassen stadt\",\"leipzig leipziger zeitung\",\"dezember t\\u00fcrken englische\",\"september august frankreich\",\"oesterreich lassen berlin\",\"frankreich preu\\u00dfen lamennais\",\"dezember juli abgewiesen\",\"abgewiesen genommen s\\u00fcdlich\",\"abgeschlagen s\\u00fcdlich westlich\",\"presse himmel briefe\",\"m\\u00e4rz lassen stadt\",\"leipzig leipziger zeitung\",\"dezember t\\u00fcrken englische\",\"september august frankreich\",\"oesterreich lassen berlin\",\"frankreich preu\\u00dfen lamennais\",\"dezember juli abgewiesen\",\"abgewiesen genommen s\\u00fcdlich\",\"abgeschlagen s\\u00fcdlich westlich\",\"presse himmel briefe\",\"m\\u00e4rz lassen stadt\",\"leipzig leipziger zeitung\",\"dezember t\\u00fcrken englische\",\"september august frankreich\",\"oesterreich lassen berlin\",\"frankreich preu\\u00dfen lamennais\",\"dezember juli abgewiesen\",\"abgewiesen genommen s\\u00fcdlich\",\"abgeschlagen s\\u00fcdlich westlich\",\"presse himmel briefe\",\"m\\u00e4rz lassen stadt\",\"leipzig leipziger zeitung\",\"dezember t\\u00fcrken englische\",\"september august frankreich\",\"oesterreich lassen berlin\",\"frankreich preu\\u00dfen lamennais\",\"dezember juli abgewiesen\",\"abgewiesen genommen s\\u00fcdlich\",\"abgeschlagen s\\u00fcdlich westlich\",\"presse himmel briefe\",\"m\\u00e4rz lassen stadt\",\"leipzig leipziger zeitung\",\"dezember t\\u00fcrken englische\",\"september august frankreich\",\"oesterreich lassen berlin\",\"frankreich preu\\u00dfen lamennais\",\"dezember juli abgewiesen\",\"abgewiesen genommen s\\u00fcdlich\",\"abgeschlagen s\\u00fcdlich westlich\",\"presse himmel briefe\"],\"index\":[0,1,2,3,4,5,6,7,8,9,10,11,12,13,14,15,16,17,18,19,20,21,22,23,24,25,26,27,28,29,30,31,32,33,34,35,36,37,38,39,40,41,42,43,44,45,46,47,48,49,50,51,52,53,54,55,56,57,58,59,60,61,62,63,64,65,66,67,68,69,70,71,72,73,74,75,76,77,78,79,80,81,82,83,84,85,86,87,88,89,90,91,92,93,94,95,96,97,98,99,100,101,102,103,104,105,106,107,108,109,110,111,112,113,114,115,116,117,118,119,120,121,122,123,124,125,126,127,128,129,130,131,132,133,134,135,136,137,138,139,140,141,142,143,144,145,146,147,148,149,150,151,152,153,154,155,156,157,158,159,160,161,162,163,164,165,166,167,168,169,170,171,172,173,174,175,176,177,178,179,180,181,182,183,184,185,186,187,188,189,190,191,192,193,194,195,196,197,198,199,200,201,202,203,204,205,206,207,208,209,210,211,212,213,214,215,216,217,218,219,220,221,222,223,224,225,226,227,228,229,230,231,232,233,234,235,236,237,238,239,240,241,242,243,244,245,246,247,248,249,250,251,252,253,254,255,256,257,258,259,260,261,262,263,264,265,266,267,268,269,270,271,272,273,274,275,276,277,278,279,280,281,282,283,284,285,286,287,288,289,290,291,292,293,294,295,296,297,298,299]}},\"id\":\"1c4b61eb-af18-44d8-a9be-d73327b1eb4b\",\"type\":\"ColumnDataSource\"},{\"attributes\":{\"grid_line_color\":{\"value\":null},\"plot\":{\"id\":\"987aeab1-9af2-4426-99ab-aa57c0384dbc\",\"subtype\":\"Figure\",\"type\":\"Plot\"},\"ticker\":{\"id\":\"4a50ede8-5ebb-493c-a821-cf8b847db31d\",\"type\":\"CategoricalTicker\"}},\"id\":\"a6402c89-c6b7-40a9-a943-9a2653dbe9e4\",\"type\":\"Grid\"},{\"attributes\":{\"fill_color\":{\"field\":\"Score\",\"transform\":{\"id\":\"533036f1-3304-4369-a6cb-953b5b7ffaeb\",\"type\":\"LinearColorMapper\"}},\"height\":{\"units\":\"data\",\"value\":1},\"line_color\":{\"value\":null},\"width\":{\"units\":\"data\",\"value\":1},\"x\":{\"field\":\"Document\"},\"y\":{\"field\":\"Topic\"}},\"id\":\"4fa0ef87-c2ca-4df0-82f1-2add78a42382\",\"type\":\"Rect\"},{\"attributes\":{},\"id\":\"78cf2391-32e1-4b15-a2ab-32756abb2b88\",\"type\":\"CategoricalTickFormatter\"},{\"attributes\":{\"source\":{\"id\":\"1c4b61eb-af18-44d8-a9be-d73327b1eb4b\",\"type\":\"ColumnDataSource\"}},\"id\":\"4da1c767-e43e-4999-b7af-7322468cd962\",\"type\":\"CDSView\"},{\"attributes\":{\"fill_alpha\":{\"value\":0.1},\"fill_color\":{\"value\":\"#1f77b4\"},\"height\":{\"units\":\"data\",\"value\":1},\"line_alpha\":{\"value\":0.1},\"line_color\":{\"value\":\"#1f77b4\"},\"width\":{\"units\":\"data\",\"value\":1},\"x\":{\"field\":\"Document\"},\"y\":{\"field\":\"Topic\"}},\"id\":\"2a474ea1-2261-4765-b582-c1ae219e6e34\",\"type\":\"Rect\"},{\"attributes\":{},\"id\":\"4568a325-7d6f-49cf-b657-2de371973cb0\",\"type\":\"CategoricalTicker\"},{\"attributes\":{\"axis_line_color\":{\"value\":null},\"formatter\":{\"id\":\"78cf2391-32e1-4b15-a2ab-32756abb2b88\",\"type\":\"CategoricalTickFormatter\"},\"major_label_orientation\":1.0471975511965976,\"major_label_standoff\":0,\"major_label_text_font_size\":{\"value\":\"9pt\"},\"major_tick_line_color\":{\"value\":null},\"plot\":{\"id\":\"987aeab1-9af2-4426-99ab-aa57c0384dbc\",\"subtype\":\"Figure\",\"type\":\"Plot\"},\"ticker\":{\"id\":\"4a50ede8-5ebb-493c-a821-cf8b847db31d\",\"type\":\"CategoricalTicker\"}},\"id\":\"2fe2abd9-726b-4b5b-bb72-3aebe3fa005a\",\"type\":\"CategoricalAxis\"},{\"attributes\":{},\"id\":\"de97a258-e99f-4a07-9620-38a2dbd20841\",\"type\":\"CategoricalTickFormatter\"},{\"attributes\":{\"dimension\":1,\"grid_line_color\":{\"value\":null},\"plot\":{\"id\":\"987aeab1-9af2-4426-99ab-aa57c0384dbc\",\"subtype\":\"Figure\",\"type\":\"Plot\"},\"ticker\":{\"id\":\"4568a325-7d6f-49cf-b657-2de371973cb0\",\"type\":\"CategoricalTicker\"}},\"id\":\"4cb7c7d3-0b53-4b7c-969b-2257aeeb3248\",\"type\":\"Grid\"},{\"attributes\":{\"above\":[{\"id\":\"2fe2abd9-726b-4b5b-bb72-3aebe3fa005a\",\"type\":\"CategoricalAxis\"}],\"left\":[{\"id\":\"82611ebc-a0e3-477b-9fad-42a47078ff26\",\"type\":\"CategoricalAxis\"}],\"plot_height\":768,\"plot_width\":1024,\"renderers\":[{\"id\":\"2fe2abd9-726b-4b5b-bb72-3aebe3fa005a\",\"type\":\"CategoricalAxis\"},{\"id\":\"a6402c89-c6b7-40a9-a943-9a2653dbe9e4\",\"type\":\"Grid\"},{\"id\":\"82611ebc-a0e3-477b-9fad-42a47078ff26\",\"type\":\"CategoricalAxis\"},{\"id\":\"4cb7c7d3-0b53-4b7c-969b-2257aeeb3248\",\"type\":\"Grid\"},{\"id\":\"16097a7e-d116-4ac4-93c4-1d1372f8c53f\",\"type\":\"BoxAnnotation\"},{\"id\":\"802cbda5-9eb5-4ac4-a24d-58b8bb4a4680\",\"type\":\"GlyphRenderer\"},{\"id\":\"fc06abfa-7c41-484a-879e-1c015786cfba\",\"type\":\"ColorBar\"}],\"right\":[{\"id\":\"fc06abfa-7c41-484a-879e-1c015786cfba\",\"type\":\"ColorBar\"}],\"sizing_mode\":\"scale_width\",\"title\":{\"id\":\"a8ec016f-7bd5-45b8-aeb7-b8de575f1b56\",\"type\":\"Title\"},\"toolbar\":{\"id\":\"74c76492-5880-4398-a164-c99222fedfe8\",\"type\":\"Toolbar\"},\"toolbar_location\":\"below\",\"x_range\":{\"id\":\"bd27c7eb-a3e5-40f4-921d-4ccc4cc69478\",\"type\":\"FactorRange\"},\"x_scale\":{\"id\":\"2172c5c5-3137-45ca-9187-fd5e5ebf3864\",\"type\":\"CategoricalScale\"},\"y_range\":{\"id\":\"d0d8328d-f09e-4733-87d5-58d8aacb7621\",\"type\":\"FactorRange\"},\"y_scale\":{\"id\":\"507b4382-e23e-4483-8612-c0fd1874dd70\",\"type\":\"CategoricalScale\"}},\"id\":\"987aeab1-9af2-4426-99ab-aa57c0384dbc\",\"subtype\":\"Figure\",\"type\":\"Plot\"},{\"attributes\":{},\"id\":\"57d93976-7789-4f73-9d14-4c16f1fcf573\",\"type\":\"BasicTickFormatter\"},{\"attributes\":{\"callback\":null,\"factors\":[\"1844_Tagebuch_56\",\"1844_Tagebuch_70\",\"1844_Tagebuch_77\",\"1844_Tagebuch_82\",\"1844_Tagebuch_88\",\"1845_Tagebuch_52\",\"1845_Tagebuch_62\",\"1845_Tagebuch_81\",\"1845_Tagebuch_85\",\"1845_Tagebuch_93\",\"1846_Tagebuch_51\",\"1846_Tagebuch_72\",\"1846_Tagebuch_82\",\"1846_Tagebuch_88\",\"1846_Tagebuch_96\",\"1914_Kriegstagebuch_37\",\"1914_Kriegstagebuch_68\",\"1914_Kriegstagebuch_94\",\"1914_Kriegstagebuch_95\",\"1914_Kriegstagebuch_97\",\"1915_Kriegstagebuch_33\",\"1915_Kriegstagebuch_39\",\"1915_Kriegstagebuch_73\",\"1915_Kriegstagebuch_94\",\"1915_Kriegstagebuch_99\",\"1916_Kriegstagebuch_41\",\"1916_Kriegstagebuch_48\",\"1916_Kriegstagebuch_49\",\"1916_Kriegstagebuch_69\",\"1916_Kriegstagebuch_81\"]},\"id\":\"bd27c7eb-a3e5-40f4-921d-4ccc4cc69478\",\"type\":\"FactorRange\"},{\"attributes\":{},\"id\":\"c8061479-3dab-4f0e-99f1-5539b52986af\",\"type\":\"PanTool\"},{\"attributes\":{\"high\":0.9995678945541298,\"low\":0.0,\"palette\":[\"#c6dbef\",\"#9ecae1\",\"#6baed6\",\"#4292c6\",\"#2171b5\",\"#08519c\",\"#08306b\"]},\"id\":\"533036f1-3304-4369-a6cb-953b5b7ffaeb\",\"type\":\"LinearColorMapper\"},{\"attributes\":{},\"id\":\"3fcfb39e-7746-4430-b064-38432c439121\",\"type\":\"SaveTool\"},{\"attributes\":{\"desired_num_ticks\":7},\"id\":\"f2571fcb-2504-4d13-837d-4f4f46b069fd\",\"type\":\"BasicTicker\"},{\"attributes\":{\"data_source\":{\"id\":\"1c4b61eb-af18-44d8-a9be-d73327b1eb4b\",\"type\":\"ColumnDataSource\"},\"glyph\":{\"id\":\"4fa0ef87-c2ca-4df0-82f1-2add78a42382\",\"type\":\"Rect\"},\"hover_glyph\":null,\"muted_glyph\":null,\"nonselection_glyph\":{\"id\":\"2a474ea1-2261-4765-b582-c1ae219e6e34\",\"type\":\"Rect\"},\"selection_glyph\":null,\"view\":{\"id\":\"4da1c767-e43e-4999-b7af-7322468cd962\",\"type\":\"CDSView\"}},\"id\":\"802cbda5-9eb5-4ac4-a24d-58b8bb4a4680\",\"type\":\"GlyphRenderer\"},{\"attributes\":{\"callback\":null,\"tooltips\":[[\"Document\",\"@Document\"],[\"Topic\",\"@Topic\"],[\"Score\",\"@Score\"]]},\"id\":\"34684205-2691-4e2b-b9c8-763247e23c0d\",\"type\":\"HoverTool\"},{\"attributes\":{\"plot\":null,\"text\":\"Grenzboten\"},\"id\":\"a8ec016f-7bd5-45b8-aeb7-b8de575f1b56\",\"type\":\"Title\"},{\"attributes\":{\"overlay\":{\"id\":\"16097a7e-d116-4ac4-93c4-1d1372f8c53f\",\"type\":\"BoxAnnotation\"}},\"id\":\"22ac191e-5e1e-4163-9e86-34556036db71\",\"type\":\"BoxZoomTool\"},{\"attributes\":{},\"id\":\"507b4382-e23e-4483-8612-c0fd1874dd70\",\"type\":\"CategoricalScale\"},{\"attributes\":{},\"id\":\"4a50ede8-5ebb-493c-a821-cf8b847db31d\",\"type\":\"CategoricalTicker\"},{\"attributes\":{},\"id\":\"7bfafd61-87ad-4275-8e41-e6f4d6d0e67f\",\"type\":\"ResetTool\"},{\"attributes\":{\"bottom_units\":\"screen\",\"fill_alpha\":{\"value\":0.5},\"fill_color\":{\"value\":\"lightgrey\"},\"left_units\":\"screen\",\"level\":\"overlay\",\"line_alpha\":{\"value\":1.0},\"line_color\":{\"value\":\"black\"},\"line_dash\":[4,4],\"line_width\":{\"value\":2},\"plot\":null,\"render_mode\":\"css\",\"right_units\":\"screen\",\"top_units\":\"screen\"},\"id\":\"16097a7e-d116-4ac4-93c4-1d1372f8c53f\",\"type\":\"BoxAnnotation\"},{\"attributes\":{\"color_mapper\":{\"id\":\"533036f1-3304-4369-a6cb-953b5b7ffaeb\",\"type\":\"LinearColorMapper\"},\"formatter\":{\"id\":\"57d93976-7789-4f73-9d14-4c16f1fcf573\",\"type\":\"BasicTickFormatter\"},\"label_standoff\":6,\"location\":[0,0],\"major_label_text_font_size\":{\"value\":\"10pt\"},\"plot\":{\"id\":\"987aeab1-9af2-4426-99ab-aa57c0384dbc\",\"subtype\":\"Figure\",\"type\":\"Plot\"},\"ticker\":{\"id\":\"f2571fcb-2504-4d13-837d-4f4f46b069fd\",\"type\":\"BasicTicker\"}},\"id\":\"fc06abfa-7c41-484a-879e-1c015786cfba\",\"type\":\"ColorBar\"},{\"attributes\":{\"callback\":null,\"factors\":[\"presse himmel briefe\",\"abgeschlagen s\\u00fcdlich westlich\",\"abgewiesen genommen s\\u00fcdlich\",\"dezember juli abgewiesen\",\"frankreich preu\\u00dfen lamennais\",\"oesterreich lassen berlin\",\"september august frankreich\",\"dezember t\\u00fcrken englische\",\"leipzig leipziger zeitung\",\"m\\u00e4rz lassen stadt\"]},\"id\":\"d0d8328d-f09e-4733-87d5-58d8aacb7621\",\"type\":\"FactorRange\"},{\"attributes\":{},\"id\":\"2172c5c5-3137-45ca-9187-fd5e5ebf3864\",\"type\":\"CategoricalScale\"},{\"attributes\":{},\"id\":\"184a2277-a1db-4c36-9009-16a8a89d1ef3\",\"type\":\"WheelZoomTool\"},{\"attributes\":{\"axis_line_color\":{\"value\":null},\"formatter\":{\"id\":\"de97a258-e99f-4a07-9620-38a2dbd20841\",\"type\":\"CategoricalTickFormatter\"},\"major_label_standoff\":0,\"major_label_text_font_size\":{\"value\":\"9pt\"},\"major_tick_line_color\":{\"value\":null},\"plot\":{\"id\":\"987aeab1-9af2-4426-99ab-aa57c0384dbc\",\"subtype\":\"Figure\",\"type\":\"Plot\"},\"ticker\":{\"id\":\"4568a325-7d6f-49cf-b657-2de371973cb0\",\"type\":\"CategoricalTicker\"}},\"id\":\"82611ebc-a0e3-477b-9fad-42a47078ff26\",\"type\":\"CategoricalAxis\"},{\"attributes\":{\"active_drag\":\"auto\",\"active_inspect\":\"auto\",\"active_scroll\":\"auto\",\"active_tap\":\"auto\",\"tools\":[{\"id\":\"34684205-2691-4e2b-b9c8-763247e23c0d\",\"type\":\"HoverTool\"},{\"id\":\"3fcfb39e-7746-4430-b064-38432c439121\",\"type\":\"SaveTool\"},{\"id\":\"c8061479-3dab-4f0e-99f1-5539b52986af\",\"type\":\"PanTool\"},{\"id\":\"22ac191e-5e1e-4163-9e86-34556036db71\",\"type\":\"BoxZoomTool\"},{\"id\":\"7bfafd61-87ad-4275-8e41-e6f4d6d0e67f\",\"type\":\"ResetTool\"},{\"id\":\"184a2277-a1db-4c36-9009-16a8a89d1ef3\",\"type\":\"WheelZoomTool\"}]},\"id\":\"74c76492-5880-4398-a164-c99222fedfe8\",\"type\":\"Toolbar\"}],\"root_ids\":[\"987aeab1-9af2-4426-99ab-aa57c0384dbc\"]},\"title\":\"Bokeh Application\",\"version\":\"0.12.9\"}};\n",
       "    var render_items = [{\"docid\":\"7bb3839f-fdf2-4a10-9752-2ce1ea0756c0\",\"elementid\":\"349d8159-a9dc-4c30-9621-ec2500a826f6\",\"modelid\":\"987aeab1-9af2-4426-99ab-aa57c0384dbc\",\"notebook_comms_target\":\"a23cea9c-632e-47e3-bf0e-55f6fcd2fe6b\"}];\n",
       "\n",
       "    root.Bokeh.embed.embed_items(docs_json, render_items);\n",
       "  }\n",
       "\n",
       "  if (root.Bokeh !== undefined) {\n",
       "    embed_document(root);\n",
       "  } else {\n",
       "    var attempts = 0;\n",
       "    var timer = setInterval(function(root) {\n",
       "      if (root.Bokeh !== undefined) {\n",
       "        embed_document(root);\n",
       "        clearInterval(timer);\n",
       "      }\n",
       "      attempts++;\n",
       "      if (attempts > 100) {\n",
       "        console.log(\"Bokeh: ERROR: Unable to embed document because BokehJS library is missing\")\n",
       "        clearInterval(timer);\n",
       "      }\n",
       "    }, 10, root)\n",
       "  }\n",
       "})(window);"
      ],
      "application/vnd.bokehjs_exec.v0+json": ""
     },
     "metadata": {
      "application/vnd.bokehjs_exec.v0+json": {
       "id": "987aeab1-9af2-4426-99ab-aa57c0384dbc"
      }
     },
     "output_type": "display_data"
    },
    {
     "data": {
      "text/html": [
       "<p><code>&lt;Bokeh Notebook handle for <strong>In[11]</strong>&gt;</code></p>"
      ],
      "text/plain": [
       "<bokeh.io._CommsHandle at 0x2047e5f7908>"
      ]
     },
     "execution_count": 27,
     "metadata": {},
     "output_type": "execute_result"
    }
   ],
   "source": [
    "plot = visualization.doc_topic_heatmap_interactive(document_topics, title='Grenzboten')\n",
    "show(plot, notebook_handle=True)"
   ]
  },
  {
   "cell_type": "markdown",
   "metadata": {},
   "source": [
    "Or a static heatmap:"
   ]
  },
  {
   "cell_type": "code",
   "execution_count": 28,
   "metadata": {
    "collapsed": false
   },
   "outputs": [
    {
     "data": {
      "text/plain": [
       "<module 'matplotlib.pyplot' from 'C:\\\\Program Files\\\\WinPython-64bit-3.5.2.2\\\\python-3.5.2.amd64\\\\lib\\\\site-packages\\\\matplotlib\\\\pyplot.py'>"
      ]
     },
     "execution_count": 28,
     "metadata": {},
     "output_type": "execute_result"
    },
    {
     "data": {
      "image/png": "[encoded data removed]",
      "text/plain": [
       "<matplotlib.figure.Figure at 0x2047c0465c0>"
      ]
     },
     "metadata": {},
     "output_type": "display_data"
    }
   ],
   "source": [
    "visualization.doc_topic_heatmap(document_topics)"
   ]
  }
 ],
 "metadata": {
  "kernelspec": {
   "display_name": "Python 3",
   "language": "python",
   "name": "python3"
  },
  "language_info": {
   "codemirror_mode": {
    "name": "ipython",
    "version": 3
   },
   "file_extension": ".py",
   "mimetype": "text/x-python",
   "name": "python",
   "nbconvert_exporter": "python",
   "pygments_lexer": "ipython3",
   "version": "3.5.2"
  }
 },
 "nbformat": 4,
 "nbformat_minor": 1
}
